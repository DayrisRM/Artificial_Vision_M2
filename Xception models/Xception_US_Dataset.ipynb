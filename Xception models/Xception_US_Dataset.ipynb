{
  "nbformat": 4,
  "nbformat_minor": 0,
  "metadata": {
    "colab": {
      "provenance": [],
      "authorship_tag": "ABX9TyPqjXNCw7K+mromLfObv8oC"
    },
    "kernelspec": {
      "name": "python3",
      "display_name": "Python 3"
    },
    "language_info": {
      "name": "python"
    },
    "accelerator": "GPU",
    "gpuClass": "standard"
  },
  "cells": [
    {
      "cell_type": "code",
      "execution_count": 1,
      "metadata": {
        "colab": {
          "resources": {
            "http://localhost:8080/nbextensions/google.colab/files.js": {
              "data": "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",
              "ok": true,
              "headers": [
                [
                  "content-type",
                  "application/javascript"
                ]
              ],
              "status": 200,
              "status_text": ""
            }
          },
          "base_uri": "https://localhost:8080/",
          "height": 73
        },
        "id": "QWBcHHh0Fiur",
        "outputId": "7c43dca9-b128-433a-99a1-edb7f06401ab"
      },
      "outputs": [
        {
          "output_type": "display_data",
          "data": {
            "text/plain": [
              "<IPython.core.display.HTML object>"
            ],
            "text/html": [
              "\n",
              "     <input type=\"file\" id=\"files-e48cd966-f103-498e-8dcc-a59dbdbfc751\" name=\"files[]\" multiple disabled\n",
              "        style=\"border:none\" />\n",
              "     <output id=\"result-e48cd966-f103-498e-8dcc-a59dbdbfc751\">\n",
              "      Upload widget is only available when the cell has been executed in the\n",
              "      current browser session. Please rerun this cell to enable.\n",
              "      </output>\n",
              "      <script src=\"/nbextensions/google.colab/files.js\"></script> "
            ]
          },
          "metadata": {}
        },
        {
          "output_type": "stream",
          "name": "stdout",
          "text": [
            "Saving US_Original_dataset_final.zip to US_Original_dataset_final.zip\n"
          ]
        }
      ],
      "source": [
        "from google.colab import files\n",
        "uploaded = files.upload()"
      ]
    },
    {
      "cell_type": "code",
      "source": [
        "import zipfile\n",
        "import io\n",
        "data = zipfile.ZipFile(io.BytesIO(uploaded['US_Original_dataset_final.zip']), 'r')\n",
        "data.extractall()"
      ],
      "metadata": {
        "id": "tEHbZsRXFqsR"
      },
      "execution_count": 2,
      "outputs": []
    },
    {
      "cell_type": "code",
      "source": [
        "import os\n",
        "from PIL import Image"
      ],
      "metadata": {
        "id": "pbb-vv_6FsHZ"
      },
      "execution_count": 3,
      "outputs": []
    },
    {
      "cell_type": "markdown",
      "source": [
        "Resize images for Xception"
      ],
      "metadata": {
        "id": "GRGymxoDFtyb"
      }
    },
    {
      "cell_type": "code",
      "source": [
        "def resizeAndSave(file_name):\n",
        "  img_size=(299,299)  \n",
        "  img = Image.open(file_name) \n",
        "  img = img.resize(img_size, Image.ANTIALIAS)  \n",
        "  img.save(file_name)"
      ],
      "metadata": {
        "id": "ECzN2e8LFw06"
      },
      "execution_count": 4,
      "outputs": []
    },
    {
      "cell_type": "code",
      "source": [
        "benign_path = 'Benign/'\n",
        "malignant_path = 'Malignant/'"
      ],
      "metadata": {
        "id": "yY6yPma0F1VA"
      },
      "execution_count": 5,
      "outputs": []
    },
    {
      "cell_type": "code",
      "source": [
        "#Resize images\n",
        "def resizeDirectory(folder):\n",
        "  folder_path = '/content/US_Original_dataset_final/'+folder+'/' \n",
        "  folder_b = folder_path + benign_path\n",
        "  folder_m = folder_path + malignant_path\n",
        "\n",
        "  mytrainBImages = os.listdir(folder_b)\n",
        "  mytrainMImages = os.listdir(folder_m)\n",
        "\n",
        "  for cl in mytrainBImages:\n",
        "    file_nameb = folder_b + cl \n",
        "    resizeAndSave(file_nameb)    \n",
        "\n",
        "  for cl in mytrainMImages:\n",
        "    file_namem = folder_m + cl \n",
        "    resizeAndSave(file_namem)"
      ],
      "metadata": {
        "id": "Dx_-sw30F3L4"
      },
      "execution_count": 6,
      "outputs": []
    },
    {
      "cell_type": "code",
      "source": [
        "resizeDirectory('test')\n",
        "resizeDirectory('train')\n",
        "resizeDirectory('validation')"
      ],
      "metadata": {
        "id": "Y9goTIZTF5UY"
      },
      "execution_count": 7,
      "outputs": []
    },
    {
      "cell_type": "code",
      "source": [
        "train_path = '/content/US_Original_dataset_final/train'\n",
        "test_path = '/content/US_Original_dataset_final/test'\n",
        "val_path = '/content/US_Original_dataset_final/validation'"
      ],
      "metadata": {
        "id": "OklnHaTJF78Q"
      },
      "execution_count": 8,
      "outputs": []
    },
    {
      "cell_type": "markdown",
      "source": [
        "\n",
        "\n",
        "---\n",
        "Common functions\n"
      ],
      "metadata": {
        "id": "5yuIt_QHF-WB"
      }
    },
    {
      "cell_type": "code",
      "source": [
        "classes = ['Benign', 'Malignant']"
      ],
      "metadata": {
        "id": "P3_CcfLdF_cp"
      },
      "execution_count": 9,
      "outputs": []
    },
    {
      "cell_type": "code",
      "source": [
        "from matplotlib import pyplot\n",
        "def summarize_diagnostics(history):\n",
        "  # plot loss\n",
        "  pyplot.figure(0)\n",
        "  pyplot.title('Loss')\n",
        "  pyplot.plot(history.history['loss'], color='blue', label='train')\n",
        "  pyplot.plot(history.history['val_loss'], color='orange', label='test')\n",
        "  pyplot.legend(['loss','val_loss']) \n",
        "\n",
        "  # plot accuracy\n",
        "  pyplot.figure(1)\n",
        "  pyplot.title('Classification Accuracy')\n",
        "  pyplot.plot(history.history['accuracy'], color='blue', label='train')\n",
        "  pyplot.plot(history.history['val_accuracy'], color='orange', label='test')\n",
        "  pyplot.legend(['accuracy','val_accuracy'])"
      ],
      "metadata": {
        "id": "FZ_ZNukHGBKT"
      },
      "execution_count": 10,
      "outputs": []
    },
    {
      "cell_type": "code",
      "source": [
        "#functions to build confusion matrix\n",
        "from tqdm import tqdm\n",
        "import os\n",
        "import cv2\n",
        "import numpy as np\n",
        "import itertools\n",
        "from sklearn.metrics import accuracy_score, confusion_matrix\n",
        "\n",
        "def load_data(dir_path):\n",
        "    \"\"\"\n",
        "    Load resized images as np.arrays to workspace\n",
        "    \"\"\"\n",
        "    X = []\n",
        "    y = []\n",
        "    i = 0\n",
        "    labels = dict()\n",
        "    for path in tqdm(sorted(os.listdir(dir_path))):\n",
        "        if not path.startswith('.'):\n",
        "            labels[i] = path\n",
        "            for file in os.listdir(dir_path + path):\n",
        "                if not file.startswith('.'):\n",
        "                    img = cv2.imread(dir_path + path + '/' + file)\n",
        "                    X.append(img)\n",
        "                    y.append(i)\n",
        "            i += 1\n",
        "    X = np.array(X)\n",
        "    y = np.array(y)\n",
        "    print(f'{len(X)} images loaded from {dir_path} directory.')\n",
        "    return X, y, labels\n",
        "\n",
        "\n",
        "\n",
        "def plot_confusion_matrix(cm, classes,\n",
        "                          normalize=False,\n",
        "                          title='Confusion matrix',\n",
        "                          cmap=pyplot.cm.Blues):\n",
        "    \"\"\"\n",
        "    This function prints and plots the confusion matrix.\n",
        "    Normalization can be applied by setting `normalize=True`.\n",
        "    \"\"\"\n",
        "    pyplot.figure(figsize = (6,6))\n",
        "    pyplot.imshow(cm, interpolation='nearest', cmap=cmap)\n",
        "    pyplot.title(title)\n",
        "    pyplot.colorbar()\n",
        "    tick_marks = np.arange(len(classes))\n",
        "    pyplot.xticks(tick_marks, classes, rotation=90)\n",
        "    pyplot.yticks(tick_marks, classes)\n",
        "    if normalize:\n",
        "        cm = cm.astype('float') / cm.sum(axis=1)[:, np.newaxis]\n",
        "\n",
        "    thresh = cm.max() / 2.\n",
        "    cm = np.round(cm,2)\n",
        "    for i, j in itertools.product(range(cm.shape[0]), range(cm.shape[1])):\n",
        "        pyplot.text(j, i, cm[i, j],\n",
        "                 horizontalalignment=\"center\",\n",
        "                 color=\"white\" if cm[i, j] > thresh else \"black\")\n",
        "    pyplot.tight_layout()\n",
        "    pyplot.ylabel('True label')\n",
        "    pyplot.xlabel('Predicted label')\n",
        "    pyplot.show()\n",
        "\n",
        "x_test, y_test, labels = load_data('/content/US_Original_dataset_final/test/')\n",
        "print(labels)"
      ],
      "metadata": {
        "colab": {
          "base_uri": "https://localhost:8080/"
        },
        "id": "DsO-iM1RGE1w",
        "outputId": "41c0d6e3-8161-4139-918a-576f58f573f7"
      },
      "execution_count": 11,
      "outputs": [
        {
          "output_type": "stream",
          "name": "stderr",
          "text": [
            "100%|██████████| 2/2 [00:00<00:00, 19.54it/s]"
          ]
        },
        {
          "output_type": "stream",
          "name": "stdout",
          "text": [
            "40 images loaded from /content/US_Original_dataset_final/test/ directory.\n",
            "{0: 'Benign', 1: 'Malignant'}\n"
          ]
        },
        {
          "output_type": "stream",
          "name": "stderr",
          "text": [
            "\n"
          ]
        }
      ]
    },
    {
      "cell_type": "code",
      "source": [
        "from sklearn.metrics import classification_report\n",
        "def validateResults(model):   \n",
        "  predictions = model.predict(x_test, batch_size=batch_size)\n",
        "  y_pred = np.argmax(predictions, axis=1) \n",
        "  y_true = np.argmax(y_test, axis=0)\n",
        "\n",
        "  print(\"\\n\"+ classification_report(y_test, y_pred, target_names=classes))\n",
        "  print(confusion_matrix(y_test, y_pred))\n",
        "  confusion_mtx = confusion_matrix(y_test, y_pred)\n",
        "  cm = plot_confusion_matrix(confusion_mtx, classes = list(labels.items()), normalize=False)"
      ],
      "metadata": {
        "id": "1yEE-05VGGyo"
      },
      "execution_count": 12,
      "outputs": []
    },
    {
      "cell_type": "markdown",
      "source": [
        "Xception"
      ],
      "metadata": {
        "id": "k1WJuAf0GIYZ"
      }
    },
    {
      "cell_type": "code",
      "source": [
        "import cv2\n",
        "from PIL import Image\n",
        "import numpy as np"
      ],
      "metadata": {
        "id": "0TfMQlS4GKh4"
      },
      "execution_count": 13,
      "outputs": []
    },
    {
      "cell_type": "code",
      "source": [
        "from tensorflow.keras.optimizers import SGD\n",
        "from keras.callbacks import EarlyStopping\n",
        "from keras.callbacks import ReduceLROnPlateau\n",
        "from keras.applications.xception import Xception\n",
        "import tensorflow as tf\n",
        "from keras.preprocessing.image import ImageDataGenerator"
      ],
      "metadata": {
        "id": "lGUk93oEGNeA"
      },
      "execution_count": 14,
      "outputs": []
    },
    {
      "cell_type": "code",
      "source": [
        "from tensorflow import keras\n",
        "# define cnn model\n",
        "def BuildXception():\n",
        "  # load model\n",
        "  base_model = keras.applications.Xception(\n",
        "    weights='imagenet',  # Load weights pre-trained on ImageNet.\n",
        "    input_shape=(299, 299, 3),\n",
        "    include_top=False) \n",
        "\n",
        "  base_model.trainable = False \n",
        "\n",
        "  inputs = keras.Input(shape=(299, 299, 3))\n",
        "  # We make sure that the base_model is running in inference mode here,\n",
        "  # by passing `training=False`. This is important for fine-tuning, as you will\n",
        "  # learn in a few paragraphs.\n",
        "  x = base_model(inputs, training=False)\n",
        "  # Convert features of shape `base_model.output_shape[1:]` to vectors\n",
        "  x = keras.layers.GlobalAveragePooling2D()(x)\n",
        "  # A Dense classifier \n",
        "  outputs = keras.layers.Dense(2)(x)\n",
        "  model = keras.Model(inputs, outputs)\n",
        "\n",
        "  return model"
      ],
      "metadata": {
        "id": "SeHCWFbOGeuI"
      },
      "execution_count": 15,
      "outputs": []
    },
    {
      "cell_type": "code",
      "source": [
        "modelXception = BuildXception()\n",
        "modelXception.summary()"
      ],
      "metadata": {
        "colab": {
          "base_uri": "https://localhost:8080/"
        },
        "id": "NIRC5CEhGuX3",
        "outputId": "377d3c34-86a1-4107-d4f5-95b548a56866"
      },
      "execution_count": 16,
      "outputs": [
        {
          "output_type": "stream",
          "name": "stdout",
          "text": [
            "Downloading data from https://storage.googleapis.com/tensorflow/keras-applications/xception/xception_weights_tf_dim_ordering_tf_kernels_notop.h5\n",
            "83689472/83683744 [==============================] - 0s 0us/step\n",
            "83697664/83683744 [==============================] - 0s 0us/step\n",
            "Model: \"model\"\n",
            "_________________________________________________________________\n",
            " Layer (type)                Output Shape              Param #   \n",
            "=================================================================\n",
            " input_2 (InputLayer)        [(None, 299, 299, 3)]     0         \n",
            "                                                                 \n",
            " xception (Functional)       (None, 10, 10, 2048)      20861480  \n",
            "                                                                 \n",
            " global_average_pooling2d (G  (None, 2048)             0         \n",
            " lobalAveragePooling2D)                                          \n",
            "                                                                 \n",
            " dense (Dense)               (None, 2)                 4098      \n",
            "                                                                 \n",
            "=================================================================\n",
            "Total params: 20,865,578\n",
            "Trainable params: 4,098\n",
            "Non-trainable params: 20,861,480\n",
            "_________________________________________________________________\n"
          ]
        }
      ]
    },
    {
      "cell_type": "code",
      "source": [
        "EPOCHS = 50\n",
        "batch_size=32\n",
        "es = EarlyStopping(monitor='val_loss', patience=30, verbose=1, min_delta=1e-4)\n",
        "rlrop = ReduceLROnPlateau(monitor='val_loss', factor=0.1, patience=4, verbose=1, min_delta=1e-4)"
      ],
      "metadata": {
        "id": "1pOeGON6ISj1"
      },
      "execution_count": 34,
      "outputs": []
    },
    {
      "cell_type": "code",
      "source": [
        "datagen = ImageDataGenerator(rescale=1./255, rotation_range = 5, width_shift_range = 0.1, \n",
        "                               height_shift_range = 0.1, horizontal_flip = True)\n",
        "\n",
        "train_it = datagen.flow_from_directory(train_path, batch_size=batch_size, target_size=(299, 299))\n",
        "validation_it = datagen.flow_from_directory(val_path, batch_size=batch_size, target_size=(299, 299))\n",
        "test_it = datagen.flow_from_directory(test_path, batch_size=batch_size, target_size=(299, 299))"
      ],
      "metadata": {
        "colab": {
          "base_uri": "https://localhost:8080/"
        },
        "id": "8OXOqLlIIQr2",
        "outputId": "c9722391-c5bb-4f62-f49f-3166cebd98af"
      },
      "execution_count": 35,
      "outputs": [
        {
          "output_type": "stream",
          "name": "stdout",
          "text": [
            "Found 98 images belonging to 2 classes.\n",
            "Found 25 images belonging to 2 classes.\n",
            "Found 40 images belonging to 2 classes.\n"
          ]
        }
      ]
    },
    {
      "cell_type": "code",
      "source": [
        "from keras import callbacks\n",
        "def fitXceptionv1():\n",
        "  modelv1 = BuildXception()\n",
        "  modelv1.compile(optimizer='adam', loss='categorical_crossentropy', metrics=['accuracy'])\n",
        "\n",
        "  # fit model\n",
        "  historyXcep_v1 = modelv1.fit(\n",
        "      train_it, \n",
        "      steps_per_epoch=len(train_it),\n",
        "      validation_data=validation_it, \n",
        "      validation_steps=len(validation_it), \n",
        "      epochs=EPOCHS, \n",
        "      verbose=1,\n",
        "      callbacks = [rlrop, es])\n",
        "  \n",
        "  return historyXcep_v1, modelv1"
      ],
      "metadata": {
        "id": "37DNAx23IZOF"
      },
      "execution_count": 36,
      "outputs": []
    },
    {
      "cell_type": "code",
      "source": [
        "historyXcep_v1, modelv1 = fitXceptionv1()"
      ],
      "metadata": {
        "colab": {
          "base_uri": "https://localhost:8080/"
        },
        "id": "B3_5-DaPIfUs",
        "outputId": "fd8a82c6-0903-41b2-93cb-c5dc64303c12"
      },
      "execution_count": 37,
      "outputs": [
        {
          "output_type": "stream",
          "name": "stdout",
          "text": [
            "Epoch 1/50\n",
            "4/4 [==============================] - 7s 1s/step - loss: 0.9002 - accuracy: 0.6020 - val_loss: 0.6512 - val_accuracy: 0.6000 - lr: 0.0010\n",
            "Epoch 2/50\n",
            "4/4 [==============================] - 3s 735ms/step - loss: 0.6395 - accuracy: 0.6633 - val_loss: 0.6356 - val_accuracy: 0.6800 - lr: 0.0010\n",
            "Epoch 3/50\n",
            "4/4 [==============================] - 3s 686ms/step - loss: 0.6145 - accuracy: 0.7347 - val_loss: 0.6641 - val_accuracy: 0.6000 - lr: 0.0010\n",
            "Epoch 4/50\n",
            "4/4 [==============================] - 3s 950ms/step - loss: 0.6020 - accuracy: 0.7551 - val_loss: 0.6443 - val_accuracy: 0.6400 - lr: 0.0010\n",
            "Epoch 5/50\n",
            "4/4 [==============================] - 3s 967ms/step - loss: 0.5889 - accuracy: 0.7347 - val_loss: 0.6463 - val_accuracy: 0.6000 - lr: 0.0010\n",
            "Epoch 6/50\n",
            "4/4 [==============================] - ETA: 0s - loss: 0.5739 - accuracy: 0.7143\n",
            "Epoch 6: ReduceLROnPlateau reducing learning rate to 0.00010000000474974513.\n",
            "4/4 [==============================] - 3s 738ms/step - loss: 0.5739 - accuracy: 0.7143 - val_loss: 0.6444 - val_accuracy: 0.6000 - lr: 0.0010\n",
            "Epoch 7/50\n",
            "4/4 [==============================] - 3s 871ms/step - loss: 0.5725 - accuracy: 0.7347 - val_loss: 0.6533 - val_accuracy: 0.6000 - lr: 1.0000e-04\n",
            "Epoch 8/50\n",
            "4/4 [==============================] - 3s 952ms/step - loss: 0.5677 - accuracy: 0.7143 - val_loss: 0.6410 - val_accuracy: 0.6400 - lr: 1.0000e-04\n",
            "Epoch 9/50\n",
            "4/4 [==============================] - 3s 686ms/step - loss: 0.5683 - accuracy: 0.7143 - val_loss: 0.6583 - val_accuracy: 0.6000 - lr: 1.0000e-04\n",
            "Epoch 10/50\n",
            "4/4 [==============================] - 3s 740ms/step - loss: 0.5602 - accuracy: 0.7449 - val_loss: 0.6331 - val_accuracy: 0.6000 - lr: 1.0000e-04\n",
            "Epoch 11/50\n",
            "4/4 [==============================] - 3s 692ms/step - loss: 0.5762 - accuracy: 0.7143 - val_loss: 0.6566 - val_accuracy: 0.6400 - lr: 1.0000e-04\n",
            "Epoch 12/50\n",
            "4/4 [==============================] - 3s 968ms/step - loss: 0.5678 - accuracy: 0.7245 - val_loss: 0.6439 - val_accuracy: 0.6400 - lr: 1.0000e-04\n",
            "Epoch 13/50\n",
            "4/4 [==============================] - 3s 768ms/step - loss: 0.5653 - accuracy: 0.7143 - val_loss: 0.6578 - val_accuracy: 0.6000 - lr: 1.0000e-04\n",
            "Epoch 14/50\n",
            "4/4 [==============================] - ETA: 0s - loss: 0.5544 - accuracy: 0.7143\n",
            "Epoch 14: ReduceLROnPlateau reducing learning rate to 1.0000000474974514e-05.\n",
            "4/4 [==============================] - 3s 739ms/step - loss: 0.5544 - accuracy: 0.7143 - val_loss: 0.6492 - val_accuracy: 0.6000 - lr: 1.0000e-04\n",
            "Epoch 15/50\n",
            "4/4 [==============================] - 3s 684ms/step - loss: 0.5652 - accuracy: 0.7245 - val_loss: 0.6556 - val_accuracy: 0.6000 - lr: 1.0000e-05\n",
            "Epoch 16/50\n",
            "4/4 [==============================] - 3s 734ms/step - loss: 0.5618 - accuracy: 0.7347 - val_loss: 0.6443 - val_accuracy: 0.6000 - lr: 1.0000e-05\n",
            "Epoch 17/50\n",
            "4/4 [==============================] - 3s 681ms/step - loss: 0.5710 - accuracy: 0.7245 - val_loss: 0.6597 - val_accuracy: 0.6000 - lr: 1.0000e-05\n",
            "Epoch 18/50\n",
            "4/4 [==============================] - ETA: 0s - loss: 0.5634 - accuracy: 0.7449\n",
            "Epoch 18: ReduceLROnPlateau reducing learning rate to 1.0000000656873453e-06.\n",
            "4/4 [==============================] - 3s 943ms/step - loss: 0.5634 - accuracy: 0.7449 - val_loss: 0.6343 - val_accuracy: 0.6000 - lr: 1.0000e-05\n",
            "Epoch 19/50\n",
            "4/4 [==============================] - 3s 722ms/step - loss: 0.5675 - accuracy: 0.7041 - val_loss: 0.6551 - val_accuracy: 0.6000 - lr: 1.0000e-06\n",
            "Epoch 20/50\n",
            "4/4 [==============================] - 3s 679ms/step - loss: 0.5684 - accuracy: 0.7041 - val_loss: 0.6320 - val_accuracy: 0.6000 - lr: 1.0000e-06\n",
            "Epoch 21/50\n",
            "4/4 [==============================] - 3s 728ms/step - loss: 0.5713 - accuracy: 0.6939 - val_loss: 0.6513 - val_accuracy: 0.6000 - lr: 1.0000e-06\n",
            "Epoch 22/50\n",
            "4/4 [==============================] - 3s 830ms/step - loss: 0.5585 - accuracy: 0.7245 - val_loss: 0.6278 - val_accuracy: 0.6000 - lr: 1.0000e-06\n",
            "Epoch 23/50\n",
            "4/4 [==============================] - 4s 1s/step - loss: 0.5617 - accuracy: 0.7245 - val_loss: 0.6519 - val_accuracy: 0.6000 - lr: 1.0000e-06\n",
            "Epoch 24/50\n",
            "4/4 [==============================] - 3s 731ms/step - loss: 0.5622 - accuracy: 0.7143 - val_loss: 0.6587 - val_accuracy: 0.6000 - lr: 1.0000e-06\n",
            "Epoch 25/50\n",
            "4/4 [==============================] - 3s 727ms/step - loss: 0.5713 - accuracy: 0.7041 - val_loss: 0.6579 - val_accuracy: 0.6000 - lr: 1.0000e-06\n",
            "Epoch 26/50\n",
            "4/4 [==============================] - ETA: 0s - loss: 0.5631 - accuracy: 0.7143\n",
            "Epoch 26: ReduceLROnPlateau reducing learning rate to 1.0000001111620805e-07.\n",
            "4/4 [==============================] - 3s 951ms/step - loss: 0.5631 - accuracy: 0.7143 - val_loss: 0.6313 - val_accuracy: 0.6000 - lr: 1.0000e-06\n",
            "Epoch 27/50\n",
            "4/4 [==============================] - 3s 953ms/step - loss: 0.5598 - accuracy: 0.7245 - val_loss: 0.6498 - val_accuracy: 0.6000 - lr: 1.0000e-07\n",
            "Epoch 28/50\n",
            "4/4 [==============================] - 3s 953ms/step - loss: 0.5592 - accuracy: 0.7245 - val_loss: 0.6491 - val_accuracy: 0.6000 - lr: 1.0000e-07\n",
            "Epoch 29/50\n",
            "4/4 [==============================] - 3s 736ms/step - loss: 0.5613 - accuracy: 0.7143 - val_loss: 0.6416 - val_accuracy: 0.6000 - lr: 1.0000e-07\n",
            "Epoch 30/50\n",
            "4/4 [==============================] - ETA: 0s - loss: 0.5625 - accuracy: 0.7041\n",
            "Epoch 30: ReduceLROnPlateau reducing learning rate to 1.000000082740371e-08.\n",
            "4/4 [==============================] - 3s 744ms/step - loss: 0.5625 - accuracy: 0.7041 - val_loss: 0.6287 - val_accuracy: 0.6000 - lr: 1.0000e-07\n",
            "Epoch 31/50\n",
            "4/4 [==============================] - 3s 767ms/step - loss: 0.5628 - accuracy: 0.7143 - val_loss: 0.6464 - val_accuracy: 0.6000 - lr: 1.0000e-08\n",
            "Epoch 32/50\n",
            "4/4 [==============================] - 3s 949ms/step - loss: 0.5668 - accuracy: 0.7041 - val_loss: 0.6557 - val_accuracy: 0.6000 - lr: 1.0000e-08\n",
            "Epoch 33/50\n",
            "4/4 [==============================] - 3s 744ms/step - loss: 0.5541 - accuracy: 0.7245 - val_loss: 0.6523 - val_accuracy: 0.6000 - lr: 1.0000e-08\n",
            "Epoch 34/50\n",
            "3/4 [=====================>........] - ETA: 0s - loss: 0.5710 - accuracy: 0.7188\n",
            "Epoch 34: ReduceLROnPlateau reducing learning rate to 1.000000082740371e-09.\n",
            "4/4 [==============================] - 3s 690ms/step - loss: 0.5751 - accuracy: 0.7143 - val_loss: 0.6386 - val_accuracy: 0.6000 - lr: 1.0000e-08\n",
            "Epoch 35/50\n",
            "4/4 [==============================] - 3s 722ms/step - loss: 0.5608 - accuracy: 0.7143 - val_loss: 0.6557 - val_accuracy: 0.6000 - lr: 1.0000e-09\n",
            "Epoch 36/50\n",
            "4/4 [==============================] - 3s 948ms/step - loss: 0.5736 - accuracy: 0.7041 - val_loss: 0.6481 - val_accuracy: 0.6000 - lr: 1.0000e-09\n",
            "Epoch 37/50\n",
            "4/4 [==============================] - 3s 942ms/step - loss: 0.5717 - accuracy: 0.7143 - val_loss: 0.6321 - val_accuracy: 0.6000 - lr: 1.0000e-09\n",
            "Epoch 38/50\n",
            "4/4 [==============================] - ETA: 0s - loss: 0.5635 - accuracy: 0.7143\n",
            "Epoch 38: ReduceLROnPlateau reducing learning rate to 1.000000082740371e-10.\n",
            "4/4 [==============================] - 3s 728ms/step - loss: 0.5635 - accuracy: 0.7143 - val_loss: 0.6615 - val_accuracy: 0.6000 - lr: 1.0000e-09\n",
            "Epoch 39/50\n",
            "4/4 [==============================] - 3s 740ms/step - loss: 0.5683 - accuracy: 0.7143 - val_loss: 0.6494 - val_accuracy: 0.6000 - lr: 1.0000e-10\n",
            "Epoch 40/50\n",
            "4/4 [==============================] - 3s 741ms/step - loss: 0.5703 - accuracy: 0.7143 - val_loss: 0.6486 - val_accuracy: 0.6000 - lr: 1.0000e-10\n",
            "Epoch 41/50\n",
            "4/4 [==============================] - 3s 685ms/step - loss: 0.5594 - accuracy: 0.7041 - val_loss: 0.6414 - val_accuracy: 0.6000 - lr: 1.0000e-10\n",
            "Epoch 42/50\n",
            "4/4 [==============================] - ETA: 0s - loss: 0.5622 - accuracy: 0.7245\n",
            "Epoch 42: ReduceLROnPlateau reducing learning rate to 1.000000082740371e-11.\n",
            "4/4 [==============================] - 3s 958ms/step - loss: 0.5622 - accuracy: 0.7245 - val_loss: 0.6638 - val_accuracy: 0.6000 - lr: 1.0000e-10\n",
            "Epoch 43/50\n",
            "4/4 [==============================] - 3s 971ms/step - loss: 0.5603 - accuracy: 0.7245 - val_loss: 0.6532 - val_accuracy: 0.6000 - lr: 1.0000e-11\n",
            "Epoch 44/50\n",
            "4/4 [==============================] - 3s 955ms/step - loss: 0.5535 - accuracy: 0.7143 - val_loss: 0.6601 - val_accuracy: 0.6000 - lr: 1.0000e-11\n",
            "Epoch 45/50\n",
            "4/4 [==============================] - 3s 725ms/step - loss: 0.5619 - accuracy: 0.7245 - val_loss: 0.6527 - val_accuracy: 0.6000 - lr: 1.0000e-11\n",
            "Epoch 46/50\n",
            "4/4 [==============================] - ETA: 0s - loss: 0.5722 - accuracy: 0.6939\n",
            "Epoch 46: ReduceLROnPlateau reducing learning rate to 1.000000082740371e-12.\n",
            "4/4 [==============================] - 3s 729ms/step - loss: 0.5722 - accuracy: 0.6939 - val_loss: 0.6403 - val_accuracy: 0.6000 - lr: 1.0000e-11\n",
            "Epoch 47/50\n",
            "4/4 [==============================] - 3s 723ms/step - loss: 0.5638 - accuracy: 0.7143 - val_loss: 0.6468 - val_accuracy: 0.6000 - lr: 1.0000e-12\n",
            "Epoch 48/50\n",
            "4/4 [==============================] - 3s 727ms/step - loss: 0.5568 - accuracy: 0.7347 - val_loss: 0.6460 - val_accuracy: 0.6000 - lr: 1.0000e-12\n",
            "Epoch 49/50\n",
            "4/4 [==============================] - 3s 726ms/step - loss: 0.5551 - accuracy: 0.7041 - val_loss: 0.6425 - val_accuracy: 0.6000 - lr: 1.0000e-12\n",
            "Epoch 50/50\n",
            "4/4 [==============================] - 3s 944ms/step - loss: 0.5665 - accuracy: 0.7245 - val_loss: 0.6269 - val_accuracy: 0.6000 - lr: 1.0000e-12\n"
          ]
        }
      ]
    },
    {
      "cell_type": "code",
      "source": [
        "summarize_diagnostics(historyXcep_v1)"
      ],
      "metadata": {
        "colab": {
          "base_uri": "https://localhost:8080/",
          "height": 545
        },
        "id": "ps5OZthhKZBK",
        "outputId": "67e220af-9808-44c2-d2e9-0cff9f0e54fa"
      },
      "execution_count": 38,
      "outputs": [
        {
          "output_type": "display_data",
          "data": {
            "text/plain": [
              "<Figure size 432x288 with 1 Axes>"
            ],
            "image/png": "[encoded data removed]"
          },
          "metadata": {
            "needs_background": "light"
          }
        },
        {
          "output_type": "display_data",
          "data": {
            "text/plain": [
              "<Figure size 432x288 with 1 Axes>"
            ],
            "image/png": "[encoded data removed]"
          },
          "metadata": {
            "needs_background": "light"
          }
        }
      ]
    },
    {
      "cell_type": "code",
      "source": [
        "validateResults(modelv1)"
      ],
      "metadata": {
        "colab": {
          "base_uri": "https://localhost:8080/",
          "height": 645
        },
        "id": "ifi3PQSEKgL6",
        "outputId": "02e802a5-fc36-4bd4-805e-1ec7b3c367b4"
      },
      "execution_count": 39,
      "outputs": [
        {
          "output_type": "stream",
          "name": "stdout",
          "text": [
            "\n",
            "              precision    recall  f1-score   support\n",
            "\n",
            "      Benign       0.64      0.81      0.71        26\n",
            "   Malignant       0.29      0.14      0.19        14\n",
            "\n",
            "    accuracy                           0.57        40\n",
            "   macro avg       0.46      0.48      0.45        40\n",
            "weighted avg       0.51      0.57      0.53        40\n",
            "\n",
            "[[21  5]\n",
            " [12  2]]\n"
          ]
        },
        {
          "output_type": "display_data",
          "data": {
            "text/plain": [
              "<Figure size 432x432 with 2 Axes>"
            ],
            "image/png": "[encoded data removed]"
          },
          "metadata": {
            "needs_background": "light"
          }
        }
      ]
    },
    {
      "cell_type": "code",
      "source": [
        "#gráfico compartido accuracy\n",
        "#pyplot.figure()\n",
        "#pyplot.plot(historyAlexNet1.history['accuracy'], label = 'AlexNet1')\n",
        "#pyplot.plot(historyAlexNet2.history['accuracy'], label = 'AlexNet2')\n",
        "#pyplot.plot(historyAlexNet3.history['accuracy'], label = 'AlexNet3')\n",
        "#pyplot.xlabel(\"Number of Epoch's\")\n",
        "#pyplot.ylabel('Accuracy')\n",
        "#pyplot.title('Training Accuracy')\n",
        "#pyplot.legend(loc = \"best\")"
      ],
      "metadata": {
        "id": "X1RZGJRILb-v"
      },
      "execution_count": null,
      "outputs": []
    }
  ]
}