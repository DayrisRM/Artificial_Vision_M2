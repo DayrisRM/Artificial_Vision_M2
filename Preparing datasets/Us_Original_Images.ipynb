{
  "nbformat": 4,
  "nbformat_minor": 0,
  "metadata": {
    "colab": {
      "provenance": [],
      "mount_file_id": "1wTt5g2TpniLgQxV36NnTVtPoSIV5XjpB",
      "authorship_tag": "ABX9TyOJwVlibyxB3ucUBi9UHfrq"
    },
    "kernelspec": {
      "name": "python3",
      "display_name": "Python 3"
    },
    "language_info": {
      "name": "python"
    }
  },
  "cells": [
    {
      "cell_type": "markdown",
      "source": [
        "------- ***Step 1: Preparing dataset from US images*** ------"
      ],
      "metadata": {
        "id": "FysscKzvU9QD"
      }
    },
    {
      "cell_type": "code",
      "execution_count": null,
      "metadata": {
        "id": "QBC6J9mYUnfm"
      },
      "outputs": [],
      "source": [
        "import cv2\n",
        "import numpy as np\n",
        "import os\n",
        "from PIL import Image"
      ]
    },
    {
      "cell_type": "code",
      "source": [
        "#obtener el width y height maximo de las imagenes a preparar\n",
        "def getMaxSize(folderUrl):\n",
        "  moreHeight = 0\n",
        "  moreWidht = 0\n",
        "  myListImages = os.listdir(folderUrl)\n",
        "  for cl in myListImages: \n",
        "    img = cv2.imread(folderUrl + cl)\n",
        "    old_image_height, old_image_width, channels = img.shape\n",
        "\n",
        "    if old_image_height > moreHeight:\n",
        "      moreHeight = old_image_height\n",
        "\n",
        "    if old_image_width > moreWidht:\n",
        "      moreWidht = old_image_width\n",
        "\n",
        "  return moreHeight, moreWidht"
      ],
      "metadata": {
        "id": "prOAzxBYVW9X"
      },
      "execution_count": null,
      "outputs": []
    },
    {
      "cell_type": "code",
      "source": [
        "#añadir padding a la imagen original con las nuevas medidas\n",
        "def addPaddingToImage(imageName, new_height, new_width): \n",
        "  # read image  \n",
        "  img = cv2.imread('/content/drive/MyDrive/Colab Notebooks/Original/' + imageName)\n",
        "  old_image_height, old_image_width, channels = img.shape \n",
        "  color = (0,0,0)\n",
        "  result = np.full((new_height,new_width, channels), color, dtype=np.uint8)\n",
        "\n",
        "  # compute center offset\n",
        "  x_center = (new_width - old_image_width) // 2\n",
        "  y_center = (new_height - old_image_height) // 2\n",
        "\n",
        "  # copy img image into center of result image\n",
        "  result[y_center:y_center+old_image_height, \n",
        "  x_center:x_center+old_image_width] = img\n",
        "\n",
        "  print(imageName)\n",
        "  # save result\n",
        "  urlToSave = '/content/drive/MyDrive/Colab Notebooks/US_Original_Prepared/Padding/' + imageName  \n",
        "  cv2.imwrite(urlToSave, result)"
      ],
      "metadata": {
        "id": "Ldpn8QIBV-7R"
      },
      "execution_count": null,
      "outputs": []
    },
    {
      "cell_type": "code",
      "source": [
        "\n",
        "#resize la imagen original con las nuevas medidas \n",
        "def resizeImage(imageName): \n",
        "  basewidth = 224\n",
        "  img = Image.open('/content/drive/MyDrive/Colab Notebooks/US_Original_Prepared/Padding/' + imageName )\n",
        "  wpercent = (basewidth / float(img.size[0]))\n",
        "  hsize = int((float(img.size[1]) * float(wpercent)))\n",
        "  img = img.resize((basewidth, hsize), Image.ANTIALIAS)\n",
        "  img.save('/content/drive/MyDrive/Colab Notebooks/US_Original_Prepared/ResizedImage/{}'.format(imageName))\n",
        "  "
      ],
      "metadata": {
        "id": "6ufKm_EUWfTo"
      },
      "execution_count": null,
      "outputs": []
    },
    {
      "cell_type": "code",
      "source": [
        "def prepareUSImages():\n",
        "  new_height = 0\n",
        "  new_width = 0  \n",
        "\n",
        "  moreHeight, moreWidht = getMaxSize('/content/drive/MyDrive/Colab Notebooks/Original/')\n",
        "  print('moreHeight:{} moreWidht:{}'.format(moreHeight, moreWidht))\n",
        "\n",
        "  if moreHeight < 500 and moreWidht < 500:\n",
        "    new_height = 500\n",
        "    new_width = 500\n",
        "  else:\n",
        "    new_height = 800\n",
        "    new_width = 800\n",
        "  \n",
        "  myListImages = os.listdir('/content/drive/MyDrive/Colab Notebooks/Original/')\n",
        "  for cl in myListImages: \n",
        "    addPaddingToImage(cl, new_height, new_width)\n",
        "    resizeImage(cl)\n",
        "    "
      ],
      "metadata": {
        "id": "D1EQ-rI_W1qv"
      },
      "execution_count": null,
      "outputs": []
    },
    {
      "cell_type": "code",
      "source": [
        "prepareUSImages()"
      ],
      "metadata": {
        "id": "X-08ENXhXR0v"
      },
      "execution_count": null,
      "outputs": []
    }
  ]
}