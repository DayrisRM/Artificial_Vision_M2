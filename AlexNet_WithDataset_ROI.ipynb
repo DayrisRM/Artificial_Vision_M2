{
  "cells": [
    {
      "cell_type": "code",
      "execution_count": 1,
      "metadata": {
        "colab": {
          "base_uri": "https://localhost:8080/",
          "height": 73,
          "resources": {
            "http://localhost:8080/nbextensions/google.colab/files.js": {
              "data": "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",
              "headers": [
                [
                  "content-type",
                  "application/javascript"
                ]
              ],
              "ok": true,
              "status": 200,
              "status_text": ""
            }
          }
        },
        "id": "Hp1cnJfIx3F9",
        "outputId": "7a1cd222-c756-48a5-b5ca-7b32acca6fa1"
      },
      "outputs": [
        {
          "output_type": "display_data",
          "data": {
            "text/plain": [
              "<IPython.core.display.HTML object>"
            ],
            "text/html": [
              "\n",
              "     <input type=\"file\" id=\"files-f07cdebd-5c49-48b6-987a-ba262d5ba886\" name=\"files[]\" multiple disabled\n",
              "        style=\"border:none\" />\n",
              "     <output id=\"result-f07cdebd-5c49-48b6-987a-ba262d5ba886\">\n",
              "      Upload widget is only available when the cell has been executed in the\n",
              "      current browser session. Please rerun this cell to enable.\n",
              "      </output>\n",
              "      <script src=\"/nbextensions/google.colab/files.js\"></script> "
            ]
          },
          "metadata": {}
        },
        {
          "output_type": "stream",
          "name": "stdout",
          "text": [
            "Saving dataset_constant_padding_final.zip to dataset_constant_padding_final.zip\n"
          ]
        }
      ],
      "source": [
        "from google.colab import files\n",
        "uploaded = files.upload()"
      ]
    },
    {
      "cell_type": "code",
      "execution_count": 2,
      "metadata": {
        "id": "vRBP68oxy8jA"
      },
      "outputs": [],
      "source": [
        "import zipfile\n",
        "import io\n",
        "data = zipfile.ZipFile(io.BytesIO(uploaded['dataset_constant_padding_final.zip']), 'r')\n",
        "data.extractall()"
      ]
    },
    {
      "cell_type": "code",
      "execution_count": 3,
      "metadata": {
        "id": "Igc1Xnhuy-Bl"
      },
      "outputs": [],
      "source": [
        "import os\n",
        "from PIL import Image"
      ]
    },
    {
      "cell_type": "markdown",
      "metadata": {
        "id": "JaLnoybAzSED"
      },
      "source": [
        "\n",
        "\n",
        "---\n",
        "\n",
        "\n",
        "Resize images for AlexNet"
      ]
    },
    {
      "cell_type": "code",
      "execution_count": 4,
      "metadata": {
        "id": "R1vsKJkszVxc"
      },
      "outputs": [],
      "source": [
        "def resizeAndSave(file_name):\n",
        "  img_size=(227,227)  \n",
        "  img = Image.open(file_name) \n",
        "  img = img.resize(img_size, Image.ANTIALIAS)  \n",
        "  img.save(file_name)  "
      ]
    },
    {
      "cell_type": "code",
      "execution_count": 5,
      "metadata": {
        "id": "jyuEMVIgz0n_"
      },
      "outputs": [],
      "source": [
        "benign_path = 'Benign/'\n",
        "malignant_path = 'Malignant/'"
      ]
    },
    {
      "cell_type": "code",
      "execution_count": 9,
      "metadata": {
        "id": "CHkQqK6dzpdA"
      },
      "outputs": [],
      "source": [
        "#Resize images\n",
        "def resizeDirectory(folder):\n",
        "  folder_path = '/content/dataset_constant_padding_final/'+folder+'/' \n",
        "  folder_b = folder_path + benign_path\n",
        "  folder_m = folder_path + malignant_path\n",
        "\n",
        "  mytrainBImages = os.listdir(folder_b)\n",
        "  mytrainMImages = os.listdir(folder_m)\n",
        "\n",
        "  for cl in mytrainBImages:\n",
        "    file_nameb = folder_b + cl \n",
        "    resizeAndSave(file_nameb)    \n",
        "\n",
        "  for cl in mytrainMImages:\n",
        "    file_namem = folder_m + cl \n",
        "    resizeAndSave(file_namem)\n",
        "\n"
      ]
    },
    {
      "cell_type": "code",
      "execution_count": 10,
      "metadata": {
        "id": "ltEKpoQ110eH"
      },
      "outputs": [],
      "source": [
        "resizeDirectory('test')\n",
        "resizeDirectory('train')\n",
        "resizeDirectory('validation')"
      ]
    },
    {
      "cell_type": "code",
      "execution_count": 11,
      "metadata": {
        "id": "pi22OSRxy_0b"
      },
      "outputs": [],
      "source": [
        "train_path = '/content/dataset_constant_padding_final/train'\n",
        "test_path = '/content/dataset_constant_padding_final/test'\n",
        "val_path = '/content/dataset_constant_padding_final/validation'"
      ]
    },
    {
      "cell_type": "markdown",
      "source": [
        "\n",
        "\n",
        "---\n",
        "\n",
        "Common functions"
      ],
      "metadata": {
        "id": "TUixWe9zVAYz"
      }
    },
    {
      "cell_type": "code",
      "execution_count": 12,
      "metadata": {
        "id": "vsAJGXhN-DkX"
      },
      "outputs": [],
      "source": [
        "classes = ['Benign', 'Malignant']"
      ]
    },
    {
      "cell_type": "code",
      "execution_count": 13,
      "metadata": {
        "id": "RHCSCxm861FQ"
      },
      "outputs": [],
      "source": [
        "from matplotlib import pyplot\n",
        "def summarize_diagnostics(history):\n",
        "  # plot loss\n",
        "  pyplot.figure(0)\n",
        "  pyplot.title('Loss')\n",
        "  pyplot.plot(history.history['loss'], color='blue', label='train')\n",
        "  pyplot.plot(history.history['val_loss'], color='orange', label='test')\n",
        "  pyplot.legend(['loss','val_loss']) \n",
        "\n",
        "  # plot accuracy\n",
        "  pyplot.figure(1)\n",
        "  pyplot.title('Classification Accuracy')\n",
        "  pyplot.plot(history.history['accuracy'], color='blue', label='train')\n",
        "  pyplot.plot(history.history['val_accuracy'], color='orange', label='test')\n",
        "  pyplot.legend(['accuracy','val_accuracy'])"
      ]
    },
    {
      "cell_type": "code",
      "execution_count": 14,
      "metadata": {
        "colab": {
          "base_uri": "https://localhost:8080/"
        },
        "id": "hNjmGc8L63gI",
        "outputId": "a128ad51-a6b5-4fc5-f7c0-99854d018abb"
      },
      "outputs": [
        {
          "output_type": "stream",
          "name": "stderr",
          "text": [
            "100%|██████████| 2/2 [00:00<00:00, 29.65it/s]"
          ]
        },
        {
          "output_type": "stream",
          "name": "stdout",
          "text": [
            "40 images loaded from /content/dataset_constant_padding_final/test/ directory.\n",
            "{0: 'Benign', 1: 'Malignant'}\n"
          ]
        },
        {
          "output_type": "stream",
          "name": "stderr",
          "text": [
            "\n"
          ]
        }
      ],
      "source": [
        "#functions to build confusion matrix\n",
        "from tqdm import tqdm\n",
        "import os\n",
        "import cv2\n",
        "import numpy as np\n",
        "import itertools\n",
        "from sklearn.metrics import accuracy_score, confusion_matrix\n",
        "\n",
        "def load_data(dir_path):\n",
        "    \"\"\"\n",
        "    Load resized images as np.arrays to workspace\n",
        "    \"\"\"\n",
        "    X = []\n",
        "    y = []\n",
        "    i = 0\n",
        "    labels = dict()\n",
        "    for path in tqdm(sorted(os.listdir(dir_path))):\n",
        "        if not path.startswith('.'):\n",
        "            labels[i] = path\n",
        "            for file in os.listdir(dir_path + path):\n",
        "                if not file.startswith('.'):\n",
        "                    img = cv2.imread(dir_path + path + '/' + file)\n",
        "                    X.append(img)\n",
        "                    y.append(i)\n",
        "            i += 1\n",
        "    X = np.array(X)\n",
        "    y = np.array(y)\n",
        "    print(f'{len(X)} images loaded from {dir_path} directory.')\n",
        "    return X, y, labels\n",
        "\n",
        "\n",
        "\n",
        "def plot_confusion_matrix(cm, classes,\n",
        "                          normalize=False,\n",
        "                          title='Confusion matrix',\n",
        "                          cmap=pyplot.cm.Blues):\n",
        "    \"\"\"\n",
        "    This function prints and plots the confusion matrix.\n",
        "    Normalization can be applied by setting `normalize=True`.\n",
        "    \"\"\"\n",
        "    pyplot.figure(figsize = (6,6))\n",
        "    pyplot.imshow(cm, interpolation='nearest', cmap=cmap)\n",
        "    pyplot.title(title)\n",
        "    pyplot.colorbar()\n",
        "    tick_marks = np.arange(len(classes))\n",
        "    pyplot.xticks(tick_marks, classes, rotation=90)\n",
        "    pyplot.yticks(tick_marks, classes)\n",
        "    if normalize:\n",
        "        cm = cm.astype('float') / cm.sum(axis=1)[:, np.newaxis]\n",
        "\n",
        "    thresh = cm.max() / 2.\n",
        "    cm = np.round(cm,2)\n",
        "    for i, j in itertools.product(range(cm.shape[0]), range(cm.shape[1])):\n",
        "        pyplot.text(j, i, cm[i, j],\n",
        "                 horizontalalignment=\"center\",\n",
        "                 color=\"white\" if cm[i, j] > thresh else \"black\")\n",
        "    pyplot.tight_layout()\n",
        "    pyplot.ylabel('True label')\n",
        "    pyplot.xlabel('Predicted label')\n",
        "    pyplot.show()\n",
        "\n",
        "x_test, y_test, labels = load_data('/content/dataset_constant_padding_final/test/')\n",
        "print(labels)"
      ]
    },
    {
      "cell_type": "code",
      "execution_count": 15,
      "metadata": {
        "id": "WyKNQ6Tz-Km5"
      },
      "outputs": [],
      "source": [
        "from sklearn.metrics import classification_report\n",
        "def validateResults(model):   \n",
        "  predictions = model.predict(x_test, batch_size=batch_size)\n",
        "  y_pred = np.argmax(predictions, axis=1) \n",
        "  y_true = np.argmax(y_test, axis=0)\n",
        "\n",
        "  print(\"\\n\"+ classification_report(y_test, y_pred, target_names=classes))\n",
        "  print(confusion_matrix(y_test, y_pred))\n",
        "  confusion_mtx = confusion_matrix(y_test, y_pred)\n",
        "  cm = plot_confusion_matrix(confusion_mtx, classes = list(labels.items()), normalize=False)"
      ]
    },
    {
      "cell_type": "markdown",
      "metadata": {
        "id": "yARbZdUK3vHk"
      },
      "source": [
        "\n",
        "\n",
        "---\n",
        "\n",
        "\n",
        "AlexNet"
      ]
    },
    {
      "cell_type": "code",
      "execution_count": 16,
      "metadata": {
        "id": "MslWUPKO3uG4"
      },
      "outputs": [],
      "source": [
        "import cv2\n",
        "from PIL import Image\n",
        "import numpy as np"
      ]
    },
    {
      "cell_type": "code",
      "execution_count": 17,
      "metadata": {
        "id": "J9pPhTgB3ywX"
      },
      "outputs": [],
      "source": [
        "from keras.models import Sequential\n",
        "from keras.layers import Conv2D, MaxPooling2D, Dense, Flatten, Dropout\n",
        "# metric\n",
        "from keras.metrics import binary_crossentropy"
      ]
    },
    {
      "cell_type": "code",
      "execution_count": 18,
      "metadata": {
        "id": "4eIVs4FI33Rv"
      },
      "outputs": [],
      "source": [
        "def Alexnet():\n",
        "  # Initialize the model\n",
        "  model = Sequential()\n",
        "\n",
        "  # layer 1: convolutional layer + max-pooling layer\n",
        "  model.add(Conv2D(filters = 96, kernel_size = (11,11), strides= 4, padding = 'valid'\n",
        "  , activation='relu', input_shape = (227,227,3)))\n",
        "  model.add(MaxPooling2D(pool_size = (3,3), strides = 2))\n",
        "\n",
        "  # layer 2: convolutional layer + max-pooling layer \n",
        "  model.add(Conv2D(filters = 256, kernel_size = (5,5), padding = 'same', activation = 'relu'))\n",
        "  model.add(MaxPooling2D(pool_size = (3,3), strides = 2))\n",
        "\n",
        "  # layers 3-5: three convolutional layers + 1 max-pooling layer\n",
        "  model.add(Conv2D(filters = 384, kernel_size = (3,3), padding = 'same', activation = 'relu'))\n",
        "  model.add(Conv2D(filters = 384, kernel_size = (3,3), padding = 'same', activation = 'relu'))\n",
        "  model.add(Conv2D(filters = 256, kernel_size = (3,3), padding = 'same', activation = 'relu'))\n",
        "  model.add(MaxPooling2D(pool_size = (3,3), strides = 2))\n",
        "\n",
        "  # layers 6 - 8: two fully connected hidden layers and one fully connected output layer\n",
        "  model.add(Flatten())\n",
        "  model.add(Dense(4096, activation = 'relu'))\n",
        "  model.add(Dropout(0.5))\n",
        "  model.add(Dense(4096, activation = 'relu'))\n",
        "  model.add(Dropout(0.5))\n",
        "  model.add(Dense(2, activation = 'softmax'))  \n",
        "\n",
        "  return model"
      ]
    },
    {
      "cell_type": "code",
      "execution_count": 19,
      "metadata": {
        "colab": {
          "base_uri": "https://localhost:8080/"
        },
        "id": "pZsUyuwF4jQD",
        "outputId": "16433fad-08fd-49fe-afc6-f173250b963e"
      },
      "outputs": [
        {
          "output_type": "stream",
          "name": "stdout",
          "text": [
            "Model: \"sequential\"\n",
            "_________________________________________________________________\n",
            " Layer (type)                Output Shape              Param #   \n",
            "=================================================================\n",
            " conv2d (Conv2D)             (None, 55, 55, 96)        34944     \n",
            "                                                                 \n",
            " max_pooling2d (MaxPooling2D  (None, 27, 27, 96)       0         \n",
            " )                                                               \n",
            "                                                                 \n",
            " conv2d_1 (Conv2D)           (None, 27, 27, 256)       614656    \n",
            "                                                                 \n",
            " max_pooling2d_1 (MaxPooling  (None, 13, 13, 256)      0         \n",
            " 2D)                                                             \n",
            "                                                                 \n",
            " conv2d_2 (Conv2D)           (None, 13, 13, 384)       885120    \n",
            "                                                                 \n",
            " conv2d_3 (Conv2D)           (None, 13, 13, 384)       1327488   \n",
            "                                                                 \n",
            " conv2d_4 (Conv2D)           (None, 13, 13, 256)       884992    \n",
            "                                                                 \n",
            " max_pooling2d_2 (MaxPooling  (None, 6, 6, 256)        0         \n",
            " 2D)                                                             \n",
            "                                                                 \n",
            " flatten (Flatten)           (None, 9216)              0         \n",
            "                                                                 \n",
            " dense (Dense)               (None, 4096)              37752832  \n",
            "                                                                 \n",
            " dropout (Dropout)           (None, 4096)              0         \n",
            "                                                                 \n",
            " dense_1 (Dense)             (None, 4096)              16781312  \n",
            "                                                                 \n",
            " dropout_1 (Dropout)         (None, 4096)              0         \n",
            "                                                                 \n",
            " dense_2 (Dense)             (None, 2)                 8194      \n",
            "                                                                 \n",
            "=================================================================\n",
            "Total params: 58,289,538\n",
            "Trainable params: 58,289,538\n",
            "Non-trainable params: 0\n",
            "_________________________________________________________________\n"
          ]
        }
      ],
      "source": [
        "Alexnet_model = Alexnet()\n",
        "Alexnet_model.summary()"
      ]
    },
    {
      "cell_type": "code",
      "execution_count": 20,
      "metadata": {
        "id": "VRTkwzj14mUT"
      },
      "outputs": [],
      "source": [
        "from keras.preprocessing.image import ImageDataGenerator\n",
        "from keras.callbacks import ModelCheckpoint\n",
        "from keras.callbacks import EarlyStopping\n",
        "from keras.callbacks import ReduceLROnPlateau"
      ]
    },
    {
      "cell_type": "code",
      "source": [
        "from keras.preprocessing.image import ImageDataGenerator\n",
        "\n",
        "EPOCHS = 50\n",
        "batch_size = 128\n",
        "\n",
        "es = EarlyStopping(monitor='val_loss', patience=8, verbose=1, min_delta=1e-4)\n",
        "rlrop = ReduceLROnPlateau(monitor='val_loss', factor=0.1, patience=4, verbose=1, min_delta=1e-4)"
      ],
      "metadata": {
        "id": "EWz-UHjtWUeJ"
      },
      "execution_count": 21,
      "outputs": []
    },
    {
      "cell_type": "code",
      "source": [
        "datagen = ImageDataGenerator(rotation_range = 5, width_shift_range = 0.1, \n",
        "                               height_shift_range = 0.1, horizontal_flip = True)\n",
        "\n",
        "train_it = datagen.flow_from_directory(train_path, batch_size=batch_size, target_size=(227, 227))\n",
        "validation_it = datagen.flow_from_directory(val_path, batch_size=batch_size, target_size=(227, 227))\n",
        "test_it = datagen.flow_from_directory(test_path, batch_size=batch_size, target_size=(227, 227))"
      ],
      "metadata": {
        "colab": {
          "base_uri": "https://localhost:8080/"
        },
        "id": "_AyvIFeMWVy8",
        "outputId": "f9d384a9-34d6-4f92-fba9-928b5f1a4c96"
      },
      "execution_count": 22,
      "outputs": [
        {
          "output_type": "stream",
          "name": "stdout",
          "text": [
            "Found 98 images belonging to 2 classes.\n",
            "Found 25 images belonging to 2 classes.\n",
            "Found 40 images belonging to 2 classes.\n"
          ]
        }
      ]
    },
    {
      "cell_type": "code",
      "execution_count": 23,
      "metadata": {
        "id": "HimuP1Pg4ryK"
      },
      "outputs": [],
      "source": [
        "def fitAlexNet1():\n",
        "  # compile the model with a loss funciton, a metric and and optimizqation method  \n",
        "  Alexnet_model.compile(optimizer='adam', loss='categorical_crossentropy', metrics=['accuracy'])\n",
        "\n",
        "  # fit model\n",
        "  historyAlexNet1 = Alexnet_model.fit(\n",
        "      train_it, \n",
        "      steps_per_epoch=len(train_it),\n",
        "      validation_data=validation_it, \n",
        "      validation_steps=len(validation_it), \n",
        "      epochs=EPOCHS, \n",
        "      verbose=1,\n",
        "      callbacks=[rlrop])\n",
        "  \n",
        "  return historyAlexNet1"
      ]
    },
    {
      "cell_type": "code",
      "source": [
        "historyAlexNet1 = fitAlexNet1()"
      ],
      "metadata": {
        "colab": {
          "base_uri": "https://localhost:8080/"
        },
        "id": "7GLVKZnVXUvw",
        "outputId": "fa8fb357-6afd-474d-af4b-a0f7aecdd514"
      },
      "execution_count": 24,
      "outputs": [
        {
          "output_type": "stream",
          "name": "stdout",
          "text": [
            "Epoch 1/50\n",
            "1/1 [==============================] - 15s 15s/step - loss: 2.4843 - accuracy: 0.5000 - val_loss: 2102.6121 - val_accuracy: 0.6000 - lr: 0.0010\n",
            "Epoch 2/50\n",
            "1/1 [==============================] - 1s 1s/step - loss: 1488.3990 - accuracy: 0.6939 - val_loss: 1.5172 - val_accuracy: 0.4000 - lr: 0.0010\n",
            "Epoch 3/50\n",
            "1/1 [==============================] - 1s 1s/step - loss: 1.1877 - accuracy: 0.3673 - val_loss: 1.4557 - val_accuracy: 0.4000 - lr: 0.0010\n",
            "Epoch 4/50\n",
            "1/1 [==============================] - 1s 1s/step - loss: 1.1543 - accuracy: 0.3163 - val_loss: 0.6549 - val_accuracy: 0.6000 - lr: 0.0010\n",
            "Epoch 5/50\n",
            "1/1 [==============================] - 1s 1s/step - loss: 0.7159 - accuracy: 0.6633 - val_loss: 2.9921 - val_accuracy: 0.4000 - lr: 0.0010\n",
            "Epoch 6/50\n",
            "1/1 [==============================] - 1s 1s/step - loss: 3.2369 - accuracy: 0.3061 - val_loss: 2.0594 - val_accuracy: 0.6000 - lr: 0.0010\n",
            "Epoch 7/50\n",
            "1/1 [==============================] - 1s 1s/step - loss: 1.8304 - accuracy: 0.6939 - val_loss: 1.0059 - val_accuracy: 0.6000 - lr: 0.0010\n",
            "Epoch 8/50\n",
            "1/1 [==============================] - ETA: 0s - loss: 0.9160 - accuracy: 0.6939\n",
            "Epoch 8: ReduceLROnPlateau reducing learning rate to 0.00010000000474974513.\n",
            "1/1 [==============================] - 1s 1s/step - loss: 0.9160 - accuracy: 0.6939 - val_loss: 0.6660 - val_accuracy: 0.6800 - lr: 0.0010\n",
            "Epoch 9/50\n",
            "1/1 [==============================] - 1s 1s/step - loss: 0.6804 - accuracy: 0.6122 - val_loss: 0.6763 - val_accuracy: 0.4800 - lr: 1.0000e-04\n",
            "Epoch 10/50\n",
            "1/1 [==============================] - 1s 1s/step - loss: 0.6485 - accuracy: 0.6735 - val_loss: 0.6774 - val_accuracy: 0.4800 - lr: 1.0000e-04\n",
            "Epoch 11/50\n",
            "1/1 [==============================] - 1s 1s/step - loss: 0.6741 - accuracy: 0.6224 - val_loss: 0.6783 - val_accuracy: 0.5600 - lr: 1.0000e-04\n",
            "Epoch 12/50\n",
            "1/1 [==============================] - ETA: 0s - loss: 0.6796 - accuracy: 0.6531\n",
            "Epoch 12: ReduceLROnPlateau reducing learning rate to 1.0000000474974514e-05.\n",
            "1/1 [==============================] - 1s 1s/step - loss: 0.6796 - accuracy: 0.6531 - val_loss: 0.6676 - val_accuracy: 0.7600 - lr: 1.0000e-04\n",
            "Epoch 13/50\n",
            "1/1 [==============================] - 1s 1s/step - loss: 0.6688 - accuracy: 0.6122 - val_loss: 0.6778 - val_accuracy: 0.6400 - lr: 1.0000e-05\n",
            "Epoch 14/50\n",
            "1/1 [==============================] - 1s 1s/step - loss: 0.6798 - accuracy: 0.5816 - val_loss: 0.6716 - val_accuracy: 0.7200 - lr: 1.0000e-05\n",
            "Epoch 15/50\n",
            "1/1 [==============================] - 1s 1s/step - loss: 0.6544 - accuracy: 0.6531 - val_loss: 0.6769 - val_accuracy: 0.6400 - lr: 1.0000e-05\n",
            "Epoch 16/50\n",
            "1/1 [==============================] - ETA: 0s - loss: 0.6655 - accuracy: 0.6429\n",
            "Epoch 16: ReduceLROnPlateau reducing learning rate to 1.0000000656873453e-06.\n",
            "1/1 [==============================] - 1s 1s/step - loss: 0.6655 - accuracy: 0.6429 - val_loss: 0.6744 - val_accuracy: 0.7200 - lr: 1.0000e-05\n",
            "Epoch 17/50\n",
            "1/1 [==============================] - 1s 1s/step - loss: 0.6528 - accuracy: 0.6531 - val_loss: 0.6759 - val_accuracy: 0.7200 - lr: 1.0000e-06\n",
            "Epoch 18/50\n",
            "1/1 [==============================] - 1s 1s/step - loss: 0.6453 - accuracy: 0.6531 - val_loss: 0.6724 - val_accuracy: 0.6800 - lr: 1.0000e-06\n",
            "Epoch 19/50\n",
            "1/1 [==============================] - 1s 1s/step - loss: 0.6734 - accuracy: 0.6122 - val_loss: 0.6705 - val_accuracy: 0.6800 - lr: 1.0000e-06\n",
            "Epoch 20/50\n",
            "1/1 [==============================] - ETA: 0s - loss: 0.6519 - accuracy: 0.6735\n",
            "Epoch 20: ReduceLROnPlateau reducing learning rate to 1.0000001111620805e-07.\n",
            "1/1 [==============================] - 1s 1s/step - loss: 0.6519 - accuracy: 0.6735 - val_loss: 0.6738 - val_accuracy: 0.6800 - lr: 1.0000e-06\n",
            "Epoch 21/50\n",
            "1/1 [==============================] - 1s 1s/step - loss: 0.6637 - accuracy: 0.6327 - val_loss: 0.6715 - val_accuracy: 0.7200 - lr: 1.0000e-07\n",
            "Epoch 22/50\n",
            "1/1 [==============================] - 1s 1s/step - loss: 0.6477 - accuracy: 0.6837 - val_loss: 0.6731 - val_accuracy: 0.7200 - lr: 1.0000e-07\n",
            "Epoch 23/50\n",
            "1/1 [==============================] - 1s 1s/step - loss: 0.6344 - accuracy: 0.7653 - val_loss: 0.6702 - val_accuracy: 0.7200 - lr: 1.0000e-07\n",
            "Epoch 24/50\n",
            "1/1 [==============================] - ETA: 0s - loss: 0.6763 - accuracy: 0.5510\n",
            "Epoch 24: ReduceLROnPlateau reducing learning rate to 1.000000082740371e-08.\n",
            "1/1 [==============================] - 2s 2s/step - loss: 0.6763 - accuracy: 0.5510 - val_loss: 0.6685 - val_accuracy: 0.7200 - lr: 1.0000e-07\n",
            "Epoch 25/50\n",
            "1/1 [==============================] - 1s 1s/step - loss: 0.6612 - accuracy: 0.6327 - val_loss: 0.6704 - val_accuracy: 0.6800 - lr: 1.0000e-08\n",
            "Epoch 26/50\n",
            "1/1 [==============================] - 1s 1s/step - loss: 0.6499 - accuracy: 0.6327 - val_loss: 0.6740 - val_accuracy: 0.7200 - lr: 1.0000e-08\n",
            "Epoch 27/50\n",
            "1/1 [==============================] - 1s 1s/step - loss: 0.6467 - accuracy: 0.7041 - val_loss: 0.6742 - val_accuracy: 0.6800 - lr: 1.0000e-08\n",
            "Epoch 28/50\n",
            "1/1 [==============================] - ETA: 0s - loss: 0.6630 - accuracy: 0.6429\n",
            "Epoch 28: ReduceLROnPlateau reducing learning rate to 1.000000082740371e-09.\n",
            "1/1 [==============================] - 1s 1s/step - loss: 0.6630 - accuracy: 0.6429 - val_loss: 0.6693 - val_accuracy: 0.7200 - lr: 1.0000e-08\n",
            "Epoch 29/50\n",
            "1/1 [==============================] - 1s 1s/step - loss: 0.6566 - accuracy: 0.5714 - val_loss: 0.6684 - val_accuracy: 0.7200 - lr: 1.0000e-09\n",
            "Epoch 30/50\n",
            "1/1 [==============================] - 1s 1s/step - loss: 0.6798 - accuracy: 0.6224 - val_loss: 0.6711 - val_accuracy: 0.7200 - lr: 1.0000e-09\n",
            "Epoch 31/50\n",
            "1/1 [==============================] - 1s 1s/step - loss: 0.6452 - accuracy: 0.6837 - val_loss: 0.6658 - val_accuracy: 0.7200 - lr: 1.0000e-09\n",
            "Epoch 32/50\n",
            "1/1 [==============================] - ETA: 0s - loss: 0.6655 - accuracy: 0.5306\n",
            "Epoch 32: ReduceLROnPlateau reducing learning rate to 1.000000082740371e-10.\n",
            "1/1 [==============================] - 1s 1s/step - loss: 0.6655 - accuracy: 0.5306 - val_loss: 0.6691 - val_accuracy: 0.6800 - lr: 1.0000e-09\n",
            "Epoch 33/50\n",
            "1/1 [==============================] - 1s 1s/step - loss: 0.6750 - accuracy: 0.5918 - val_loss: 0.6752 - val_accuracy: 0.6800 - lr: 1.0000e-10\n",
            "Epoch 34/50\n",
            "1/1 [==============================] - 1s 1s/step - loss: 0.6452 - accuracy: 0.6531 - val_loss: 0.6684 - val_accuracy: 0.6800 - lr: 1.0000e-10\n",
            "Epoch 35/50\n",
            "1/1 [==============================] - 2s 2s/step - loss: 0.6599 - accuracy: 0.6429 - val_loss: 0.6682 - val_accuracy: 0.7200 - lr: 1.0000e-10\n",
            "Epoch 36/50\n",
            "1/1 [==============================] - ETA: 0s - loss: 0.6493 - accuracy: 0.6429\n",
            "Epoch 36: ReduceLROnPlateau reducing learning rate to 1.000000082740371e-11.\n",
            "1/1 [==============================] - 1s 1s/step - loss: 0.6493 - accuracy: 0.6429 - val_loss: 0.6771 - val_accuracy: 0.6800 - lr: 1.0000e-10\n",
            "Epoch 37/50\n",
            "1/1 [==============================] - 1s 1s/step - loss: 0.6364 - accuracy: 0.7143 - val_loss: 0.6728 - val_accuracy: 0.6800 - lr: 1.0000e-11\n",
            "Epoch 38/50\n",
            "1/1 [==============================] - 1s 1s/step - loss: 0.6736 - accuracy: 0.6429 - val_loss: 0.6721 - val_accuracy: 0.6800 - lr: 1.0000e-11\n",
            "Epoch 39/50\n",
            "1/1 [==============================] - 1s 1s/step - loss: 0.6382 - accuracy: 0.7347 - val_loss: 0.6762 - val_accuracy: 0.6800 - lr: 1.0000e-11\n",
            "Epoch 40/50\n",
            "1/1 [==============================] - ETA: 0s - loss: 0.6763 - accuracy: 0.5918\n",
            "Epoch 40: ReduceLROnPlateau reducing learning rate to 1.000000082740371e-12.\n",
            "1/1 [==============================] - 1s 1s/step - loss: 0.6763 - accuracy: 0.5918 - val_loss: 0.6747 - val_accuracy: 0.6800 - lr: 1.0000e-11\n",
            "Epoch 41/50\n",
            "1/1 [==============================] - 1s 1s/step - loss: 0.6512 - accuracy: 0.6531 - val_loss: 0.6662 - val_accuracy: 0.7200 - lr: 1.0000e-12\n",
            "Epoch 42/50\n",
            "1/1 [==============================] - 1s 1s/step - loss: 0.6578 - accuracy: 0.6122 - val_loss: 0.6770 - val_accuracy: 0.6800 - lr: 1.0000e-12\n",
            "Epoch 43/50\n",
            "1/1 [==============================] - 1s 1s/step - loss: 0.6488 - accuracy: 0.6633 - val_loss: 0.6686 - val_accuracy: 0.7200 - lr: 1.0000e-12\n",
            "Epoch 44/50\n",
            "1/1 [==============================] - ETA: 0s - loss: 0.6301 - accuracy: 0.7041\n",
            "Epoch 44: ReduceLROnPlateau reducing learning rate to 1.0000001044244145e-13.\n",
            "1/1 [==============================] - 1s 1s/step - loss: 0.6301 - accuracy: 0.7041 - val_loss: 0.6721 - val_accuracy: 0.6800 - lr: 1.0000e-12\n",
            "Epoch 45/50\n",
            "1/1 [==============================] - 1s 1s/step - loss: 0.6488 - accuracy: 0.6939 - val_loss: 0.6747 - val_accuracy: 0.6800 - lr: 1.0000e-13\n",
            "Epoch 46/50\n",
            "1/1 [==============================] - 2s 2s/step - loss: 0.6508 - accuracy: 0.6735 - val_loss: 0.6729 - val_accuracy: 0.7200 - lr: 1.0000e-13\n",
            "Epoch 47/50\n",
            "1/1 [==============================] - 2s 2s/step - loss: 0.6563 - accuracy: 0.6735 - val_loss: 0.6695 - val_accuracy: 0.6800 - lr: 1.0000e-13\n",
            "Epoch 48/50\n",
            "1/1 [==============================] - ETA: 0s - loss: 0.6395 - accuracy: 0.6429\n",
            "Epoch 48: ReduceLROnPlateau reducing learning rate to 1.0000001179769417e-14.\n",
            "1/1 [==============================] - 1s 1s/step - loss: 0.6395 - accuracy: 0.6429 - val_loss: 0.6690 - val_accuracy: 0.6800 - lr: 1.0000e-13\n",
            "Epoch 49/50\n",
            "1/1 [==============================] - 1s 1s/step - loss: 0.6541 - accuracy: 0.6122 - val_loss: 0.6665 - val_accuracy: 0.7600 - lr: 1.0000e-14\n",
            "Epoch 50/50\n",
            "1/1 [==============================] - 1s 1s/step - loss: 0.6624 - accuracy: 0.6327 - val_loss: 0.6746 - val_accuracy: 0.6800 - lr: 1.0000e-14\n"
          ]
        }
      ]
    },
    {
      "cell_type": "code",
      "execution_count": 25,
      "metadata": {
        "colab": {
          "base_uri": "https://localhost:8080/",
          "height": 545
        },
        "id": "Y2fw7VUS69d2",
        "outputId": "86c7cd49-75c3-42d4-9719-ac58d01f5444"
      },
      "outputs": [
        {
          "output_type": "display_data",
          "data": {
            "text/plain": [
              "<Figure size 432x288 with 1 Axes>"
            ],
            "image/png": "[encoded data removed]"
          },
          "metadata": {
            "needs_background": "light"
          }
        },
        {
          "output_type": "display_data",
          "data": {
            "text/plain": [
              "<Figure size 432x288 with 1 Axes>"
            ],
            "image/png": "[encoded data removed]"
          },
          "metadata": {
            "needs_background": "light"
          }
        }
      ],
      "source": [
        "summarize_diagnostics(historyAlexNet1)"
      ]
    },
    {
      "cell_type": "code",
      "execution_count": 26,
      "metadata": {
        "colab": {
          "base_uri": "https://localhost:8080/",
          "height": 645
        },
        "id": "w2joOSUO-N99",
        "outputId": "c7b3e60d-f456-4dd9-eadd-8c5f404b6918"
      },
      "outputs": [
        {
          "output_type": "stream",
          "name": "stdout",
          "text": [
            "\n",
            "              precision    recall  f1-score   support\n",
            "\n",
            "      Benign       0.76      0.73      0.75        26\n",
            "   Malignant       0.53      0.57      0.55        14\n",
            "\n",
            "    accuracy                           0.68        40\n",
            "   macro avg       0.65      0.65      0.65        40\n",
            "weighted avg       0.68      0.68      0.68        40\n",
            "\n",
            "[[19  7]\n",
            " [ 6  8]]\n"
          ]
        },
        {
          "output_type": "display_data",
          "data": {
            "text/plain": [
              "<Figure size 432x432 with 2 Axes>"
            ],
            "image/png": "[encoded data removed]"
          },
          "metadata": {
            "needs_background": "light"
          }
        }
      ],
      "source": [
        "validateResults(Alexnet_model)"
      ]
    },
    {
      "cell_type": "markdown",
      "source": [
        "AlexNet v2"
      ],
      "metadata": {
        "id": "nINj2gybYHzv"
      }
    },
    {
      "cell_type": "code",
      "source": [
        "def fitAlexNet2():\n",
        "  model = Alexnet()\n",
        "  # compile the model with a loss funciton, a metric and and optimization method\n",
        "\n",
        "  model.compile(optimizer='adam', loss='categorical_crossentropy', metrics=['accuracy'])\n",
        "\n",
        "  datagen2 = ImageDataGenerator(rotation_range=15)\n",
        "  \n",
        "  train_it_v2 = datagen2.flow_from_directory(train_path, batch_size=batch_size, target_size=(227, 227))\n",
        "  validation_it_v2 = datagen2.flow_from_directory(val_path, batch_size=batch_size, target_size=(227, 227))\n",
        "  test_it_v2 = datagen2.flow_from_directory(test_path, batch_size=batch_size, target_size=(227, 227))\n",
        "\n",
        "  # fit model\n",
        "  historyAlexNet2 = model.fit(\n",
        "      train_it_v2, \n",
        "      steps_per_epoch=len(train_it_v2),\n",
        "      validation_data=validation_it_v2, \n",
        "      validation_steps=len(validation_it_v2), \n",
        "      epochs=EPOCHS, \n",
        "      verbose=1,\n",
        "      callbacks=[rlrop])\n",
        "  \n",
        "  return historyAlexNet2, model"
      ],
      "metadata": {
        "id": "yl1Jqba8YKBc"
      },
      "execution_count": 27,
      "outputs": []
    },
    {
      "cell_type": "code",
      "source": [
        "historyAlexNet2, alexNet2 = fitAlexNet2()"
      ],
      "metadata": {
        "colab": {
          "base_uri": "https://localhost:8080/"
        },
        "id": "wmz0DEt3YnRq",
        "outputId": "e88608f7-67c7-43a5-bfc5-d63e43e8b5a4"
      },
      "execution_count": 28,
      "outputs": [
        {
          "output_type": "stream",
          "name": "stdout",
          "text": [
            "Found 98 images belonging to 2 classes.\n",
            "Found 25 images belonging to 2 classes.\n",
            "Found 40 images belonging to 2 classes.\n",
            "Epoch 1/50\n",
            "1/1 [==============================] - 3s 3s/step - loss: 2.5414 - accuracy: 0.3878 - val_loss: 2148.9385 - val_accuracy: 0.6000 - lr: 0.0010\n",
            "Epoch 2/50\n",
            "1/1 [==============================] - 1s 1s/step - loss: 1547.9844 - accuracy: 0.6939 - val_loss: 0.7752 - val_accuracy: 0.6000 - lr: 0.0010\n",
            "Epoch 3/50\n",
            "1/1 [==============================] - 1s 1s/step - loss: 1.2155 - accuracy: 0.6939 - val_loss: 4.9911 - val_accuracy: 0.4000 - lr: 0.0010\n",
            "Epoch 4/50\n",
            "1/1 [==============================] - 1s 1s/step - loss: 6.3444 - accuracy: 0.3061 - val_loss: 0.7953 - val_accuracy: 0.4000 - lr: 0.0010\n",
            "Epoch 5/50\n",
            "1/1 [==============================] - 1s 1s/step - loss: 0.8572 - accuracy: 0.3061 - val_loss: 0.6798 - val_accuracy: 0.6400 - lr: 0.0010\n",
            "Epoch 6/50\n",
            "1/1 [==============================] - 1s 1s/step - loss: 0.6575 - accuracy: 0.7041 - val_loss: 0.7701 - val_accuracy: 0.6000 - lr: 0.0010\n",
            "Epoch 7/50\n",
            "1/1 [==============================] - 1s 1s/step - loss: 0.6443 - accuracy: 0.6939 - val_loss: 0.6877 - val_accuracy: 0.6800 - lr: 0.0010\n",
            "Epoch 8/50\n",
            "1/1 [==============================] - 1s 1s/step - loss: 0.6852 - accuracy: 0.7347 - val_loss: 0.6864 - val_accuracy: 0.6800 - lr: 0.0010\n",
            "Epoch 9/50\n",
            "1/1 [==============================] - 1s 1s/step - loss: 0.6824 - accuracy: 0.7143 - val_loss: 0.6790 - val_accuracy: 0.6800 - lr: 0.0010\n",
            "Epoch 10/50\n",
            "1/1 [==============================] - 1s 1s/step - loss: 0.6769 - accuracy: 0.7245 - val_loss: 0.6822 - val_accuracy: 0.6000 - lr: 0.0010\n",
            "Epoch 11/50\n",
            "1/1 [==============================] - 1s 1s/step - loss: 0.6968 - accuracy: 0.5204 - val_loss: 0.6818 - val_accuracy: 0.6000 - lr: 0.0010\n",
            "Epoch 12/50\n",
            "1/1 [==============================] - 1s 1s/step - loss: 0.6600 - accuracy: 0.6939 - val_loss: 0.6834 - val_accuracy: 0.6000 - lr: 0.0010\n",
            "Epoch 13/50\n",
            "1/1 [==============================] - ETA: 0s - loss: 0.6481 - accuracy: 0.6939\n",
            "Epoch 13: ReduceLROnPlateau reducing learning rate to 0.00010000000474974513.\n",
            "1/1 [==============================] - 1s 1s/step - loss: 0.6481 - accuracy: 0.6939 - val_loss: 0.6919 - val_accuracy: 0.6000 - lr: 0.0010\n",
            "Epoch 14/50\n",
            "1/1 [==============================] - 1s 1s/step - loss: 0.6315 - accuracy: 0.6939 - val_loss: 0.6847 - val_accuracy: 0.6000 - lr: 1.0000e-04\n",
            "Epoch 15/50\n",
            "1/1 [==============================] - 1s 1s/step - loss: 0.6308 - accuracy: 0.6939 - val_loss: 0.6820 - val_accuracy: 0.6000 - lr: 1.0000e-04\n",
            "Epoch 16/50\n",
            "1/1 [==============================] - 1s 1s/step - loss: 0.6272 - accuracy: 0.6939 - val_loss: 0.6812 - val_accuracy: 0.6000 - lr: 1.0000e-04\n",
            "Epoch 17/50\n",
            "1/1 [==============================] - ETA: 0s - loss: 0.6232 - accuracy: 0.6939\n",
            "Epoch 17: ReduceLROnPlateau reducing learning rate to 1.0000000474974514e-05.\n",
            "1/1 [==============================] - 1s 1s/step - loss: 0.6232 - accuracy: 0.6939 - val_loss: 0.6931 - val_accuracy: 0.6000 - lr: 1.0000e-04\n",
            "Epoch 18/50\n",
            "1/1 [==============================] - 1s 1s/step - loss: 0.6198 - accuracy: 0.6939 - val_loss: 0.6913 - val_accuracy: 0.6000 - lr: 1.0000e-05\n",
            "Epoch 19/50\n",
            "1/1 [==============================] - 1s 1s/step - loss: 0.6230 - accuracy: 0.6939 - val_loss: 0.6784 - val_accuracy: 0.6000 - lr: 1.0000e-05\n",
            "Epoch 20/50\n",
            "1/1 [==============================] - 1s 1s/step - loss: 0.6222 - accuracy: 0.6939 - val_loss: 0.6923 - val_accuracy: 0.6000 - lr: 1.0000e-05\n",
            "Epoch 21/50\n",
            "1/1 [==============================] - 1s 1s/step - loss: 0.6202 - accuracy: 0.6939 - val_loss: 0.6780 - val_accuracy: 0.6000 - lr: 1.0000e-05\n",
            "Epoch 22/50\n",
            "1/1 [==============================] - 1s 1s/step - loss: 0.6200 - accuracy: 0.6939 - val_loss: 0.6740 - val_accuracy: 0.6000 - lr: 1.0000e-05\n",
            "Epoch 23/50\n",
            "1/1 [==============================] - 1s 1s/step - loss: 0.6177 - accuracy: 0.6939 - val_loss: 0.6816 - val_accuracy: 0.6000 - lr: 1.0000e-05\n",
            "Epoch 24/50\n",
            "1/1 [==============================] - 1s 1s/step - loss: 0.6214 - accuracy: 0.6939 - val_loss: 0.6860 - val_accuracy: 0.6000 - lr: 1.0000e-05\n",
            "Epoch 25/50\n",
            "1/1 [==============================] - 1s 1s/step - loss: 0.6263 - accuracy: 0.6939 - val_loss: 0.6928 - val_accuracy: 0.6000 - lr: 1.0000e-05\n",
            "Epoch 26/50\n",
            "1/1 [==============================] - ETA: 0s - loss: 0.6205 - accuracy: 0.6939\n",
            "Epoch 26: ReduceLROnPlateau reducing learning rate to 1.0000000656873453e-06.\n",
            "1/1 [==============================] - 1s 1s/step - loss: 0.6205 - accuracy: 0.6939 - val_loss: 0.6762 - val_accuracy: 0.6000 - lr: 1.0000e-05\n",
            "Epoch 27/50\n",
            "1/1 [==============================] - 1s 1s/step - loss: 0.6105 - accuracy: 0.7041 - val_loss: 0.6837 - val_accuracy: 0.6000 - lr: 1.0000e-06\n",
            "Epoch 28/50\n",
            "1/1 [==============================] - 1s 1s/step - loss: 0.6176 - accuracy: 0.6939 - val_loss: 0.6939 - val_accuracy: 0.6000 - lr: 1.0000e-06\n",
            "Epoch 29/50\n",
            "1/1 [==============================] - 1s 1s/step - loss: 0.6152 - accuracy: 0.6939 - val_loss: 0.6877 - val_accuracy: 0.6000 - lr: 1.0000e-06\n",
            "Epoch 30/50\n",
            "1/1 [==============================] - ETA: 0s - loss: 0.6228 - accuracy: 0.6939\n",
            "Epoch 30: ReduceLROnPlateau reducing learning rate to 1.0000001111620805e-07.\n",
            "1/1 [==============================] - 1s 1s/step - loss: 0.6228 - accuracy: 0.6939 - val_loss: 0.6904 - val_accuracy: 0.6000 - lr: 1.0000e-06\n",
            "Epoch 31/50\n",
            "1/1 [==============================] - 1s 1s/step - loss: 0.6172 - accuracy: 0.6939 - val_loss: 0.6929 - val_accuracy: 0.6000 - lr: 1.0000e-07\n",
            "Epoch 32/50\n",
            "1/1 [==============================] - 1s 1s/step - loss: 0.6155 - accuracy: 0.6939 - val_loss: 0.6931 - val_accuracy: 0.6000 - lr: 1.0000e-07\n",
            "Epoch 33/50\n",
            "1/1 [==============================] - 1s 1s/step - loss: 0.6183 - accuracy: 0.6939 - val_loss: 0.6892 - val_accuracy: 0.6000 - lr: 1.0000e-07\n",
            "Epoch 34/50\n",
            "1/1 [==============================] - ETA: 0s - loss: 0.6190 - accuracy: 0.6939\n",
            "Epoch 34: ReduceLROnPlateau reducing learning rate to 1.000000082740371e-08.\n",
            "1/1 [==============================] - 1s 1s/step - loss: 0.6190 - accuracy: 0.6939 - val_loss: 0.6828 - val_accuracy: 0.6000 - lr: 1.0000e-07\n",
            "Epoch 35/50\n",
            "1/1 [==============================] - 2s 2s/step - loss: 0.6178 - accuracy: 0.6939 - val_loss: 0.6936 - val_accuracy: 0.6000 - lr: 1.0000e-08\n",
            "Epoch 36/50\n",
            "1/1 [==============================] - 1s 1s/step - loss: 0.6190 - accuracy: 0.6939 - val_loss: 0.6946 - val_accuracy: 0.6000 - lr: 1.0000e-08\n",
            "Epoch 37/50\n",
            "1/1 [==============================] - 1s 1s/step - loss: 0.6223 - accuracy: 0.6939 - val_loss: 0.6806 - val_accuracy: 0.6000 - lr: 1.0000e-08\n",
            "Epoch 38/50\n",
            "1/1 [==============================] - ETA: 0s - loss: 0.6204 - accuracy: 0.6939\n",
            "Epoch 38: ReduceLROnPlateau reducing learning rate to 1.000000082740371e-09.\n",
            "1/1 [==============================] - 1s 1s/step - loss: 0.6204 - accuracy: 0.6939 - val_loss: 0.6762 - val_accuracy: 0.6000 - lr: 1.0000e-08\n",
            "Epoch 39/50\n",
            "1/1 [==============================] - 1s 1s/step - loss: 0.6182 - accuracy: 0.6939 - val_loss: 0.6870 - val_accuracy: 0.6000 - lr: 1.0000e-09\n",
            "Epoch 40/50\n",
            "1/1 [==============================] - 1s 1s/step - loss: 0.6249 - accuracy: 0.6939 - val_loss: 0.6833 - val_accuracy: 0.6000 - lr: 1.0000e-09\n",
            "Epoch 41/50\n",
            "1/1 [==============================] - 1s 1s/step - loss: 0.6203 - accuracy: 0.6939 - val_loss: 0.6928 - val_accuracy: 0.6000 - lr: 1.0000e-09\n",
            "Epoch 42/50\n",
            "1/1 [==============================] - ETA: 0s - loss: 0.6157 - accuracy: 0.6939\n",
            "Epoch 42: ReduceLROnPlateau reducing learning rate to 1.000000082740371e-10.\n",
            "1/1 [==============================] - 1s 1s/step - loss: 0.6157 - accuracy: 0.6939 - val_loss: 0.6854 - val_accuracy: 0.6000 - lr: 1.0000e-09\n",
            "Epoch 43/50\n",
            "1/1 [==============================] - 1s 1s/step - loss: 0.6197 - accuracy: 0.6939 - val_loss: 0.6816 - val_accuracy: 0.6000 - lr: 1.0000e-10\n",
            "Epoch 44/50\n",
            "1/1 [==============================] - 1s 1s/step - loss: 0.6168 - accuracy: 0.6939 - val_loss: 0.6887 - val_accuracy: 0.6000 - lr: 1.0000e-10\n",
            "Epoch 45/50\n",
            "1/1 [==============================] - 1s 1s/step - loss: 0.6186 - accuracy: 0.6939 - val_loss: 0.6887 - val_accuracy: 0.6000 - lr: 1.0000e-10\n",
            "Epoch 46/50\n",
            "1/1 [==============================] - ETA: 0s - loss: 0.6183 - accuracy: 0.6939\n",
            "Epoch 46: ReduceLROnPlateau reducing learning rate to 1.000000082740371e-11.\n",
            "1/1 [==============================] - 1s 1s/step - loss: 0.6183 - accuracy: 0.6939 - val_loss: 0.6873 - val_accuracy: 0.6000 - lr: 1.0000e-10\n",
            "Epoch 47/50\n",
            "1/1 [==============================] - 1s 1s/step - loss: 0.6207 - accuracy: 0.6939 - val_loss: 0.6917 - val_accuracy: 0.6000 - lr: 1.0000e-11\n",
            "Epoch 48/50\n",
            "1/1 [==============================] - 1s 1s/step - loss: 0.6231 - accuracy: 0.6939 - val_loss: 0.6854 - val_accuracy: 0.6000 - lr: 1.0000e-11\n",
            "Epoch 49/50\n",
            "1/1 [==============================] - 1s 1s/step - loss: 0.6201 - accuracy: 0.6939 - val_loss: 0.6858 - val_accuracy: 0.6000 - lr: 1.0000e-11\n",
            "Epoch 50/50\n",
            "1/1 [==============================] - ETA: 0s - loss: 0.6198 - accuracy: 0.6939\n",
            "Epoch 50: ReduceLROnPlateau reducing learning rate to 1.000000082740371e-12.\n",
            "1/1 [==============================] - 1s 1s/step - loss: 0.6198 - accuracy: 0.6939 - val_loss: 0.6924 - val_accuracy: 0.6000 - lr: 1.0000e-11\n"
          ]
        }
      ]
    },
    {
      "cell_type": "code",
      "source": [
        "summarize_diagnostics(historyAlexNet2)"
      ],
      "metadata": {
        "colab": {
          "base_uri": "https://localhost:8080/",
          "height": 545
        },
        "id": "WMnqsAO_b-8M",
        "outputId": "ca9e2f14-3d3a-450b-f3a1-82578400a31b"
      },
      "execution_count": 29,
      "outputs": [
        {
          "output_type": "display_data",
          "data": {
            "text/plain": [
              "<Figure size 432x288 with 1 Axes>"
            ],
            "image/png": "[encoded data removed]"
          },
          "metadata": {
            "needs_background": "light"
          }
        },
        {
          "output_type": "display_data",
          "data": {
            "text/plain": [
              "<Figure size 432x288 with 1 Axes>"
            ],
            "image/png": "[encoded data removed]"
          },
          "metadata": {
            "needs_background": "light"
          }
        }
      ]
    },
    {
      "cell_type": "code",
      "source": [
        "validateResults(alexNet2)"
      ],
      "metadata": {
        "colab": {
          "base_uri": "https://localhost:8080/",
          "height": 769
        },
        "id": "HcxXKptqeIa0",
        "outputId": "dec3aa13-7f37-41fb-a0e8-bbe2953d6431"
      },
      "execution_count": 30,
      "outputs": [
        {
          "output_type": "stream",
          "name": "stderr",
          "text": [
            "/usr/local/lib/python3.7/dist-packages/sklearn/metrics/_classification.py:1318: UndefinedMetricWarning: Precision and F-score are ill-defined and being set to 0.0 in labels with no predicted samples. Use `zero_division` parameter to control this behavior.\n",
            "  _warn_prf(average, modifier, msg_start, len(result))\n",
            "/usr/local/lib/python3.7/dist-packages/sklearn/metrics/_classification.py:1318: UndefinedMetricWarning: Precision and F-score are ill-defined and being set to 0.0 in labels with no predicted samples. Use `zero_division` parameter to control this behavior.\n",
            "  _warn_prf(average, modifier, msg_start, len(result))\n",
            "/usr/local/lib/python3.7/dist-packages/sklearn/metrics/_classification.py:1318: UndefinedMetricWarning: Precision and F-score are ill-defined and being set to 0.0 in labels with no predicted samples. Use `zero_division` parameter to control this behavior.\n",
            "  _warn_prf(average, modifier, msg_start, len(result))\n"
          ]
        },
        {
          "output_type": "stream",
          "name": "stdout",
          "text": [
            "\n",
            "              precision    recall  f1-score   support\n",
            "\n",
            "      Benign       0.65      1.00      0.79        26\n",
            "   Malignant       0.00      0.00      0.00        14\n",
            "\n",
            "    accuracy                           0.65        40\n",
            "   macro avg       0.33      0.50      0.39        40\n",
            "weighted avg       0.42      0.65      0.51        40\n",
            "\n",
            "[[26  0]\n",
            " [14  0]]\n"
          ]
        },
        {
          "output_type": "display_data",
          "data": {
            "text/plain": [
              "<Figure size 432x432 with 2 Axes>"
            ],
            "image/png": "[encoded data removed]"
          },
          "metadata": {
            "needs_background": "light"
          }
        }
      ]
    },
    {
      "cell_type": "code",
      "source": [
        "from tensorflow.keras.optimizers import RMSprop\n",
        "def fitAlexNet3():\n",
        "  model3 = Alexnet()\n",
        "  # compile the model with a loss funciton, a metric and and optimization method\n",
        "\n",
        "  model3.compile(optimizer=RMSprop(lr=1e-4), loss='categorical_crossentropy', metrics=['accuracy'])\n",
        "\n",
        "  datagen2 = ImageDataGenerator(rotation_range=15)\n",
        "  \n",
        "  train_it_v2 = datagen2.flow_from_directory(train_path, batch_size=batch_size, target_size=(227, 227))\n",
        "  validation_it_v2 = datagen2.flow_from_directory(val_path, batch_size=batch_size, target_size=(227, 227))\n",
        "  test_it_v2 = datagen2.flow_from_directory(test_path, batch_size=batch_size, target_size=(227, 227))\n",
        "\n",
        "  # fit model\n",
        "  historyAlexNet3 = model3.fit(\n",
        "      train_it_v2, \n",
        "      steps_per_epoch=len(train_it_v2),\n",
        "      validation_data=validation_it_v2, \n",
        "      validation_steps=len(validation_it_v2), \n",
        "      epochs=EPOCHS, \n",
        "      verbose=1,\n",
        "      callbacks=[rlrop])\n",
        "  \n",
        "  return historyAlexNet3, model3"
      ],
      "metadata": {
        "id": "an6z9gDrdAt6"
      },
      "execution_count": 31,
      "outputs": []
    },
    {
      "cell_type": "code",
      "source": [
        "historyAlexNet3, alexNet3 = fitAlexNet3()"
      ],
      "metadata": {
        "colab": {
          "base_uri": "https://localhost:8080/"
        },
        "id": "s1wUBdSMdYGd",
        "outputId": "0fdb1738-5540-4ef1-e6e3-e68c8868b931"
      },
      "execution_count": 32,
      "outputs": [
        {
          "output_type": "stream",
          "name": "stderr",
          "text": [
            "/usr/local/lib/python3.7/dist-packages/keras/optimizer_v2/rmsprop.py:130: UserWarning: The `lr` argument is deprecated, use `learning_rate` instead.\n",
            "  super(RMSprop, self).__init__(name, **kwargs)\n"
          ]
        },
        {
          "output_type": "stream",
          "name": "stdout",
          "text": [
            "Found 98 images belonging to 2 classes.\n",
            "Found 25 images belonging to 2 classes.\n",
            "Found 40 images belonging to 2 classes.\n",
            "Epoch 1/50\n",
            "1/1 [==============================] - 3s 3s/step - loss: 1.9585 - accuracy: 0.5510 - val_loss: 55.5418 - val_accuracy: 0.6000 - lr: 1.0000e-04\n",
            "Epoch 2/50\n",
            "1/1 [==============================] - 1s 1s/step - loss: 39.6544 - accuracy: 0.6939 - val_loss: 4.5690 - val_accuracy: 0.4000 - lr: 1.0000e-04\n",
            "Epoch 3/50\n",
            "1/1 [==============================] - 1s 1s/step - loss: 5.4909 - accuracy: 0.3061 - val_loss: 2.5132 - val_accuracy: 0.6000 - lr: 1.0000e-04\n",
            "Epoch 4/50\n",
            "1/1 [==============================] - 1s 1s/step - loss: 1.8716 - accuracy: 0.6939 - val_loss: 0.6556 - val_accuracy: 0.6400 - lr: 1.0000e-04\n",
            "Epoch 5/50\n",
            "1/1 [==============================] - 1s 1s/step - loss: 0.6527 - accuracy: 0.6224 - val_loss: 0.8197 - val_accuracy: 0.6000 - lr: 1.0000e-04\n",
            "Epoch 6/50\n",
            "1/1 [==============================] - 1s 1s/step - loss: 0.6364 - accuracy: 0.6939 - val_loss: 0.5942 - val_accuracy: 0.8000 - lr: 1.0000e-04\n",
            "Epoch 7/50\n",
            "1/1 [==============================] - 1s 1s/step - loss: 0.6253 - accuracy: 0.6633 - val_loss: 0.7120 - val_accuracy: 0.6000 - lr: 1.0000e-04\n",
            "Epoch 8/50\n",
            "1/1 [==============================] - 1s 1s/step - loss: 0.5584 - accuracy: 0.7041 - val_loss: 0.5413 - val_accuracy: 0.7200 - lr: 1.0000e-04\n",
            "Epoch 9/50\n",
            "1/1 [==============================] - 1s 1s/step - loss: 0.5278 - accuracy: 0.7653 - val_loss: 0.5804 - val_accuracy: 0.6400 - lr: 1.0000e-04\n",
            "Epoch 10/50\n",
            "1/1 [==============================] - 1s 1s/step - loss: 0.4842 - accuracy: 0.7449 - val_loss: 0.4979 - val_accuracy: 0.8400 - lr: 1.0000e-04\n",
            "Epoch 11/50\n",
            "1/1 [==============================] - 1s 1s/step - loss: 0.5156 - accuracy: 0.7347 - val_loss: 0.5485 - val_accuracy: 0.6800 - lr: 1.0000e-04\n",
            "Epoch 12/50\n",
            "1/1 [==============================] - 1s 1s/step - loss: 0.4483 - accuracy: 0.7551 - val_loss: 0.4598 - val_accuracy: 0.8800 - lr: 1.0000e-04\n",
            "Epoch 13/50\n",
            "1/1 [==============================] - 1s 1s/step - loss: 0.4380 - accuracy: 0.8163 - val_loss: 0.8184 - val_accuracy: 0.6400 - lr: 1.0000e-04\n",
            "Epoch 14/50\n",
            "1/1 [==============================] - 1s 1s/step - loss: 0.6098 - accuracy: 0.7245 - val_loss: 0.7539 - val_accuracy: 0.4400 - lr: 1.0000e-04\n",
            "Epoch 15/50\n",
            "1/1 [==============================] - 1s 1s/step - loss: 0.9937 - accuracy: 0.4286 - val_loss: 1.0927 - val_accuracy: 0.6000 - lr: 1.0000e-04\n",
            "Epoch 16/50\n",
            "1/1 [==============================] - ETA: 0s - loss: 0.7991 - accuracy: 0.6939\n",
            "Epoch 16: ReduceLROnPlateau reducing learning rate to 9.999999747378752e-06.\n",
            "1/1 [==============================] - 1s 1s/step - loss: 0.7991 - accuracy: 0.6939 - val_loss: 0.5617 - val_accuracy: 0.6400 - lr: 1.0000e-04\n",
            "Epoch 17/50\n",
            "1/1 [==============================] - 1s 1s/step - loss: 0.4939 - accuracy: 0.7449 - val_loss: 0.5640 - val_accuracy: 0.6400 - lr: 1.0000e-05\n",
            "Epoch 18/50\n",
            "1/1 [==============================] - 1s 1s/step - loss: 0.4893 - accuracy: 0.7449 - val_loss: 0.5525 - val_accuracy: 0.6400 - lr: 1.0000e-05\n",
            "Epoch 19/50\n",
            "1/1 [==============================] - 1s 1s/step - loss: 0.4719 - accuracy: 0.7449 - val_loss: 0.5546 - val_accuracy: 0.6400 - lr: 1.0000e-05\n",
            "Epoch 20/50\n",
            "1/1 [==============================] - ETA: 0s - loss: 0.4810 - accuracy: 0.7551\n",
            "Epoch 20: ReduceLROnPlateau reducing learning rate to 9.999999747378752e-07.\n",
            "1/1 [==============================] - 1s 1s/step - loss: 0.4810 - accuracy: 0.7551 - val_loss: 0.5498 - val_accuracy: 0.6400 - lr: 1.0000e-05\n",
            "Epoch 21/50\n",
            "1/1 [==============================] - 1s 1s/step - loss: 0.4839 - accuracy: 0.7347 - val_loss: 0.5445 - val_accuracy: 0.6800 - lr: 1.0000e-06\n",
            "Epoch 22/50\n",
            "1/1 [==============================] - 1s 1s/step - loss: 0.4842 - accuracy: 0.7449 - val_loss: 0.5549 - val_accuracy: 0.6400 - lr: 1.0000e-06\n",
            "Epoch 23/50\n",
            "1/1 [==============================] - 1s 1s/step - loss: 0.4699 - accuracy: 0.7449 - val_loss: 0.5527 - val_accuracy: 0.6400 - lr: 1.0000e-06\n",
            "Epoch 24/50\n",
            "1/1 [==============================] - ETA: 0s - loss: 0.4690 - accuracy: 0.7449\n",
            "Epoch 24: ReduceLROnPlateau reducing learning rate to 9.999999974752428e-08.\n",
            "1/1 [==============================] - 1s 1s/step - loss: 0.4690 - accuracy: 0.7449 - val_loss: 0.5526 - val_accuracy: 0.6400 - lr: 1.0000e-06\n",
            "Epoch 25/50\n",
            "1/1 [==============================] - 1s 1s/step - loss: 0.4865 - accuracy: 0.7755 - val_loss: 0.5387 - val_accuracy: 0.6400 - lr: 1.0000e-07\n",
            "Epoch 26/50\n",
            "1/1 [==============================] - 1s 1s/step - loss: 0.4696 - accuracy: 0.7653 - val_loss: 0.5504 - val_accuracy: 0.6400 - lr: 1.0000e-07\n",
            "Epoch 27/50\n",
            "1/1 [==============================] - 1s 1s/step - loss: 0.4843 - accuracy: 0.7449 - val_loss: 0.5500 - val_accuracy: 0.6400 - lr: 1.0000e-07\n",
            "Epoch 28/50\n",
            "1/1 [==============================] - ETA: 0s - loss: 0.4650 - accuracy: 0.7959\n",
            "Epoch 28: ReduceLROnPlateau reducing learning rate to 1.0000000116860975e-08.\n",
            "1/1 [==============================] - 1s 1s/step - loss: 0.4650 - accuracy: 0.7959 - val_loss: 0.5557 - val_accuracy: 0.6400 - lr: 1.0000e-07\n",
            "Epoch 29/50\n",
            "1/1 [==============================] - 1s 1s/step - loss: 0.4683 - accuracy: 0.7347 - val_loss: 0.5448 - val_accuracy: 0.6800 - lr: 1.0000e-08\n",
            "Epoch 30/50\n",
            "1/1 [==============================] - 1s 1s/step - loss: 0.4790 - accuracy: 0.7653 - val_loss: 0.5409 - val_accuracy: 0.6800 - lr: 1.0000e-08\n",
            "Epoch 31/50\n",
            "1/1 [==============================] - 1s 1s/step - loss: 0.4508 - accuracy: 0.7959 - val_loss: 0.5502 - val_accuracy: 0.6400 - lr: 1.0000e-08\n",
            "Epoch 32/50\n",
            "1/1 [==============================] - ETA: 0s - loss: 0.4796 - accuracy: 0.7347\n",
            "Epoch 32: ReduceLROnPlateau reducing learning rate to 9.999999939225292e-10.\n",
            "1/1 [==============================] - 1s 1s/step - loss: 0.4796 - accuracy: 0.7347 - val_loss: 0.5522 - val_accuracy: 0.6400 - lr: 1.0000e-08\n",
            "Epoch 33/50\n",
            "1/1 [==============================] - 1s 1s/step - loss: 0.5178 - accuracy: 0.7449 - val_loss: 0.5431 - val_accuracy: 0.6400 - lr: 1.0000e-09\n",
            "Epoch 34/50\n",
            "1/1 [==============================] - 1s 1s/step - loss: 0.4762 - accuracy: 0.7347 - val_loss: 0.5532 - val_accuracy: 0.6400 - lr: 1.0000e-09\n",
            "Epoch 35/50\n",
            "1/1 [==============================] - 1s 1s/step - loss: 0.4677 - accuracy: 0.7449 - val_loss: 0.5465 - val_accuracy: 0.6400 - lr: 1.0000e-09\n",
            "Epoch 36/50\n",
            "1/1 [==============================] - ETA: 0s - loss: 0.4604 - accuracy: 0.7551\n",
            "Epoch 36: ReduceLROnPlateau reducing learning rate to 9.999999717180686e-11.\n",
            "1/1 [==============================] - 1s 1s/step - loss: 0.4604 - accuracy: 0.7551 - val_loss: 0.5606 - val_accuracy: 0.6400 - lr: 1.0000e-09\n",
            "Epoch 37/50\n",
            "1/1 [==============================] - 1s 1s/step - loss: 0.4843 - accuracy: 0.7653 - val_loss: 0.5512 - val_accuracy: 0.6800 - lr: 1.0000e-10\n",
            "Epoch 38/50\n",
            "1/1 [==============================] - 1s 1s/step - loss: 0.4802 - accuracy: 0.7755 - val_loss: 0.5563 - val_accuracy: 0.6400 - lr: 1.0000e-10\n",
            "Epoch 39/50\n",
            "1/1 [==============================] - 1s 1s/step - loss: 0.4611 - accuracy: 0.7551 - val_loss: 0.5531 - val_accuracy: 0.6400 - lr: 1.0000e-10\n",
            "Epoch 40/50\n",
            "1/1 [==============================] - ETA: 0s - loss: 0.5029 - accuracy: 0.7551\n",
            "Epoch 40: ReduceLROnPlateau reducing learning rate to 9.99999943962493e-12.\n",
            "1/1 [==============================] - 1s 1s/step - loss: 0.5029 - accuracy: 0.7551 - val_loss: 0.5532 - val_accuracy: 0.6400 - lr: 1.0000e-10\n",
            "Epoch 41/50\n",
            "1/1 [==============================] - 1s 1s/step - loss: 0.4676 - accuracy: 0.7347 - val_loss: 0.5551 - val_accuracy: 0.6400 - lr: 1.0000e-11\n",
            "Epoch 42/50\n",
            "1/1 [==============================] - 1s 1s/step - loss: 0.4821 - accuracy: 0.7551 - val_loss: 0.5516 - val_accuracy: 0.6400 - lr: 1.0000e-11\n",
            "Epoch 43/50\n",
            "1/1 [==============================] - 1s 1s/step - loss: 0.4705 - accuracy: 0.7449 - val_loss: 0.5444 - val_accuracy: 0.6400 - lr: 1.0000e-11\n",
            "Epoch 44/50\n",
            "1/1 [==============================] - ETA: 0s - loss: 0.4486 - accuracy: 0.7653\n",
            "Epoch 44: ReduceLROnPlateau reducing learning rate to 9.999999092680235e-13.\n",
            "1/1 [==============================] - 1s 1s/step - loss: 0.4486 - accuracy: 0.7653 - val_loss: 0.5503 - val_accuracy: 0.6400 - lr: 1.0000e-11\n",
            "Epoch 45/50\n",
            "1/1 [==============================] - 1s 1s/step - loss: 0.4866 - accuracy: 0.7551 - val_loss: 0.5473 - val_accuracy: 0.6400 - lr: 1.0000e-12\n",
            "Epoch 46/50\n",
            "1/1 [==============================] - 1s 1s/step - loss: 0.4856 - accuracy: 0.7653 - val_loss: 0.5451 - val_accuracy: 0.6400 - lr: 1.0000e-12\n",
            "Epoch 47/50\n",
            "1/1 [==============================] - 1s 1s/step - loss: 0.4610 - accuracy: 0.7551 - val_loss: 0.5516 - val_accuracy: 0.6800 - lr: 1.0000e-12\n",
            "Epoch 48/50\n",
            "1/1 [==============================] - ETA: 0s - loss: 0.4736 - accuracy: 0.7449\n",
            "Epoch 48: ReduceLROnPlateau reducing learning rate to 9.9999988758398e-14.\n",
            "1/1 [==============================] - 1s 1s/step - loss: 0.4736 - accuracy: 0.7449 - val_loss: 0.5596 - val_accuracy: 0.6400 - lr: 1.0000e-12\n",
            "Epoch 49/50\n",
            "1/1 [==============================] - 1s 1s/step - loss: 0.4920 - accuracy: 0.7347 - val_loss: 0.5536 - val_accuracy: 0.6800 - lr: 1.0000e-13\n",
            "Epoch 50/50\n",
            "1/1 [==============================] - 1s 1s/step - loss: 0.4671 - accuracy: 0.7347 - val_loss: 0.5512 - val_accuracy: 0.6400 - lr: 1.0000e-13\n"
          ]
        }
      ]
    },
    {
      "cell_type": "code",
      "source": [
        "summarize_diagnostics(historyAlexNet3)"
      ],
      "metadata": {
        "colab": {
          "base_uri": "https://localhost:8080/",
          "height": 545
        },
        "id": "0q4xpDYnd6Up",
        "outputId": "9f3c0332-92cb-4426-aa72-f3196ec82357"
      },
      "execution_count": null,
      "outputs": [
        {
          "output_type": "display_data",
          "data": {
            "text/plain": [
              "<Figure size 432x288 with 1 Axes>"
            ],
            "image/png": "[encoded data removed]"
          },
          "metadata": {
            "needs_background": "light"
          }
        },
        {
          "output_type": "display_data",
          "data": {
            "text/plain": [
              "<Figure size 432x288 with 1 Axes>"
            ],
            "image/png": "[encoded data removed]"
          },
          "metadata": {
            "needs_background": "light"
          }
        }
      ]
    },
    {
      "cell_type": "code",
      "source": [
        "validateResults(alexNet3)"
      ],
      "metadata": {
        "colab": {
          "base_uri": "https://localhost:8080/",
          "height": 647
        },
        "id": "Azg4fBNgeTAY",
        "outputId": "5cd68663-298b-42a7-974b-938b928487b1"
      },
      "execution_count": 33,
      "outputs": [
        {
          "output_type": "stream",
          "name": "stdout",
          "text": [
            "\n",
            "              precision    recall  f1-score   support\n",
            "\n",
            "      Benign       0.69      0.85      0.76        26\n",
            "   Malignant       0.50      0.29      0.36        14\n",
            "\n",
            "    accuracy                           0.65        40\n",
            "   macro avg       0.59      0.57      0.56        40\n",
            "weighted avg       0.62      0.65      0.62        40\n",
            "\n",
            "[[22  4]\n",
            " [10  4]]\n"
          ]
        },
        {
          "output_type": "display_data",
          "data": {
            "text/plain": [
              "<Figure size 432x432 with 2 Axes>"
            ],
            "image/png": "[encoded data removed]"
          },
          "metadata": {
            "needs_background": "light"
          }
        }
      ]
    }
  ],
  "metadata": {
    "accelerator": "GPU",
    "colab": {
      "provenance": []
    },
    "gpuClass": "standard",
    "kernelspec": {
      "display_name": "Python 3",
      "name": "python3"
    },
    "language_info": {
      "name": "python"
    }
  },
  "nbformat": 4,
  "nbformat_minor": 0
}