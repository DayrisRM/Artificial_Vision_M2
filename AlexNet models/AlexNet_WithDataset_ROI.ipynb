{
  "cells": [
    {
      "cell_type": "code",
      "execution_count": 1,
      "metadata": {
        "colab": {
          "base_uri": "https://localhost:8080/",
          "height": 73,
          "resources": {
            "http://localhost:8080/nbextensions/google.colab/files.js": {
              "data": "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",
              "headers": [
                [
                  "content-type",
                  "application/javascript"
                ]
              ],
              "ok": true,
              "status": 200,
              "status_text": ""
            }
          }
        },
        "id": "Hp1cnJfIx3F9",
        "outputId": "73da60a6-c5f8-4565-f368-3a9b30abcfd2"
      },
      "outputs": [
        {
          "output_type": "display_data",
          "data": {
            "text/plain": [
              "<IPython.core.display.HTML object>"
            ],
            "text/html": [
              "\n",
              "     <input type=\"file\" id=\"files-d7be384b-9c12-4140-bd0e-49c5bc260181\" name=\"files[]\" multiple disabled\n",
              "        style=\"border:none\" />\n",
              "     <output id=\"result-d7be384b-9c12-4140-bd0e-49c5bc260181\">\n",
              "      Upload widget is only available when the cell has been executed in the\n",
              "      current browser session. Please rerun this cell to enable.\n",
              "      </output>\n",
              "      <script src=\"/nbextensions/google.colab/files.js\"></script> "
            ]
          },
          "metadata": {}
        },
        {
          "output_type": "stream",
          "name": "stdout",
          "text": [
            "Saving dataset_constant_padding_final.zip to dataset_constant_padding_final.zip\n"
          ]
        }
      ],
      "source": [
        "from google.colab import files\n",
        "uploaded = files.upload()"
      ]
    },
    {
      "cell_type": "code",
      "execution_count": 2,
      "metadata": {
        "id": "vRBP68oxy8jA"
      },
      "outputs": [],
      "source": [
        "import zipfile\n",
        "import io\n",
        "data = zipfile.ZipFile(io.BytesIO(uploaded['dataset_constant_padding_final.zip']), 'r')\n",
        "data.extractall()"
      ]
    },
    {
      "cell_type": "code",
      "execution_count": 3,
      "metadata": {
        "id": "Igc1Xnhuy-Bl"
      },
      "outputs": [],
      "source": [
        "import os\n",
        "from PIL import Image"
      ]
    },
    {
      "cell_type": "markdown",
      "metadata": {
        "id": "JaLnoybAzSED"
      },
      "source": [
        "\n",
        "\n",
        "---\n",
        "\n",
        "\n",
        "Resize images for AlexNet"
      ]
    },
    {
      "cell_type": "code",
      "execution_count": 4,
      "metadata": {
        "id": "R1vsKJkszVxc"
      },
      "outputs": [],
      "source": [
        "def resizeAndSave(file_name):\n",
        "  img_size=(227,227)  \n",
        "  img = Image.open(file_name) \n",
        "  img = img.resize(img_size, Image.ANTIALIAS)  \n",
        "  img.save(file_name)  "
      ]
    },
    {
      "cell_type": "code",
      "execution_count": 5,
      "metadata": {
        "id": "jyuEMVIgz0n_"
      },
      "outputs": [],
      "source": [
        "benign_path = 'Benign/'\n",
        "malignant_path = 'Malignant/'"
      ]
    },
    {
      "cell_type": "code",
      "execution_count": 6,
      "metadata": {
        "id": "CHkQqK6dzpdA"
      },
      "outputs": [],
      "source": [
        "#Resize images\n",
        "def resizeDirectory(folder):\n",
        "  folder_path = '/content/dataset_constant_padding_final/'+folder+'/' \n",
        "  folder_b = folder_path + benign_path\n",
        "  folder_m = folder_path + malignant_path\n",
        "\n",
        "  mytrainBImages = os.listdir(folder_b)\n",
        "  mytrainMImages = os.listdir(folder_m)\n",
        "\n",
        "  for cl in mytrainBImages:\n",
        "    file_nameb = folder_b + cl \n",
        "    resizeAndSave(file_nameb)    \n",
        "\n",
        "  for cl in mytrainMImages:\n",
        "    file_namem = folder_m + cl \n",
        "    resizeAndSave(file_namem)\n",
        "\n"
      ]
    },
    {
      "cell_type": "code",
      "execution_count": 7,
      "metadata": {
        "id": "ltEKpoQ110eH"
      },
      "outputs": [],
      "source": [
        "resizeDirectory('test')\n",
        "resizeDirectory('train')\n",
        "resizeDirectory('validation')"
      ]
    },
    {
      "cell_type": "code",
      "execution_count": 8,
      "metadata": {
        "id": "pi22OSRxy_0b"
      },
      "outputs": [],
      "source": [
        "train_path = '/content/dataset_constant_padding_final/train'\n",
        "test_path = '/content/dataset_constant_padding_final/test'\n",
        "val_path = '/content/dataset_constant_padding_final/validation'"
      ]
    },
    {
      "cell_type": "markdown",
      "source": [
        "\n",
        "\n",
        "---\n",
        "\n",
        "Common functions"
      ],
      "metadata": {
        "id": "TUixWe9zVAYz"
      }
    },
    {
      "cell_type": "code",
      "execution_count": 9,
      "metadata": {
        "id": "vsAJGXhN-DkX"
      },
      "outputs": [],
      "source": [
        "classes = ['Benign', 'Malignant']"
      ]
    },
    {
      "cell_type": "code",
      "execution_count": 10,
      "metadata": {
        "id": "RHCSCxm861FQ"
      },
      "outputs": [],
      "source": [
        "from matplotlib import pyplot\n",
        "def summarize_diagnostics(history):\n",
        "  # plot loss\n",
        "  pyplot.figure(0)\n",
        "  pyplot.title('Loss')\n",
        "  pyplot.plot(history.history['loss'], color='blue', label='train')\n",
        "  pyplot.plot(history.history['val_loss'], color='orange', label='test')\n",
        "  pyplot.legend(['loss','val_loss']) \n",
        "\n",
        "  # plot accuracy\n",
        "  pyplot.figure(1)\n",
        "  pyplot.title('Classification Accuracy')\n",
        "  pyplot.plot(history.history['accuracy'], color='blue', label='train')\n",
        "  pyplot.plot(history.history['val_accuracy'], color='orange', label='test')\n",
        "  pyplot.legend(['accuracy','val_accuracy'])"
      ]
    },
    {
      "cell_type": "code",
      "execution_count": 11,
      "metadata": {
        "colab": {
          "base_uri": "https://localhost:8080/"
        },
        "id": "hNjmGc8L63gI",
        "outputId": "09f13214-5f30-48c1-a317-99948283b937"
      },
      "outputs": [
        {
          "output_type": "stream",
          "name": "stderr",
          "text": [
            "100%|██████████| 2/2 [00:00<00:00, 30.84it/s]"
          ]
        },
        {
          "output_type": "stream",
          "name": "stdout",
          "text": [
            "40 images loaded from /content/dataset_constant_padding_final/test/ directory.\n",
            "{0: 'Benign', 1: 'Malignant'}\n"
          ]
        },
        {
          "output_type": "stream",
          "name": "stderr",
          "text": [
            "\n"
          ]
        }
      ],
      "source": [
        "#functions to build confusion matrix\n",
        "from tqdm import tqdm\n",
        "import os\n",
        "import cv2\n",
        "import numpy as np\n",
        "import itertools\n",
        "from sklearn.metrics import accuracy_score, confusion_matrix\n",
        "\n",
        "def load_data(dir_path):\n",
        "    \"\"\"\n",
        "    Load resized images as np.arrays to workspace\n",
        "    \"\"\"\n",
        "    X = []\n",
        "    y = []\n",
        "    i = 0\n",
        "    labels = dict()\n",
        "    for path in tqdm(sorted(os.listdir(dir_path))):\n",
        "        if not path.startswith('.'):\n",
        "            labels[i] = path\n",
        "            for file in os.listdir(dir_path + path):\n",
        "                if not file.startswith('.'):\n",
        "                    img = cv2.imread(dir_path + path + '/' + file)\n",
        "                    X.append(img)\n",
        "                    y.append(i)\n",
        "            i += 1\n",
        "    X = np.array(X)\n",
        "    y = np.array(y)\n",
        "    print(f'{len(X)} images loaded from {dir_path} directory.')\n",
        "    return X, y, labels\n",
        "\n",
        "\n",
        "\n",
        "def plot_confusion_matrix(cm, classes,\n",
        "                          normalize=False,\n",
        "                          title='Confusion matrix',\n",
        "                          cmap=pyplot.cm.Blues):\n",
        "    \"\"\"\n",
        "    This function prints and plots the confusion matrix.\n",
        "    Normalization can be applied by setting `normalize=True`.\n",
        "    \"\"\"\n",
        "    pyplot.figure(figsize = (6,6))\n",
        "    pyplot.imshow(cm, interpolation='nearest', cmap=cmap)\n",
        "    pyplot.title(title)\n",
        "    pyplot.colorbar()\n",
        "    tick_marks = np.arange(len(classes))\n",
        "    pyplot.xticks(tick_marks, classes, rotation=90)\n",
        "    pyplot.yticks(tick_marks, classes)\n",
        "    if normalize:\n",
        "        cm = cm.astype('float') / cm.sum(axis=1)[:, np.newaxis]\n",
        "\n",
        "    thresh = cm.max() / 2.\n",
        "    cm = np.round(cm,2)\n",
        "    for i, j in itertools.product(range(cm.shape[0]), range(cm.shape[1])):\n",
        "        pyplot.text(j, i, cm[i, j],\n",
        "                 horizontalalignment=\"center\",\n",
        "                 color=\"white\" if cm[i, j] > thresh else \"black\")\n",
        "    pyplot.tight_layout()\n",
        "    pyplot.ylabel('True label')\n",
        "    pyplot.xlabel('Predicted label')\n",
        "    pyplot.show()\n",
        "\n",
        "x_test, y_test, labels = load_data('/content/dataset_constant_padding_final/test/')\n",
        "print(labels)"
      ]
    },
    {
      "cell_type": "code",
      "execution_count": 12,
      "metadata": {
        "id": "WyKNQ6Tz-Km5"
      },
      "outputs": [],
      "source": [
        "from sklearn.metrics import classification_report\n",
        "def validateResults(model):   \n",
        "  predictions = model.predict(x_test, batch_size=batch_size)\n",
        "  y_pred = np.argmax(predictions, axis=1) \n",
        "  y_true = np.argmax(y_test, axis=0)\n",
        "\n",
        "  print(\"\\n\"+ classification_report(y_test, y_pred, target_names=classes))\n",
        "  print(confusion_matrix(y_test, y_pred))\n",
        "  confusion_mtx = confusion_matrix(y_test, y_pred)\n",
        "  cm = plot_confusion_matrix(confusion_mtx, classes = list(labels.items()), normalize=False)"
      ]
    },
    {
      "cell_type": "markdown",
      "metadata": {
        "id": "yARbZdUK3vHk"
      },
      "source": [
        "\n",
        "\n",
        "---\n",
        "\n",
        "\n",
        "AlexNet"
      ]
    },
    {
      "cell_type": "code",
      "execution_count": 13,
      "metadata": {
        "id": "MslWUPKO3uG4"
      },
      "outputs": [],
      "source": [
        "import cv2\n",
        "from PIL import Image\n",
        "import numpy as np"
      ]
    },
    {
      "cell_type": "code",
      "execution_count": 14,
      "metadata": {
        "id": "J9pPhTgB3ywX"
      },
      "outputs": [],
      "source": [
        "from keras.models import Sequential\n",
        "from keras.layers import Conv2D, MaxPooling2D, Dense, Flatten, Dropout\n",
        "# metric\n",
        "from keras.metrics import binary_crossentropy"
      ]
    },
    {
      "cell_type": "code",
      "execution_count": 15,
      "metadata": {
        "id": "4eIVs4FI33Rv"
      },
      "outputs": [],
      "source": [
        "def Alexnet():\n",
        "  # Initialize the model\n",
        "  model = Sequential()\n",
        "\n",
        "  # layer 1: convolutional layer + max-pooling layer\n",
        "  model.add(Conv2D(filters = 96, kernel_size = (11,11), strides= 4, padding = 'valid'\n",
        "  , activation='relu', input_shape = (227,227,3)))\n",
        "  model.add(MaxPooling2D(pool_size = (3,3), strides = 2))\n",
        "\n",
        "  # layer 2: convolutional layer + max-pooling layer \n",
        "  model.add(Conv2D(filters = 256, kernel_size = (5,5), padding = 'same', activation = 'relu'))\n",
        "  model.add(MaxPooling2D(pool_size = (3,3), strides = 2))\n",
        "\n",
        "  # layers 3-5: three convolutional layers + 1 max-pooling layer\n",
        "  model.add(Conv2D(filters = 384, kernel_size = (3,3), padding = 'same', activation = 'relu'))\n",
        "  model.add(Conv2D(filters = 384, kernel_size = (3,3), padding = 'same', activation = 'relu'))\n",
        "  model.add(Conv2D(filters = 256, kernel_size = (3,3), padding = 'same', activation = 'relu'))\n",
        "  model.add(MaxPooling2D(pool_size = (3,3), strides = 2))\n",
        "\n",
        "  # layers 6 - 8: two fully connected hidden layers and one fully connected output layer\n",
        "  model.add(Flatten())\n",
        "  model.add(Dense(4096, activation = 'relu'))\n",
        "  model.add(Dropout(0.5))\n",
        "  model.add(Dense(4096, activation = 'relu'))\n",
        "  model.add(Dropout(0.5))\n",
        "  model.add(Dense(2, activation = 'softmax'))  \n",
        "\n",
        "  return model"
      ]
    },
    {
      "cell_type": "code",
      "execution_count": 16,
      "metadata": {
        "colab": {
          "base_uri": "https://localhost:8080/"
        },
        "id": "pZsUyuwF4jQD",
        "outputId": "66c4c459-437a-45cf-debe-351a3a138186"
      },
      "outputs": [
        {
          "output_type": "stream",
          "name": "stdout",
          "text": [
            "Model: \"sequential\"\n",
            "_________________________________________________________________\n",
            " Layer (type)                Output Shape              Param #   \n",
            "=================================================================\n",
            " conv2d (Conv2D)             (None, 55, 55, 96)        34944     \n",
            "                                                                 \n",
            " max_pooling2d (MaxPooling2D  (None, 27, 27, 96)       0         \n",
            " )                                                               \n",
            "                                                                 \n",
            " conv2d_1 (Conv2D)           (None, 27, 27, 256)       614656    \n",
            "                                                                 \n",
            " max_pooling2d_1 (MaxPooling  (None, 13, 13, 256)      0         \n",
            " 2D)                                                             \n",
            "                                                                 \n",
            " conv2d_2 (Conv2D)           (None, 13, 13, 384)       885120    \n",
            "                                                                 \n",
            " conv2d_3 (Conv2D)           (None, 13, 13, 384)       1327488   \n",
            "                                                                 \n",
            " conv2d_4 (Conv2D)           (None, 13, 13, 256)       884992    \n",
            "                                                                 \n",
            " max_pooling2d_2 (MaxPooling  (None, 6, 6, 256)        0         \n",
            " 2D)                                                             \n",
            "                                                                 \n",
            " flatten (Flatten)           (None, 9216)              0         \n",
            "                                                                 \n",
            " dense (Dense)               (None, 4096)              37752832  \n",
            "                                                                 \n",
            " dropout (Dropout)           (None, 4096)              0         \n",
            "                                                                 \n",
            " dense_1 (Dense)             (None, 4096)              16781312  \n",
            "                                                                 \n",
            " dropout_1 (Dropout)         (None, 4096)              0         \n",
            "                                                                 \n",
            " dense_2 (Dense)             (None, 2)                 8194      \n",
            "                                                                 \n",
            "=================================================================\n",
            "Total params: 58,289,538\n",
            "Trainable params: 58,289,538\n",
            "Non-trainable params: 0\n",
            "_________________________________________________________________\n"
          ]
        }
      ],
      "source": [
        "Alexnet_model = Alexnet()\n",
        "Alexnet_model.summary()"
      ]
    },
    {
      "cell_type": "code",
      "execution_count": 17,
      "metadata": {
        "id": "VRTkwzj14mUT"
      },
      "outputs": [],
      "source": [
        "from keras.preprocessing.image import ImageDataGenerator\n",
        "from keras.callbacks import ModelCheckpoint\n",
        "from keras.callbacks import EarlyStopping\n",
        "from keras.callbacks import ReduceLROnPlateau"
      ]
    },
    {
      "cell_type": "code",
      "source": [
        "from keras.preprocessing.image import ImageDataGenerator\n",
        "\n",
        "EPOCHS = 100\n",
        "batch_size = 128\n",
        "\n",
        "es = EarlyStopping(monitor='val_loss', patience=50, verbose=1, min_delta=1e-4)\n",
        "rlrop = ReduceLROnPlateau(monitor='val_loss', factor=0.1, patience=4, verbose=1, min_delta=1e-4)"
      ],
      "metadata": {
        "id": "EWz-UHjtWUeJ"
      },
      "execution_count": 43,
      "outputs": []
    },
    {
      "cell_type": "code",
      "source": [
        "datagen = ImageDataGenerator(rotation_range = 5, width_shift_range = 0.1, \n",
        "                               height_shift_range = 0.1, horizontal_flip = True)\n",
        "\n",
        "train_it = datagen.flow_from_directory(train_path, batch_size=batch_size, target_size=(227, 227))\n",
        "validation_it = datagen.flow_from_directory(val_path, batch_size=batch_size, target_size=(227, 227))\n",
        "test_it = datagen.flow_from_directory(test_path, batch_size=batch_size, target_size=(227, 227))"
      ],
      "metadata": {
        "colab": {
          "base_uri": "https://localhost:8080/"
        },
        "id": "_AyvIFeMWVy8",
        "outputId": "1ae1b99c-ed59-4ead-9fc5-e2d3a1f35021"
      },
      "execution_count": 44,
      "outputs": [
        {
          "output_type": "stream",
          "name": "stdout",
          "text": [
            "Found 98 images belonging to 2 classes.\n",
            "Found 25 images belonging to 2 classes.\n",
            "Found 40 images belonging to 2 classes.\n"
          ]
        }
      ]
    },
    {
      "cell_type": "code",
      "execution_count": 45,
      "metadata": {
        "id": "HimuP1Pg4ryK"
      },
      "outputs": [],
      "source": [
        "def fitAlexNet1():\n",
        "  # compile the model with a loss funciton, a metric and and optimizqation method  \n",
        "  Alexnet_model.compile(optimizer='adam', loss='categorical_crossentropy', metrics=['accuracy'])\n",
        "\n",
        "  # fit model\n",
        "  historyAlexNet1 = Alexnet_model.fit(\n",
        "      train_it, \n",
        "      steps_per_epoch=len(train_it),\n",
        "      validation_data=validation_it, \n",
        "      validation_steps=len(validation_it), \n",
        "      epochs=EPOCHS, \n",
        "      verbose=1,\n",
        "      callbacks=[rlrop, es])\n",
        "  \n",
        "  return historyAlexNet1"
      ]
    },
    {
      "cell_type": "code",
      "source": [
        "historyAlexNet1 = fitAlexNet1()"
      ],
      "metadata": {
        "colab": {
          "base_uri": "https://localhost:8080/"
        },
        "id": "7GLVKZnVXUvw",
        "outputId": "e3497c45-53be-40e8-bde0-32349e507d11"
      },
      "execution_count": 46,
      "outputs": [
        {
          "output_type": "stream",
          "name": "stdout",
          "text": [
            "Epoch 1/100\n",
            "1/1 [==============================] - 3s 3s/step - loss: 0.6337 - accuracy: 0.6939 - val_loss: 0.6623 - val_accuracy: 0.6000 - lr: 0.0010\n",
            "Epoch 2/100\n",
            "1/1 [==============================] - 1s 1s/step - loss: 0.6121 - accuracy: 0.6939 - val_loss: 0.7610 - val_accuracy: 0.6000 - lr: 0.0010\n",
            "Epoch 3/100\n",
            "1/1 [==============================] - 1s 1s/step - loss: 0.6326 - accuracy: 0.6939 - val_loss: 0.6867 - val_accuracy: 0.6000 - lr: 0.0010\n",
            "Epoch 4/100\n",
            "1/1 [==============================] - 1s 1s/step - loss: 0.6064 - accuracy: 0.6939 - val_loss: 0.6598 - val_accuracy: 0.6000 - lr: 0.0010\n",
            "Epoch 5/100\n",
            "1/1 [==============================] - 1s 1s/step - loss: 0.5797 - accuracy: 0.6939 - val_loss: 0.6346 - val_accuracy: 0.6000 - lr: 0.0010\n",
            "Epoch 6/100\n",
            "1/1 [==============================] - 1s 1s/step - loss: 0.5846 - accuracy: 0.6939 - val_loss: 0.7125 - val_accuracy: 0.6000 - lr: 0.0010\n",
            "Epoch 7/100\n",
            "1/1 [==============================] - 1s 1s/step - loss: 0.6302 - accuracy: 0.6939 - val_loss: 0.6657 - val_accuracy: 0.6400 - lr: 0.0010\n",
            "Epoch 8/100\n",
            "1/1 [==============================] - 1s 1s/step - loss: 0.5651 - accuracy: 0.7449 - val_loss: 0.5755 - val_accuracy: 0.7200 - lr: 0.0010\n",
            "Epoch 9/100\n",
            "1/1 [==============================] - 1s 1s/step - loss: 0.5885 - accuracy: 0.7041 - val_loss: 0.5601 - val_accuracy: 0.6400 - lr: 0.0010\n",
            "Epoch 10/100\n",
            "1/1 [==============================] - 1s 1s/step - loss: 0.5351 - accuracy: 0.7347 - val_loss: 0.5378 - val_accuracy: 0.6400 - lr: 0.0010\n",
            "Epoch 11/100\n",
            "1/1 [==============================] - 1s 1s/step - loss: 0.5376 - accuracy: 0.7347 - val_loss: 0.5694 - val_accuracy: 0.6400 - lr: 0.0010\n",
            "Epoch 12/100\n",
            "1/1 [==============================] - 1s 1s/step - loss: 0.5154 - accuracy: 0.7245 - val_loss: 0.5761 - val_accuracy: 0.6800 - lr: 0.0010\n",
            "Epoch 13/100\n",
            "1/1 [==============================] - 1s 1s/step - loss: 0.4911 - accuracy: 0.7551 - val_loss: 0.4521 - val_accuracy: 0.6800 - lr: 0.0010\n",
            "Epoch 14/100\n",
            "1/1 [==============================] - 1s 1s/step - loss: 0.4868 - accuracy: 0.7449 - val_loss: 0.5131 - val_accuracy: 0.7200 - lr: 0.0010\n",
            "Epoch 15/100\n",
            "1/1 [==============================] - 1s 1s/step - loss: 0.4743 - accuracy: 0.7449 - val_loss: 0.5100 - val_accuracy: 0.6800 - lr: 0.0010\n",
            "Epoch 16/100\n",
            "1/1 [==============================] - 1s 1s/step - loss: 0.4948 - accuracy: 0.7449 - val_loss: 0.4305 - val_accuracy: 0.7600 - lr: 0.0010\n",
            "Epoch 17/100\n",
            "1/1 [==============================] - 1s 1s/step - loss: 0.4380 - accuracy: 0.7959 - val_loss: 0.3654 - val_accuracy: 0.8400 - lr: 0.0010\n",
            "Epoch 18/100\n",
            "1/1 [==============================] - 1s 1s/step - loss: 0.4073 - accuracy: 0.8163 - val_loss: 0.3294 - val_accuracy: 0.8400 - lr: 0.0010\n",
            "Epoch 19/100\n",
            "1/1 [==============================] - 1s 1s/step - loss: 0.4787 - accuracy: 0.8163 - val_loss: 0.5444 - val_accuracy: 0.7600 - lr: 0.0010\n",
            "Epoch 20/100\n",
            "1/1 [==============================] - 1s 1s/step - loss: 0.4190 - accuracy: 0.7959 - val_loss: 0.3064 - val_accuracy: 0.8800 - lr: 0.0010\n",
            "Epoch 21/100\n",
            "1/1 [==============================] - 1s 1s/step - loss: 0.6078 - accuracy: 0.7245 - val_loss: 0.4639 - val_accuracy: 0.6400 - lr: 0.0010\n",
            "Epoch 22/100\n",
            "1/1 [==============================] - 1s 1s/step - loss: 0.4175 - accuracy: 0.8061 - val_loss: 0.6827 - val_accuracy: 0.6400 - lr: 0.0010\n",
            "Epoch 23/100\n",
            "1/1 [==============================] - 1s 1s/step - loss: 0.4939 - accuracy: 0.7143 - val_loss: 0.5168 - val_accuracy: 0.6800 - lr: 0.0010\n",
            "Epoch 24/100\n",
            "1/1 [==============================] - ETA: 0s - loss: 0.4343 - accuracy: 0.7245\n",
            "Epoch 24: ReduceLROnPlateau reducing learning rate to 0.00010000000474974513.\n",
            "1/1 [==============================] - 1s 1s/step - loss: 0.4343 - accuracy: 0.7245 - val_loss: 0.4328 - val_accuracy: 0.8000 - lr: 0.0010\n",
            "Epoch 25/100\n",
            "1/1 [==============================] - 1s 1s/step - loss: 0.4566 - accuracy: 0.8061 - val_loss: 0.5116 - val_accuracy: 0.8800 - lr: 1.0000e-04\n",
            "Epoch 26/100\n",
            "1/1 [==============================] - 1s 1s/step - loss: 0.4760 - accuracy: 0.8061 - val_loss: 0.4604 - val_accuracy: 0.8000 - lr: 1.0000e-04\n",
            "Epoch 27/100\n",
            "1/1 [==============================] - 1s 1s/step - loss: 0.4907 - accuracy: 0.7959 - val_loss: 0.4657 - val_accuracy: 0.8000 - lr: 1.0000e-04\n",
            "Epoch 28/100\n",
            "1/1 [==============================] - ETA: 0s - loss: 0.4695 - accuracy: 0.8061\n",
            "Epoch 28: ReduceLROnPlateau reducing learning rate to 1.0000000474974514e-05.\n",
            "1/1 [==============================] - 1s 1s/step - loss: 0.4695 - accuracy: 0.8061 - val_loss: 0.4550 - val_accuracy: 0.8000 - lr: 1.0000e-04\n",
            "Epoch 29/100\n",
            "1/1 [==============================] - 1s 1s/step - loss: 0.4438 - accuracy: 0.8061 - val_loss: 0.3928 - val_accuracy: 0.8000 - lr: 1.0000e-05\n",
            "Epoch 30/100\n",
            "1/1 [==============================] - 1s 1s/step - loss: 0.4297 - accuracy: 0.8265 - val_loss: 0.5735 - val_accuracy: 0.7600 - lr: 1.0000e-05\n",
            "Epoch 31/100\n",
            "1/1 [==============================] - 1s 1s/step - loss: 0.4216 - accuracy: 0.8673 - val_loss: 0.5372 - val_accuracy: 0.8400 - lr: 1.0000e-05\n",
            "Epoch 32/100\n",
            "1/1 [==============================] - ETA: 0s - loss: 0.4416 - accuracy: 0.8776\n",
            "Epoch 32: ReduceLROnPlateau reducing learning rate to 1.0000000656873453e-06.\n",
            "1/1 [==============================] - 1s 1s/step - loss: 0.4416 - accuracy: 0.8776 - val_loss: 0.4479 - val_accuracy: 0.7600 - lr: 1.0000e-05\n",
            "Epoch 33/100\n",
            "1/1 [==============================] - 1s 1s/step - loss: 0.4405 - accuracy: 0.8469 - val_loss: 0.4026 - val_accuracy: 0.8400 - lr: 1.0000e-06\n",
            "Epoch 34/100\n",
            "1/1 [==============================] - 1s 1s/step - loss: 0.4286 - accuracy: 0.7959 - val_loss: 0.4187 - val_accuracy: 0.8000 - lr: 1.0000e-06\n",
            "Epoch 35/100\n",
            "1/1 [==============================] - 1s 1s/step - loss: 0.4192 - accuracy: 0.8367 - val_loss: 0.4695 - val_accuracy: 0.8400 - lr: 1.0000e-06\n",
            "Epoch 36/100\n",
            "1/1 [==============================] - ETA: 0s - loss: 0.4429 - accuracy: 0.7959\n",
            "Epoch 36: ReduceLROnPlateau reducing learning rate to 1.0000001111620805e-07.\n",
            "1/1 [==============================] - 1s 1s/step - loss: 0.4429 - accuracy: 0.7959 - val_loss: 0.4603 - val_accuracy: 0.7600 - lr: 1.0000e-06\n",
            "Epoch 37/100\n",
            "1/1 [==============================] - 1s 1s/step - loss: 0.4250 - accuracy: 0.8265 - val_loss: 0.4220 - val_accuracy: 0.7600 - lr: 1.0000e-07\n",
            "Epoch 38/100\n",
            "1/1 [==============================] - 1s 1s/step - loss: 0.4644 - accuracy: 0.7959 - val_loss: 0.4849 - val_accuracy: 0.7600 - lr: 1.0000e-07\n",
            "Epoch 39/100\n",
            "1/1 [==============================] - 1s 1s/step - loss: 0.4607 - accuracy: 0.8061 - val_loss: 0.4780 - val_accuracy: 0.7600 - lr: 1.0000e-07\n",
            "Epoch 40/100\n",
            "1/1 [==============================] - ETA: 0s - loss: 0.4124 - accuracy: 0.8163\n",
            "Epoch 40: ReduceLROnPlateau reducing learning rate to 1.000000082740371e-08.\n",
            "1/1 [==============================] - 1s 1s/step - loss: 0.4124 - accuracy: 0.8163 - val_loss: 0.4177 - val_accuracy: 0.7600 - lr: 1.0000e-07\n",
            "Epoch 41/100\n",
            "1/1 [==============================] - 2s 2s/step - loss: 0.4071 - accuracy: 0.8367 - val_loss: 0.5095 - val_accuracy: 0.6800 - lr: 1.0000e-08\n",
            "Epoch 42/100\n",
            "1/1 [==============================] - 2s 2s/step - loss: 0.4234 - accuracy: 0.7857 - val_loss: 0.4160 - val_accuracy: 0.8400 - lr: 1.0000e-08\n",
            "Epoch 43/100\n",
            "1/1 [==============================] - 1s 1s/step - loss: 0.4402 - accuracy: 0.8061 - val_loss: 0.5026 - val_accuracy: 0.8000 - lr: 1.0000e-08\n",
            "Epoch 44/100\n",
            "1/1 [==============================] - ETA: 0s - loss: 0.4519 - accuracy: 0.7959\n",
            "Epoch 44: ReduceLROnPlateau reducing learning rate to 1.000000082740371e-09.\n",
            "1/1 [==============================] - 1s 1s/step - loss: 0.4519 - accuracy: 0.7959 - val_loss: 0.4906 - val_accuracy: 0.6400 - lr: 1.0000e-08\n",
            "Epoch 45/100\n",
            "1/1 [==============================] - 1s 1s/step - loss: 0.4111 - accuracy: 0.8469 - val_loss: 0.5008 - val_accuracy: 0.7200 - lr: 1.0000e-09\n",
            "Epoch 46/100\n",
            "1/1 [==============================] - 1s 1s/step - loss: 0.4353 - accuracy: 0.8265 - val_loss: 0.5172 - val_accuracy: 0.7600 - lr: 1.0000e-09\n",
            "Epoch 47/100\n",
            "1/1 [==============================] - 1s 1s/step - loss: 0.4381 - accuracy: 0.8163 - val_loss: 0.4487 - val_accuracy: 0.8400 - lr: 1.0000e-09\n",
            "Epoch 48/100\n",
            "1/1 [==============================] - ETA: 0s - loss: 0.4365 - accuracy: 0.8469\n",
            "Epoch 48: ReduceLROnPlateau reducing learning rate to 1.000000082740371e-10.\n",
            "1/1 [==============================] - 1s 1s/step - loss: 0.4365 - accuracy: 0.8469 - val_loss: 0.4897 - val_accuracy: 0.8000 - lr: 1.0000e-09\n",
            "Epoch 49/100\n",
            "1/1 [==============================] - 1s 1s/step - loss: 0.4400 - accuracy: 0.8265 - val_loss: 0.4141 - val_accuracy: 0.7600 - lr: 1.0000e-10\n",
            "Epoch 50/100\n",
            "1/1 [==============================] - 1s 1s/step - loss: 0.4212 - accuracy: 0.8469 - val_loss: 0.4039 - val_accuracy: 0.7600 - lr: 1.0000e-10\n",
            "Epoch 51/100\n",
            "1/1 [==============================] - 1s 1s/step - loss: 0.4364 - accuracy: 0.8367 - val_loss: 0.4701 - val_accuracy: 0.7600 - lr: 1.0000e-10\n",
            "Epoch 52/100\n",
            "1/1 [==============================] - ETA: 0s - loss: 0.4521 - accuracy: 0.8469\n",
            "Epoch 52: ReduceLROnPlateau reducing learning rate to 1.000000082740371e-11.\n",
            "1/1 [==============================] - 1s 1s/step - loss: 0.4521 - accuracy: 0.8469 - val_loss: 0.4932 - val_accuracy: 0.7600 - lr: 1.0000e-10\n",
            "Epoch 53/100\n",
            "1/1 [==============================] - 1s 1s/step - loss: 0.4549 - accuracy: 0.7959 - val_loss: 0.4473 - val_accuracy: 0.7600 - lr: 1.0000e-11\n",
            "Epoch 54/100\n",
            "1/1 [==============================] - 1s 1s/step - loss: 0.4735 - accuracy: 0.7551 - val_loss: 0.4141 - val_accuracy: 0.7200 - lr: 1.0000e-11\n",
            "Epoch 55/100\n",
            "1/1 [==============================] - 1s 1s/step - loss: 0.4121 - accuracy: 0.8776 - val_loss: 0.4493 - val_accuracy: 0.7200 - lr: 1.0000e-11\n",
            "Epoch 56/100\n",
            "1/1 [==============================] - ETA: 0s - loss: 0.4463 - accuracy: 0.8163\n",
            "Epoch 56: ReduceLROnPlateau reducing learning rate to 1.000000082740371e-12.\n",
            "1/1 [==============================] - 1s 1s/step - loss: 0.4463 - accuracy: 0.8163 - val_loss: 0.4875 - val_accuracy: 0.7600 - lr: 1.0000e-11\n",
            "Epoch 57/100\n",
            "1/1 [==============================] - 1s 1s/step - loss: 0.4089 - accuracy: 0.7857 - val_loss: 0.4246 - val_accuracy: 0.7600 - lr: 1.0000e-12\n",
            "Epoch 58/100\n",
            "1/1 [==============================] - 1s 1s/step - loss: 0.4129 - accuracy: 0.8061 - val_loss: 0.4682 - val_accuracy: 0.7200 - lr: 1.0000e-12\n",
            "Epoch 59/100\n",
            "1/1 [==============================] - 1s 1s/step - loss: 0.4378 - accuracy: 0.7857 - val_loss: 0.4395 - val_accuracy: 0.8000 - lr: 1.0000e-12\n",
            "Epoch 60/100\n",
            "1/1 [==============================] - ETA: 0s - loss: 0.4326 - accuracy: 0.8265\n",
            "Epoch 60: ReduceLROnPlateau reducing learning rate to 1.0000001044244145e-13.\n",
            "1/1 [==============================] - 1s 1s/step - loss: 0.4326 - accuracy: 0.8265 - val_loss: 0.4971 - val_accuracy: 0.7600 - lr: 1.0000e-12\n",
            "Epoch 61/100\n",
            "1/1 [==============================] - 1s 1s/step - loss: 0.4161 - accuracy: 0.8776 - val_loss: 0.4377 - val_accuracy: 0.7200 - lr: 1.0000e-13\n",
            "Epoch 62/100\n",
            "1/1 [==============================] - 1s 1s/step - loss: 0.4550 - accuracy: 0.8265 - val_loss: 0.4703 - val_accuracy: 0.8000 - lr: 1.0000e-13\n",
            "Epoch 63/100\n",
            "1/1 [==============================] - 1s 1s/step - loss: 0.4456 - accuracy: 0.7755 - val_loss: 0.3792 - val_accuracy: 0.7600 - lr: 1.0000e-13\n",
            "Epoch 64/100\n",
            "1/1 [==============================] - ETA: 0s - loss: 0.4462 - accuracy: 0.8061\n",
            "Epoch 64: ReduceLROnPlateau reducing learning rate to 1.0000001179769417e-14.\n",
            "1/1 [==============================] - 1s 1s/step - loss: 0.4462 - accuracy: 0.8061 - val_loss: 0.4098 - val_accuracy: 0.8000 - lr: 1.0000e-13\n",
            "Epoch 65/100\n",
            "1/1 [==============================] - 1s 1s/step - loss: 0.4441 - accuracy: 0.8367 - val_loss: 0.4347 - val_accuracy: 0.7600 - lr: 1.0000e-14\n",
            "Epoch 66/100\n",
            "1/1 [==============================] - 1s 1s/step - loss: 0.4288 - accuracy: 0.8061 - val_loss: 0.4593 - val_accuracy: 0.8400 - lr: 1.0000e-14\n",
            "Epoch 67/100\n",
            "1/1 [==============================] - 1s 1s/step - loss: 0.4479 - accuracy: 0.7959 - val_loss: 0.4492 - val_accuracy: 0.8000 - lr: 1.0000e-14\n",
            "Epoch 68/100\n",
            "1/1 [==============================] - ETA: 0s - loss: 0.4273 - accuracy: 0.8673\n",
            "Epoch 68: ReduceLROnPlateau reducing learning rate to 1.0000001518582595e-15.\n",
            "1/1 [==============================] - 1s 1s/step - loss: 0.4273 - accuracy: 0.8673 - val_loss: 0.3992 - val_accuracy: 0.7600 - lr: 1.0000e-14\n",
            "Epoch 69/100\n",
            "1/1 [==============================] - 1s 1s/step - loss: 0.4248 - accuracy: 0.8163 - val_loss: 0.4526 - val_accuracy: 0.8000 - lr: 1.0000e-15\n",
            "Epoch 70/100\n",
            "1/1 [==============================] - 1s 1s/step - loss: 0.4411 - accuracy: 0.7959 - val_loss: 0.5451 - val_accuracy: 0.7600 - lr: 1.0000e-15\n",
            "Epoch 70: early stopping\n"
          ]
        }
      ]
    },
    {
      "cell_type": "code",
      "execution_count": 47,
      "metadata": {
        "colab": {
          "base_uri": "https://localhost:8080/",
          "height": 545
        },
        "id": "Y2fw7VUS69d2",
        "outputId": "dbffa47e-9f2a-4fbd-bbd6-8d5a58863e0e"
      },
      "outputs": [
        {
          "output_type": "display_data",
          "data": {
            "text/plain": [
              "<Figure size 432x288 with 1 Axes>"
            ],
            "image/png": "[encoded data removed]"
          },
          "metadata": {
            "needs_background": "light"
          }
        },
        {
          "output_type": "display_data",
          "data": {
            "text/plain": [
              "<Figure size 432x288 with 1 Axes>"
            ],
            "image/png": "[encoded data removed]"
          },
          "metadata": {
            "needs_background": "light"
          }
        }
      ],
      "source": [
        "summarize_diagnostics(historyAlexNet1)"
      ]
    },
    {
      "cell_type": "code",
      "execution_count": 48,
      "metadata": {
        "colab": {
          "base_uri": "https://localhost:8080/",
          "height": 685
        },
        "id": "w2joOSUO-N99",
        "outputId": "407e1d97-eea7-4243-be66-4c8a16e3b0bf"
      },
      "outputs": [
        {
          "output_type": "stream",
          "name": "stderr",
          "text": [
            "WARNING:tensorflow:6 out of the last 6 calls to <function Model.make_predict_function.<locals>.predict_function at 0x7f1c1be06cb0> triggered tf.function retracing. Tracing is expensive and the excessive number of tracings could be due to (1) creating @tf.function repeatedly in a loop, (2) passing tensors with different shapes, (3) passing Python objects instead of tensors. For (1), please define your @tf.function outside of the loop. For (2), @tf.function has experimental_relax_shapes=True option that relaxes argument shapes that can avoid unnecessary retracing. For (3), please refer to https://www.tensorflow.org/guide/function#controlling_retracing and https://www.tensorflow.org/api_docs/python/tf/function for  more details.\n"
          ]
        },
        {
          "output_type": "stream",
          "name": "stdout",
          "text": [
            "\n",
            "              precision    recall  f1-score   support\n",
            "\n",
            "      Benign       0.76      0.96      0.85        26\n",
            "   Malignant       0.86      0.43      0.57        14\n",
            "\n",
            "    accuracy                           0.78        40\n",
            "   macro avg       0.81      0.70      0.71        40\n",
            "weighted avg       0.79      0.78      0.75        40\n",
            "\n",
            "[[25  1]\n",
            " [ 8  6]]\n"
          ]
        },
        {
          "output_type": "display_data",
          "data": {
            "text/plain": [
              "<Figure size 432x432 with 2 Axes>"
            ],
            "image/png": "[encoded data removed]"
          },
          "metadata": {
            "needs_background": "light"
          }
        }
      ],
      "source": [
        "validateResults(Alexnet_model)"
      ]
    },
    {
      "cell_type": "markdown",
      "source": [
        "AlexNet v2"
      ],
      "metadata": {
        "id": "nINj2gybYHzv"
      }
    },
    {
      "cell_type": "code",
      "source": [
        "def fitAlexNet2():\n",
        "  model = Alexnet()\n",
        "  # compile the model with a loss funciton, a metric and and optimization method\n",
        "\n",
        "  model.compile(optimizer='adam', loss='categorical_crossentropy', metrics=['accuracy'])\n",
        "\n",
        "  datagen2 = ImageDataGenerator(rotation_range=15)\n",
        "  \n",
        "  train_it_v2 = datagen2.flow_from_directory(train_path, batch_size=batch_size, target_size=(227, 227))\n",
        "  validation_it_v2 = datagen2.flow_from_directory(val_path, batch_size=batch_size, target_size=(227, 227))\n",
        "  test_it_v2 = datagen2.flow_from_directory(test_path, batch_size=batch_size, target_size=(227, 227))\n",
        "\n",
        "  # fit model\n",
        "  historyAlexNet2 = model.fit(\n",
        "      train_it_v2, \n",
        "      steps_per_epoch=len(train_it_v2),\n",
        "      validation_data=validation_it_v2, \n",
        "      validation_steps=len(validation_it_v2), \n",
        "      epochs=EPOCHS, \n",
        "      verbose=1,\n",
        "      callbacks=[rlrop, es])\n",
        "  \n",
        "  return historyAlexNet2, model"
      ],
      "metadata": {
        "id": "yl1Jqba8YKBc"
      },
      "execution_count": 51,
      "outputs": []
    },
    {
      "cell_type": "code",
      "source": [
        "historyAlexNet2, alexNet2 = fitAlexNet2()"
      ],
      "metadata": {
        "colab": {
          "base_uri": "https://localhost:8080/"
        },
        "id": "wmz0DEt3YnRq",
        "outputId": "c2b79713-fbf8-4817-f650-113ceeadd3e4"
      },
      "execution_count": 55,
      "outputs": [
        {
          "output_type": "stream",
          "name": "stdout",
          "text": [
            "Found 98 images belonging to 2 classes.\n",
            "Found 25 images belonging to 2 classes.\n",
            "Found 40 images belonging to 2 classes.\n",
            "Epoch 1/100\n",
            "1/1 [==============================] - 2s 2s/step - loss: 4.1415 - accuracy: 0.3673 - val_loss: 1924.4211 - val_accuracy: 0.6000 - lr: 0.0010\n",
            "Epoch 2/100\n",
            "1/1 [==============================] - 1s 1s/step - loss: 1380.9875 - accuracy: 0.6939 - val_loss: 1.0118 - val_accuracy: 0.6000 - lr: 0.0010\n",
            "Epoch 3/100\n",
            "1/1 [==============================] - 1s 1s/step - loss: 1.1577 - accuracy: 0.6939 - val_loss: 1.6643 - val_accuracy: 0.4000 - lr: 0.0010\n",
            "Epoch 4/100\n",
            "1/1 [==============================] - 1s 1s/step - loss: 2.1118 - accuracy: 0.3061 - val_loss: 0.7126 - val_accuracy: 0.4000 - lr: 0.0010\n",
            "Epoch 5/100\n",
            "1/1 [==============================] - 1s 1s/step - loss: 0.7432 - accuracy: 0.3061 - val_loss: 0.6907 - val_accuracy: 0.6800 - lr: 0.0010\n",
            "Epoch 6/100\n",
            "1/1 [==============================] - 1s 1s/step - loss: 0.6865 - accuracy: 0.6939 - val_loss: 0.6777 - val_accuracy: 0.6000 - lr: 0.0010\n",
            "Epoch 7/100\n",
            "1/1 [==============================] - 1s 1s/step - loss: 0.6313 - accuracy: 0.6939 - val_loss: 0.9669 - val_accuracy: 0.6000 - lr: 0.0010\n",
            "Epoch 8/100\n",
            "1/1 [==============================] - 1s 1s/step - loss: 0.7811 - accuracy: 0.6939 - val_loss: 0.6710 - val_accuracy: 0.4400 - lr: 0.0010\n",
            "Epoch 9/100\n",
            "1/1 [==============================] - 1s 1s/step - loss: 0.6901 - accuracy: 0.5612 - val_loss: 0.6775 - val_accuracy: 0.5200 - lr: 0.0010\n",
            "Epoch 10/100\n",
            "1/1 [==============================] - 1s 1s/step - loss: 0.6928 - accuracy: 0.5408 - val_loss: 0.6665 - val_accuracy: 0.7600 - lr: 0.0010\n",
            "Epoch 11/100\n",
            "1/1 [==============================] - 1s 1s/step - loss: 0.6636 - accuracy: 0.7347 - val_loss: 0.6493 - val_accuracy: 0.6400 - lr: 0.0010\n",
            "Epoch 12/100\n",
            "1/1 [==============================] - 1s 1s/step - loss: 0.6290 - accuracy: 0.7041 - val_loss: 0.6361 - val_accuracy: 0.6000 - lr: 0.0010\n",
            "Epoch 13/100\n",
            "1/1 [==============================] - 1s 1s/step - loss: 0.5925 - accuracy: 0.6939 - val_loss: 0.6548 - val_accuracy: 0.6000 - lr: 0.0010\n",
            "Epoch 14/100\n",
            "1/1 [==============================] - 1s 1s/step - loss: 0.5370 - accuracy: 0.6939 - val_loss: 0.9384 - val_accuracy: 0.6000 - lr: 0.0010\n",
            "Epoch 15/100\n",
            "1/1 [==============================] - 1s 1s/step - loss: 0.6948 - accuracy: 0.6939 - val_loss: 0.6951 - val_accuracy: 0.6000 - lr: 0.0010\n",
            "Epoch 16/100\n",
            "1/1 [==============================] - ETA: 0s - loss: 0.5492 - accuracy: 0.6939\n",
            "Epoch 16: ReduceLROnPlateau reducing learning rate to 0.00010000000474974513.\n",
            "1/1 [==============================] - 1s 1s/step - loss: 0.5492 - accuracy: 0.6939 - val_loss: 0.6532 - val_accuracy: 0.6000 - lr: 0.0010\n",
            "Epoch 17/100\n",
            "1/1 [==============================] - 1s 1s/step - loss: 0.5732 - accuracy: 0.7143 - val_loss: 0.5654 - val_accuracy: 0.6000 - lr: 1.0000e-04\n",
            "Epoch 18/100\n",
            "1/1 [==============================] - 1s 1s/step - loss: 0.5859 - accuracy: 0.6939 - val_loss: 0.6187 - val_accuracy: 0.6000 - lr: 1.0000e-04\n",
            "Epoch 19/100\n",
            "1/1 [==============================] - 1s 1s/step - loss: 0.5760 - accuracy: 0.6939 - val_loss: 0.6611 - val_accuracy: 0.6000 - lr: 1.0000e-04\n",
            "Epoch 20/100\n",
            "1/1 [==============================] - 1s 1s/step - loss: 0.5654 - accuracy: 0.7041 - val_loss: 0.5899 - val_accuracy: 0.6000 - lr: 1.0000e-04\n",
            "Epoch 21/100\n",
            "1/1 [==============================] - ETA: 0s - loss: 0.5468 - accuracy: 0.6939\n",
            "Epoch 21: ReduceLROnPlateau reducing learning rate to 1.0000000474974514e-05.\n",
            "1/1 [==============================] - 1s 1s/step - loss: 0.5468 - accuracy: 0.6939 - val_loss: 0.5983 - val_accuracy: 0.6000 - lr: 1.0000e-04\n",
            "Epoch 22/100\n",
            "1/1 [==============================] - 1s 1s/step - loss: 0.5632 - accuracy: 0.6939 - val_loss: 0.5851 - val_accuracy: 0.6000 - lr: 1.0000e-05\n",
            "Epoch 23/100\n",
            "1/1 [==============================] - 1s 1s/step - loss: 0.5377 - accuracy: 0.6939 - val_loss: 0.6197 - val_accuracy: 0.6000 - lr: 1.0000e-05\n",
            "Epoch 24/100\n",
            "1/1 [==============================] - 1s 1s/step - loss: 0.5428 - accuracy: 0.6939 - val_loss: 0.6215 - val_accuracy: 0.6000 - lr: 1.0000e-05\n",
            "Epoch 25/100\n",
            "1/1 [==============================] - ETA: 0s - loss: 0.5489 - accuracy: 0.6939\n",
            "Epoch 25: ReduceLROnPlateau reducing learning rate to 1.0000000656873453e-06.\n",
            "1/1 [==============================] - 1s 1s/step - loss: 0.5489 - accuracy: 0.6939 - val_loss: 0.5680 - val_accuracy: 0.6000 - lr: 1.0000e-05\n",
            "Epoch 26/100\n",
            "1/1 [==============================] - 1s 1s/step - loss: 0.5583 - accuracy: 0.6939 - val_loss: 0.5598 - val_accuracy: 0.6000 - lr: 1.0000e-06\n",
            "Epoch 27/100\n",
            "1/1 [==============================] - 1s 1s/step - loss: 0.5641 - accuracy: 0.6939 - val_loss: 0.6174 - val_accuracy: 0.6000 - lr: 1.0000e-06\n",
            "Epoch 28/100\n",
            "1/1 [==============================] - 1s 1s/step - loss: 0.5643 - accuracy: 0.6939 - val_loss: 0.6773 - val_accuracy: 0.6000 - lr: 1.0000e-06\n",
            "Epoch 29/100\n",
            "1/1 [==============================] - 1s 1s/step - loss: 0.5610 - accuracy: 0.6939 - val_loss: 0.5932 - val_accuracy: 0.6000 - lr: 1.0000e-06\n",
            "Epoch 30/100\n",
            "1/1 [==============================] - ETA: 0s - loss: 0.5275 - accuracy: 0.6939\n",
            "Epoch 30: ReduceLROnPlateau reducing learning rate to 1.0000001111620805e-07.\n",
            "1/1 [==============================] - 1s 1s/step - loss: 0.5275 - accuracy: 0.6939 - val_loss: 0.6497 - val_accuracy: 0.6000 - lr: 1.0000e-06\n",
            "Epoch 31/100\n",
            "1/1 [==============================] - 1s 1s/step - loss: 0.5486 - accuracy: 0.6939 - val_loss: 0.5955 - val_accuracy: 0.6000 - lr: 1.0000e-07\n",
            "Epoch 32/100\n",
            "1/1 [==============================] - 1s 1s/step - loss: 0.5733 - accuracy: 0.7041 - val_loss: 0.6189 - val_accuracy: 0.6000 - lr: 1.0000e-07\n",
            "Epoch 33/100\n",
            "1/1 [==============================] - 1s 1s/step - loss: 0.5619 - accuracy: 0.7041 - val_loss: 0.5863 - val_accuracy: 0.6000 - lr: 1.0000e-07\n",
            "Epoch 34/100\n",
            "1/1 [==============================] - ETA: 0s - loss: 0.5326 - accuracy: 0.6939\n",
            "Epoch 34: ReduceLROnPlateau reducing learning rate to 1.000000082740371e-08.\n",
            "1/1 [==============================] - 1s 1s/step - loss: 0.5326 - accuracy: 0.6939 - val_loss: 0.5789 - val_accuracy: 0.6000 - lr: 1.0000e-07\n",
            "Epoch 35/100\n",
            "1/1 [==============================] - 1s 1s/step - loss: 0.5521 - accuracy: 0.6939 - val_loss: 0.6561 - val_accuracy: 0.6000 - lr: 1.0000e-08\n",
            "Epoch 36/100\n",
            "1/1 [==============================] - 1s 1s/step - loss: 0.5705 - accuracy: 0.6939 - val_loss: 0.5810 - val_accuracy: 0.6000 - lr: 1.0000e-08\n",
            "Epoch 37/100\n",
            "1/1 [==============================] - 1s 1s/step - loss: 0.5265 - accuracy: 0.7041 - val_loss: 0.6156 - val_accuracy: 0.6000 - lr: 1.0000e-08\n",
            "Epoch 38/100\n",
            "1/1 [==============================] - ETA: 0s - loss: 0.5556 - accuracy: 0.6939\n",
            "Epoch 38: ReduceLROnPlateau reducing learning rate to 1.000000082740371e-09.\n",
            "1/1 [==============================] - 1s 1s/step - loss: 0.5556 - accuracy: 0.6939 - val_loss: 0.5964 - val_accuracy: 0.6000 - lr: 1.0000e-08\n",
            "Epoch 39/100\n",
            "1/1 [==============================] - 1s 1s/step - loss: 0.5485 - accuracy: 0.6939 - val_loss: 0.5247 - val_accuracy: 0.6000 - lr: 1.0000e-09\n",
            "Epoch 40/100\n",
            "1/1 [==============================] - 1s 1s/step - loss: 0.5603 - accuracy: 0.7041 - val_loss: 0.5986 - val_accuracy: 0.6000 - lr: 1.0000e-09\n",
            "Epoch 41/100\n",
            "1/1 [==============================] - 1s 1s/step - loss: 0.5475 - accuracy: 0.7143 - val_loss: 0.5920 - val_accuracy: 0.6000 - lr: 1.0000e-09\n",
            "Epoch 42/100\n",
            "1/1 [==============================] - 1s 1s/step - loss: 0.5516 - accuracy: 0.6939 - val_loss: 0.6064 - val_accuracy: 0.6000 - lr: 1.0000e-09\n",
            "Epoch 43/100\n",
            "1/1 [==============================] - ETA: 0s - loss: 0.5694 - accuracy: 0.7041\n",
            "Epoch 43: ReduceLROnPlateau reducing learning rate to 1.000000082740371e-10.\n",
            "1/1 [==============================] - 1s 1s/step - loss: 0.5694 - accuracy: 0.7041 - val_loss: 0.5822 - val_accuracy: 0.6000 - lr: 1.0000e-09\n",
            "Epoch 44/100\n",
            "1/1 [==============================] - 1s 1s/step - loss: 0.5546 - accuracy: 0.7041 - val_loss: 0.5682 - val_accuracy: 0.6000 - lr: 1.0000e-10\n",
            "Epoch 45/100\n",
            "1/1 [==============================] - 1s 1s/step - loss: 0.5615 - accuracy: 0.6939 - val_loss: 0.6517 - val_accuracy: 0.6000 - lr: 1.0000e-10\n",
            "Epoch 46/100\n",
            "1/1 [==============================] - 1s 1s/step - loss: 0.5804 - accuracy: 0.7041 - val_loss: 0.5746 - val_accuracy: 0.6000 - lr: 1.0000e-10\n",
            "Epoch 47/100\n",
            "1/1 [==============================] - ETA: 0s - loss: 0.5423 - accuracy: 0.7041\n",
            "Epoch 47: ReduceLROnPlateau reducing learning rate to 1.000000082740371e-11.\n",
            "1/1 [==============================] - 1s 1s/step - loss: 0.5423 - accuracy: 0.7041 - val_loss: 0.5688 - val_accuracy: 0.6000 - lr: 1.0000e-10\n",
            "Epoch 48/100\n",
            "1/1 [==============================] - 1s 1s/step - loss: 0.5398 - accuracy: 0.6939 - val_loss: 0.5910 - val_accuracy: 0.6000 - lr: 1.0000e-11\n",
            "Epoch 49/100\n",
            "1/1 [==============================] - 1s 1s/step - loss: 0.5283 - accuracy: 0.6939 - val_loss: 0.5827 - val_accuracy: 0.6000 - lr: 1.0000e-11\n",
            "Epoch 50/100\n",
            "1/1 [==============================] - 1s 1s/step - loss: 0.5477 - accuracy: 0.7041 - val_loss: 0.6139 - val_accuracy: 0.6000 - lr: 1.0000e-11\n",
            "Epoch 51/100\n",
            "1/1 [==============================] - ETA: 0s - loss: 0.5506 - accuracy: 0.6939\n",
            "Epoch 51: ReduceLROnPlateau reducing learning rate to 1.000000082740371e-12.\n",
            "1/1 [==============================] - 1s 1s/step - loss: 0.5506 - accuracy: 0.6939 - val_loss: 0.6288 - val_accuracy: 0.6000 - lr: 1.0000e-11\n",
            "Epoch 52/100\n",
            "1/1 [==============================] - 1s 1s/step - loss: 0.5397 - accuracy: 0.7041 - val_loss: 0.5826 - val_accuracy: 0.6000 - lr: 1.0000e-12\n",
            "Epoch 53/100\n",
            "1/1 [==============================] - 1s 1s/step - loss: 0.5762 - accuracy: 0.6939 - val_loss: 0.6104 - val_accuracy: 0.6000 - lr: 1.0000e-12\n",
            "Epoch 54/100\n",
            "1/1 [==============================] - 1s 1s/step - loss: 0.5511 - accuracy: 0.6939 - val_loss: 0.5771 - val_accuracy: 0.6000 - lr: 1.0000e-12\n",
            "Epoch 55/100\n",
            "1/1 [==============================] - ETA: 0s - loss: 0.5435 - accuracy: 0.7041\n",
            "Epoch 55: ReduceLROnPlateau reducing learning rate to 1.0000001044244145e-13.\n",
            "1/1 [==============================] - 1s 1s/step - loss: 0.5435 - accuracy: 0.7041 - val_loss: 0.6396 - val_accuracy: 0.6000 - lr: 1.0000e-12\n",
            "Epoch 56/100\n",
            "1/1 [==============================] - 1s 1s/step - loss: 0.5545 - accuracy: 0.7041 - val_loss: 0.5779 - val_accuracy: 0.6000 - lr: 1.0000e-13\n",
            "Epoch 57/100\n",
            "1/1 [==============================] - 1s 1s/step - loss: 0.5531 - accuracy: 0.6939 - val_loss: 0.6317 - val_accuracy: 0.6000 - lr: 1.0000e-13\n",
            "Epoch 58/100\n",
            "1/1 [==============================] - 1s 1s/step - loss: 0.5505 - accuracy: 0.6939 - val_loss: 0.6107 - val_accuracy: 0.6000 - lr: 1.0000e-13\n",
            "Epoch 59/100\n",
            "1/1 [==============================] - ETA: 0s - loss: 0.5410 - accuracy: 0.6939\n",
            "Epoch 59: ReduceLROnPlateau reducing learning rate to 1.0000001179769417e-14.\n",
            "1/1 [==============================] - 1s 1s/step - loss: 0.5410 - accuracy: 0.6939 - val_loss: 0.6082 - val_accuracy: 0.6000 - lr: 1.0000e-13\n",
            "Epoch 60/100\n",
            "1/1 [==============================] - 1s 1s/step - loss: 0.5441 - accuracy: 0.6939 - val_loss: 0.6288 - val_accuracy: 0.6000 - lr: 1.0000e-14\n",
            "Epoch 61/100\n",
            "1/1 [==============================] - 1s 1s/step - loss: 0.5621 - accuracy: 0.6939 - val_loss: 0.5515 - val_accuracy: 0.6000 - lr: 1.0000e-14\n",
            "Epoch 62/100\n",
            "1/1 [==============================] - 2s 2s/step - loss: 0.5476 - accuracy: 0.7041 - val_loss: 0.5709 - val_accuracy: 0.6000 - lr: 1.0000e-14\n",
            "Epoch 63/100\n",
            "1/1 [==============================] - ETA: 0s - loss: 0.5529 - accuracy: 0.6939\n",
            "Epoch 63: ReduceLROnPlateau reducing learning rate to 1.0000001518582595e-15.\n",
            "1/1 [==============================] - 1s 1s/step - loss: 0.5529 - accuracy: 0.6939 - val_loss: 0.5277 - val_accuracy: 0.6000 - lr: 1.0000e-14\n",
            "Epoch 64/100\n",
            "1/1 [==============================] - 1s 1s/step - loss: 0.5506 - accuracy: 0.7041 - val_loss: 0.6289 - val_accuracy: 0.6000 - lr: 1.0000e-15\n",
            "Epoch 65/100\n",
            "1/1 [==============================] - 1s 1s/step - loss: 0.5446 - accuracy: 0.6939 - val_loss: 0.5445 - val_accuracy: 0.6000 - lr: 1.0000e-15\n",
            "Epoch 66/100\n",
            "1/1 [==============================] - 1s 1s/step - loss: 0.5424 - accuracy: 0.6939 - val_loss: 0.6129 - val_accuracy: 0.6000 - lr: 1.0000e-15\n",
            "Epoch 67/100\n",
            "1/1 [==============================] - ETA: 0s - loss: 0.5355 - accuracy: 0.7041\n",
            "Epoch 67: ReduceLROnPlateau reducing learning rate to 1.0000001095066122e-16.\n",
            "1/1 [==============================] - 1s 1s/step - loss: 0.5355 - accuracy: 0.7041 - val_loss: 0.6388 - val_accuracy: 0.6000 - lr: 1.0000e-15\n",
            "Epoch 68/100\n",
            "1/1 [==============================] - 1s 1s/step - loss: 0.5399 - accuracy: 0.6939 - val_loss: 0.5887 - val_accuracy: 0.6000 - lr: 1.0000e-16\n",
            "Epoch 69/100\n",
            "1/1 [==============================] - 1s 1s/step - loss: 0.5402 - accuracy: 0.7143 - val_loss: 0.5333 - val_accuracy: 0.6000 - lr: 1.0000e-16\n",
            "Epoch 70/100\n",
            "1/1 [==============================] - 1s 1s/step - loss: 0.5639 - accuracy: 0.6939 - val_loss: 0.6069 - val_accuracy: 0.6000 - lr: 1.0000e-16\n",
            "Epoch 71/100\n",
            "1/1 [==============================] - ETA: 0s - loss: 0.5389 - accuracy: 0.6939\n",
            "Epoch 71: ReduceLROnPlateau reducing learning rate to 1.0000000830368326e-17.\n",
            "1/1 [==============================] - 1s 1s/step - loss: 0.5389 - accuracy: 0.6939 - val_loss: 0.5612 - val_accuracy: 0.6000 - lr: 1.0000e-16\n",
            "Epoch 72/100\n",
            "1/1 [==============================] - 1s 1s/step - loss: 0.5467 - accuracy: 0.7041 - val_loss: 0.6184 - val_accuracy: 0.6000 - lr: 1.0000e-17\n",
            "Epoch 73/100\n",
            "1/1 [==============================] - 1s 1s/step - loss: 0.5489 - accuracy: 0.7041 - val_loss: 0.6009 - val_accuracy: 0.6000 - lr: 1.0000e-17\n",
            "Epoch 74/100\n",
            "1/1 [==============================] - 1s 1s/step - loss: 0.5558 - accuracy: 0.7041 - val_loss: 0.5771 - val_accuracy: 0.6000 - lr: 1.0000e-17\n",
            "Epoch 75/100\n",
            "1/1 [==============================] - ETA: 0s - loss: 0.5430 - accuracy: 0.7041\n",
            "Epoch 75: ReduceLROnPlateau reducing learning rate to 1.0000000664932204e-18.\n",
            "1/1 [==============================] - 1s 1s/step - loss: 0.5430 - accuracy: 0.7041 - val_loss: 0.6164 - val_accuracy: 0.6000 - lr: 1.0000e-17\n",
            "Epoch 76/100\n",
            "1/1 [==============================] - 1s 1s/step - loss: 0.5429 - accuracy: 0.7041 - val_loss: 0.6430 - val_accuracy: 0.6000 - lr: 1.0000e-18\n",
            "Epoch 77/100\n",
            "1/1 [==============================] - 1s 1s/step - loss: 0.5580 - accuracy: 0.7041 - val_loss: 0.5595 - val_accuracy: 0.6000 - lr: 1.0000e-18\n",
            "Epoch 78/100\n",
            "1/1 [==============================] - 1s 1s/step - loss: 0.5476 - accuracy: 0.6939 - val_loss: 0.6384 - val_accuracy: 0.6000 - lr: 1.0000e-18\n",
            "Epoch 79/100\n",
            "1/1 [==============================] - ETA: 0s - loss: 0.5494 - accuracy: 0.7041\n",
            "Epoch 79: ReduceLROnPlateau reducing learning rate to 1.000000045813705e-19.\n",
            "1/1 [==============================] - 1s 1s/step - loss: 0.5494 - accuracy: 0.7041 - val_loss: 0.5903 - val_accuracy: 0.6000 - lr: 1.0000e-18\n",
            "Epoch 80/100\n",
            "1/1 [==============================] - 1s 1s/step - loss: 0.5669 - accuracy: 0.6939 - val_loss: 0.6410 - val_accuracy: 0.6000 - lr: 1.0000e-19\n",
            "Epoch 81/100\n",
            "1/1 [==============================] - 1s 1s/step - loss: 0.5516 - accuracy: 0.6939 - val_loss: 0.5746 - val_accuracy: 0.6000 - lr: 1.0000e-19\n",
            "Epoch 82/100\n",
            "1/1 [==============================] - 1s 1s/step - loss: 0.5539 - accuracy: 0.7143 - val_loss: 0.5517 - val_accuracy: 0.6000 - lr: 1.0000e-19\n",
            "Epoch 83/100\n",
            "1/1 [==============================] - ETA: 0s - loss: 0.5561 - accuracy: 0.7041\n",
            "Epoch 83: ReduceLROnPlateau reducing learning rate to 1.000000032889008e-20.\n",
            "1/1 [==============================] - 1s 1s/step - loss: 0.5561 - accuracy: 0.7041 - val_loss: 0.5985 - val_accuracy: 0.6000 - lr: 1.0000e-19\n",
            "Epoch 84/100\n",
            "1/1 [==============================] - 1s 1s/step - loss: 0.5381 - accuracy: 0.6939 - val_loss: 0.6551 - val_accuracy: 0.6000 - lr: 1.0000e-20\n",
            "Epoch 85/100\n",
            "1/1 [==============================] - 1s 1s/step - loss: 0.5533 - accuracy: 0.6939 - val_loss: 0.5769 - val_accuracy: 0.6000 - lr: 1.0000e-20\n",
            "Epoch 86/100\n",
            "1/1 [==============================] - 1s 1s/step - loss: 0.5384 - accuracy: 0.7041 - val_loss: 0.5932 - val_accuracy: 0.6000 - lr: 1.0000e-20\n",
            "Epoch 87/100\n",
            "1/1 [==============================] - ETA: 0s - loss: 0.5615 - accuracy: 0.6939\n",
            "Epoch 87: ReduceLROnPlateau reducing learning rate to 1.0000000490448793e-21.\n",
            "1/1 [==============================] - 1s 1s/step - loss: 0.5615 - accuracy: 0.6939 - val_loss: 0.5930 - val_accuracy: 0.6000 - lr: 1.0000e-20\n",
            "Epoch 88/100\n",
            "1/1 [==============================] - 1s 1s/step - loss: 0.5392 - accuracy: 0.6939 - val_loss: 0.6372 - val_accuracy: 0.6000 - lr: 1.0000e-21\n",
            "Epoch 89/100\n",
            "1/1 [==============================] - 1s 1s/step - loss: 0.5752 - accuracy: 0.7041 - val_loss: 0.5378 - val_accuracy: 0.6000 - lr: 1.0000e-21\n",
            "Epoch 89: early stopping\n"
          ]
        }
      ]
    },
    {
      "cell_type": "code",
      "source": [
        "summarize_diagnostics(historyAlexNet2)"
      ],
      "metadata": {
        "colab": {
          "base_uri": "https://localhost:8080/",
          "height": 545
        },
        "id": "WMnqsAO_b-8M",
        "outputId": "3c968ba8-0533-42e2-f6f1-dc2b944c09e5"
      },
      "execution_count": 56,
      "outputs": [
        {
          "output_type": "display_data",
          "data": {
            "text/plain": [
              "<Figure size 432x288 with 1 Axes>"
            ],
            "image/png": "[encoded data removed]"
          },
          "metadata": {
            "needs_background": "light"
          }
        },
        {
          "output_type": "display_data",
          "data": {
            "text/plain": [
              "<Figure size 432x288 with 1 Axes>"
            ],
            "image/png": "[encoded data removed]"
          },
          "metadata": {
            "needs_background": "light"
          }
        }
      ]
    },
    {
      "cell_type": "code",
      "source": [
        "validateResults(alexNet2)"
      ],
      "metadata": {
        "colab": {
          "base_uri": "https://localhost:8080/",
          "height": 645
        },
        "id": "HcxXKptqeIa0",
        "outputId": "c695e7cc-f941-493c-d2fd-b28ff9353c63"
      },
      "execution_count": 57,
      "outputs": [
        {
          "output_type": "stream",
          "name": "stdout",
          "text": [
            "\n",
            "              precision    recall  f1-score   support\n",
            "\n",
            "      Benign       0.67      1.00      0.80        26\n",
            "   Malignant       1.00      0.07      0.13        14\n",
            "\n",
            "    accuracy                           0.68        40\n",
            "   macro avg       0.83      0.54      0.47        40\n",
            "weighted avg       0.78      0.68      0.57        40\n",
            "\n",
            "[[26  0]\n",
            " [13  1]]\n"
          ]
        },
        {
          "output_type": "display_data",
          "data": {
            "text/plain": [
              "<Figure size 432x432 with 2 Axes>"
            ],
            "image/png": "[encoded data removed]"
          },
          "metadata": {
            "needs_background": "light"
          }
        }
      ]
    },
    {
      "cell_type": "code",
      "source": [
        "from tensorflow.keras.optimizers import RMSprop\n",
        "def fitAlexNet3():\n",
        "  model3 = Alexnet()\n",
        "  # compile the model with a loss funciton, a metric and and optimization method\n",
        "\n",
        "  model3.compile(optimizer=RMSprop(lr=1e-4), loss='categorical_crossentropy', metrics=['accuracy'])\n",
        "\n",
        "  datagen2 = ImageDataGenerator(rotation_range = 5, width_shift_range = 0.1, \n",
        "                               height_shift_range = 0.1, horizontal_flip = True)\n",
        "  \n",
        "  train_it_v2 = datagen2.flow_from_directory(train_path, batch_size=batch_size, target_size=(227, 227))\n",
        "  validation_it_v2 = datagen2.flow_from_directory(val_path, batch_size=batch_size, target_size=(227, 227))\n",
        "  test_it_v2 = datagen2.flow_from_directory(test_path, batch_size=batch_size, target_size=(227, 227))\n",
        "\n",
        "  # fit model\n",
        "  historyAlexNet3 = model3.fit(\n",
        "      train_it_v2, \n",
        "      steps_per_epoch=len(train_it_v2),\n",
        "      validation_data=validation_it_v2, \n",
        "      validation_steps=len(validation_it_v2), \n",
        "      epochs=EPOCHS, \n",
        "      verbose=1,\n",
        "      callbacks=[rlrop, es])\n",
        "  \n",
        "  return historyAlexNet3, model3"
      ],
      "metadata": {
        "id": "an6z9gDrdAt6"
      },
      "execution_count": 59,
      "outputs": []
    },
    {
      "cell_type": "code",
      "source": [
        "historyAlexNet3, alexNet3 = fitAlexNet3()"
      ],
      "metadata": {
        "colab": {
          "base_uri": "https://localhost:8080/"
        },
        "id": "s1wUBdSMdYGd",
        "outputId": "48e8971a-7b39-4d30-b921-deb26e944b2b"
      },
      "execution_count": 60,
      "outputs": [
        {
          "output_type": "stream",
          "name": "stderr",
          "text": [
            "/usr/local/lib/python3.7/dist-packages/keras/optimizer_v2/rmsprop.py:130: UserWarning: The `lr` argument is deprecated, use `learning_rate` instead.\n",
            "  super(RMSprop, self).__init__(name, **kwargs)\n"
          ]
        },
        {
          "output_type": "stream",
          "name": "stdout",
          "text": [
            "Found 98 images belonging to 2 classes.\n",
            "Found 25 images belonging to 2 classes.\n",
            "Found 40 images belonging to 2 classes.\n",
            "Epoch 1/100\n",
            "1/1 [==============================] - 3s 3s/step - loss: 1.9728 - accuracy: 0.4796 - val_loss: 72.0054 - val_accuracy: 0.6000 - lr: 1.0000e-04\n",
            "Epoch 2/100\n",
            "1/1 [==============================] - 1s 1s/step - loss: 50.4499 - accuracy: 0.6939 - val_loss: 2.8085 - val_accuracy: 0.4000 - lr: 1.0000e-04\n",
            "Epoch 3/100\n",
            "1/1 [==============================] - 1s 1s/step - loss: 3.0207 - accuracy: 0.3061 - val_loss: 6.4859 - val_accuracy: 0.6000 - lr: 1.0000e-04\n",
            "Epoch 4/100\n",
            "1/1 [==============================] - 1s 1s/step - loss: 4.5631 - accuracy: 0.6939 - val_loss: 0.7036 - val_accuracy: 0.6000 - lr: 1.0000e-04\n",
            "Epoch 5/100\n",
            "1/1 [==============================] - 1s 1s/step - loss: 0.6019 - accuracy: 0.7143 - val_loss: 0.5659 - val_accuracy: 0.7600 - lr: 1.0000e-04\n",
            "Epoch 6/100\n",
            "1/1 [==============================] - 1s 1s/step - loss: 0.6398 - accuracy: 0.6531 - val_loss: 0.7332 - val_accuracy: 0.6400 - lr: 1.0000e-04\n",
            "Epoch 7/100\n",
            "1/1 [==============================] - 1s 1s/step - loss: 0.6436 - accuracy: 0.7041 - val_loss: 0.5437 - val_accuracy: 0.8800 - lr: 1.0000e-04\n",
            "Epoch 8/100\n",
            "1/1 [==============================] - 1s 1s/step - loss: 0.5329 - accuracy: 0.7653 - val_loss: 0.7807 - val_accuracy: 0.6400 - lr: 1.0000e-04\n",
            "Epoch 9/100\n",
            "1/1 [==============================] - 1s 1s/step - loss: 0.6309 - accuracy: 0.7245 - val_loss: 0.5232 - val_accuracy: 0.8400 - lr: 1.0000e-04\n",
            "Epoch 10/100\n",
            "1/1 [==============================] - 1s 1s/step - loss: 0.6003 - accuracy: 0.6837 - val_loss: 0.7652 - val_accuracy: 0.6400 - lr: 1.0000e-04\n",
            "Epoch 11/100\n",
            "1/1 [==============================] - 1s 1s/step - loss: 0.6342 - accuracy: 0.7143 - val_loss: 0.5463 - val_accuracy: 0.7600 - lr: 1.0000e-04\n",
            "Epoch 12/100\n",
            "1/1 [==============================] - 1s 1s/step - loss: 0.5424 - accuracy: 0.7449 - val_loss: 0.5988 - val_accuracy: 0.6400 - lr: 1.0000e-04\n",
            "Epoch 13/100\n",
            "1/1 [==============================] - 1s 1s/step - loss: 0.5634 - accuracy: 0.7245 - val_loss: 0.5114 - val_accuracy: 0.7200 - lr: 1.0000e-04\n",
            "Epoch 14/100\n",
            "1/1 [==============================] - 1s 1s/step - loss: 0.5034 - accuracy: 0.7347 - val_loss: 0.6102 - val_accuracy: 0.6400 - lr: 1.0000e-04\n",
            "Epoch 15/100\n",
            "1/1 [==============================] - 1s 1s/step - loss: 0.5099 - accuracy: 0.7653 - val_loss: 0.4888 - val_accuracy: 0.8800 - lr: 1.0000e-04\n",
            "Epoch 16/100\n",
            "1/1 [==============================] - 1s 1s/step - loss: 0.5095 - accuracy: 0.7959 - val_loss: 0.7853 - val_accuracy: 0.6400 - lr: 1.0000e-04\n",
            "Epoch 17/100\n",
            "1/1 [==============================] - 1s 1s/step - loss: 0.6009 - accuracy: 0.7347 - val_loss: 0.5152 - val_accuracy: 0.8400 - lr: 1.0000e-04\n",
            "Epoch 18/100\n",
            "1/1 [==============================] - 1s 1s/step - loss: 0.6378 - accuracy: 0.6837 - val_loss: 0.9157 - val_accuracy: 0.6000 - lr: 1.0000e-04\n",
            "Epoch 19/100\n",
            "1/1 [==============================] - ETA: 0s - loss: 0.6765 - accuracy: 0.7041\n",
            "Epoch 19: ReduceLROnPlateau reducing learning rate to 9.999999747378752e-06.\n",
            "1/1 [==============================] - 1s 1s/step - loss: 0.6765 - accuracy: 0.7041 - val_loss: 0.5114 - val_accuracy: 0.8000 - lr: 1.0000e-04\n",
            "Epoch 20/100\n",
            "1/1 [==============================] - 1s 1s/step - loss: 0.4862 - accuracy: 0.7653 - val_loss: 0.4616 - val_accuracy: 0.8000 - lr: 1.0000e-05\n",
            "Epoch 21/100\n",
            "1/1 [==============================] - 1s 1s/step - loss: 0.5005 - accuracy: 0.7755 - val_loss: 0.4916 - val_accuracy: 0.7200 - lr: 1.0000e-05\n",
            "Epoch 22/100\n",
            "1/1 [==============================] - 1s 1s/step - loss: 0.5059 - accuracy: 0.7449 - val_loss: 0.4862 - val_accuracy: 0.7200 - lr: 1.0000e-05\n",
            "Epoch 23/100\n",
            "1/1 [==============================] - 1s 1s/step - loss: 0.4747 - accuracy: 0.7755 - val_loss: 0.5206 - val_accuracy: 0.6800 - lr: 1.0000e-05\n",
            "Epoch 24/100\n",
            "1/1 [==============================] - ETA: 0s - loss: 0.4872 - accuracy: 0.7551\n",
            "Epoch 24: ReduceLROnPlateau reducing learning rate to 9.999999747378752e-07.\n",
            "1/1 [==============================] - 2s 2s/step - loss: 0.4872 - accuracy: 0.7551 - val_loss: 0.5184 - val_accuracy: 0.7200 - lr: 1.0000e-05\n",
            "Epoch 25/100\n",
            "1/1 [==============================] - 1s 1s/step - loss: 0.4898 - accuracy: 0.7959 - val_loss: 0.5006 - val_accuracy: 0.7600 - lr: 1.0000e-06\n",
            "Epoch 26/100\n",
            "1/1 [==============================] - 1s 1s/step - loss: 0.4942 - accuracy: 0.7755 - val_loss: 0.5107 - val_accuracy: 0.6400 - lr: 1.0000e-06\n",
            "Epoch 27/100\n",
            "1/1 [==============================] - 1s 1s/step - loss: 0.4776 - accuracy: 0.7857 - val_loss: 0.5027 - val_accuracy: 0.6800 - lr: 1.0000e-06\n",
            "Epoch 28/100\n",
            "1/1 [==============================] - ETA: 0s - loss: 0.4984 - accuracy: 0.7551\n",
            "Epoch 28: ReduceLROnPlateau reducing learning rate to 9.999999974752428e-08.\n",
            "1/1 [==============================] - 1s 1s/step - loss: 0.4984 - accuracy: 0.7551 - val_loss: 0.5104 - val_accuracy: 0.7200 - lr: 1.0000e-06\n",
            "Epoch 29/100\n",
            "1/1 [==============================] - 1s 1s/step - loss: 0.4713 - accuracy: 0.7755 - val_loss: 0.5012 - val_accuracy: 0.7200 - lr: 1.0000e-07\n",
            "Epoch 30/100\n",
            "1/1 [==============================] - 1s 1s/step - loss: 0.4913 - accuracy: 0.7551 - val_loss: 0.5043 - val_accuracy: 0.6800 - lr: 1.0000e-07\n",
            "Epoch 31/100\n",
            "1/1 [==============================] - 1s 1s/step - loss: 0.4588 - accuracy: 0.7653 - val_loss: 0.5174 - val_accuracy: 0.6400 - lr: 1.0000e-07\n",
            "Epoch 32/100\n",
            "1/1 [==============================] - ETA: 0s - loss: 0.5190 - accuracy: 0.7551\n",
            "Epoch 32: ReduceLROnPlateau reducing learning rate to 1.0000000116860975e-08.\n",
            "1/1 [==============================] - 1s 1s/step - loss: 0.5190 - accuracy: 0.7551 - val_loss: 0.4967 - val_accuracy: 0.7200 - lr: 1.0000e-07\n",
            "Epoch 33/100\n",
            "1/1 [==============================] - 1s 1s/step - loss: 0.4877 - accuracy: 0.7449 - val_loss: 0.5087 - val_accuracy: 0.7200 - lr: 1.0000e-08\n",
            "Epoch 34/100\n",
            "1/1 [==============================] - 1s 1s/step - loss: 0.4744 - accuracy: 0.7653 - val_loss: 0.5080 - val_accuracy: 0.6800 - lr: 1.0000e-08\n",
            "Epoch 35/100\n",
            "1/1 [==============================] - 1s 1s/step - loss: 0.4752 - accuracy: 0.7653 - val_loss: 0.5146 - val_accuracy: 0.6800 - lr: 1.0000e-08\n",
            "Epoch 36/100\n",
            "1/1 [==============================] - ETA: 0s - loss: 0.4581 - accuracy: 0.8061\n",
            "Epoch 36: ReduceLROnPlateau reducing learning rate to 9.999999939225292e-10.\n",
            "1/1 [==============================] - 1s 1s/step - loss: 0.4581 - accuracy: 0.8061 - val_loss: 0.4982 - val_accuracy: 0.7600 - lr: 1.0000e-08\n",
            "Epoch 37/100\n",
            "1/1 [==============================] - 1s 1s/step - loss: 0.4915 - accuracy: 0.7653 - val_loss: 0.5062 - val_accuracy: 0.6800 - lr: 1.0000e-09\n",
            "Epoch 38/100\n",
            "1/1 [==============================] - 1s 1s/step - loss: 0.4845 - accuracy: 0.7653 - val_loss: 0.5057 - val_accuracy: 0.6400 - lr: 1.0000e-09\n",
            "Epoch 39/100\n",
            "1/1 [==============================] - 1s 1s/step - loss: 0.4855 - accuracy: 0.7449 - val_loss: 0.5072 - val_accuracy: 0.6800 - lr: 1.0000e-09\n",
            "Epoch 40/100\n",
            "1/1 [==============================] - ETA: 0s - loss: 0.4519 - accuracy: 0.8061\n",
            "Epoch 40: ReduceLROnPlateau reducing learning rate to 9.999999717180686e-11.\n",
            "1/1 [==============================] - 1s 1s/step - loss: 0.4519 - accuracy: 0.8061 - val_loss: 0.5069 - val_accuracy: 0.6800 - lr: 1.0000e-09\n",
            "Epoch 41/100\n",
            "1/1 [==============================] - 1s 1s/step - loss: 0.4928 - accuracy: 0.7653 - val_loss: 0.5079 - val_accuracy: 0.7200 - lr: 1.0000e-10\n",
            "Epoch 42/100\n",
            "1/1 [==============================] - 1s 1s/step - loss: 0.4796 - accuracy: 0.7551 - val_loss: 0.4992 - val_accuracy: 0.6800 - lr: 1.0000e-10\n",
            "Epoch 43/100\n",
            "1/1 [==============================] - 1s 1s/step - loss: 0.5129 - accuracy: 0.7653 - val_loss: 0.5170 - val_accuracy: 0.7200 - lr: 1.0000e-10\n",
            "Epoch 44/100\n",
            "1/1 [==============================] - ETA: 0s - loss: 0.4973 - accuracy: 0.7755\n",
            "Epoch 44: ReduceLROnPlateau reducing learning rate to 9.99999943962493e-12.\n",
            "1/1 [==============================] - 1s 1s/step - loss: 0.4973 - accuracy: 0.7755 - val_loss: 0.5130 - val_accuracy: 0.7200 - lr: 1.0000e-10\n",
            "Epoch 45/100\n",
            "1/1 [==============================] - 1s 1s/step - loss: 0.4925 - accuracy: 0.8163 - val_loss: 0.5127 - val_accuracy: 0.6800 - lr: 1.0000e-11\n",
            "Epoch 46/100\n",
            "1/1 [==============================] - 1s 1s/step - loss: 0.4556 - accuracy: 0.7755 - val_loss: 0.5006 - val_accuracy: 0.7200 - lr: 1.0000e-11\n",
            "Epoch 47/100\n",
            "1/1 [==============================] - 1s 1s/step - loss: 0.5055 - accuracy: 0.7653 - val_loss: 0.5119 - val_accuracy: 0.6400 - lr: 1.0000e-11\n",
            "Epoch 48/100\n",
            "1/1 [==============================] - ETA: 0s - loss: 0.4928 - accuracy: 0.7245\n",
            "Epoch 48: ReduceLROnPlateau reducing learning rate to 9.999999092680235e-13.\n",
            "1/1 [==============================] - 1s 1s/step - loss: 0.4928 - accuracy: 0.7245 - val_loss: 0.4735 - val_accuracy: 0.7600 - lr: 1.0000e-11\n",
            "Epoch 49/100\n",
            "1/1 [==============================] - 1s 1s/step - loss: 0.4729 - accuracy: 0.7653 - val_loss: 0.5395 - val_accuracy: 0.6400 - lr: 1.0000e-12\n",
            "Epoch 50/100\n",
            "1/1 [==============================] - 1s 1s/step - loss: 0.4704 - accuracy: 0.7755 - val_loss: 0.4674 - val_accuracy: 0.6800 - lr: 1.0000e-12\n",
            "Epoch 51/100\n",
            "1/1 [==============================] - 1s 1s/step - loss: 0.4788 - accuracy: 0.7551 - val_loss: 0.4754 - val_accuracy: 0.7200 - lr: 1.0000e-12\n",
            "Epoch 52/100\n",
            "1/1 [==============================] - ETA: 0s - loss: 0.4756 - accuracy: 0.7653\n",
            "Epoch 52: ReduceLROnPlateau reducing learning rate to 9.9999988758398e-14.\n",
            "1/1 [==============================] - 1s 1s/step - loss: 0.4756 - accuracy: 0.7653 - val_loss: 0.5096 - val_accuracy: 0.6800 - lr: 1.0000e-12\n",
            "Epoch 53/100\n",
            "1/1 [==============================] - 1s 1s/step - loss: 0.4889 - accuracy: 0.7653 - val_loss: 0.5110 - val_accuracy: 0.6800 - lr: 1.0000e-13\n",
            "Epoch 54/100\n",
            "1/1 [==============================] - 1s 1s/step - loss: 0.4813 - accuracy: 0.7653 - val_loss: 0.5036 - val_accuracy: 0.7200 - lr: 1.0000e-13\n",
            "Epoch 55/100\n",
            "1/1 [==============================] - 1s 1s/step - loss: 0.4687 - accuracy: 0.8061 - val_loss: 0.5189 - val_accuracy: 0.7200 - lr: 1.0000e-13\n",
            "Epoch 56/100\n",
            "1/1 [==============================] - ETA: 0s - loss: 0.4829 - accuracy: 0.7551\n",
            "Epoch 56: ReduceLROnPlateau reducing learning rate to 9.999999146890344e-15.\n",
            "1/1 [==============================] - 1s 1s/step - loss: 0.4829 - accuracy: 0.7551 - val_loss: 0.5122 - val_accuracy: 0.7600 - lr: 1.0000e-13\n",
            "Epoch 57/100\n",
            "1/1 [==============================] - 1s 1s/step - loss: 0.4723 - accuracy: 0.7755 - val_loss: 0.4870 - val_accuracy: 0.7200 - lr: 1.0000e-14\n",
            "Epoch 58/100\n",
            "1/1 [==============================] - 1s 1s/step - loss: 0.4808 - accuracy: 0.7551 - val_loss: 0.4834 - val_accuracy: 0.7200 - lr: 1.0000e-14\n",
            "Epoch 59/100\n",
            "1/1 [==============================] - 1s 1s/step - loss: 0.4894 - accuracy: 0.7653 - val_loss: 0.4903 - val_accuracy: 0.7200 - lr: 1.0000e-14\n",
            "Epoch 60/100\n",
            "1/1 [==============================] - ETA: 0s - loss: 0.4703 - accuracy: 0.7653\n",
            "Epoch 60: ReduceLROnPlateau reducing learning rate to 9.999998977483753e-16.\n",
            "1/1 [==============================] - 1s 1s/step - loss: 0.4703 - accuracy: 0.7653 - val_loss: 0.4859 - val_accuracy: 0.7200 - lr: 1.0000e-14\n",
            "Epoch 61/100\n",
            "1/1 [==============================] - 1s 1s/step - loss: 0.4937 - accuracy: 0.7755 - val_loss: 0.5426 - val_accuracy: 0.7200 - lr: 1.0000e-15\n",
            "Epoch 62/100\n",
            "1/1 [==============================] - 1s 1s/step - loss: 0.4765 - accuracy: 0.7755 - val_loss: 0.5077 - val_accuracy: 0.7600 - lr: 1.0000e-15\n",
            "Epoch 63/100\n",
            "1/1 [==============================] - 1s 1s/step - loss: 0.4791 - accuracy: 0.7653 - val_loss: 0.4893 - val_accuracy: 0.8000 - lr: 1.0000e-15\n",
            "Epoch 64/100\n",
            "1/1 [==============================] - ETA: 0s - loss: 0.4995 - accuracy: 0.7653\n",
            "Epoch 64: ReduceLROnPlateau reducing learning rate to 9.999998977483754e-17.\n",
            "1/1 [==============================] - 1s 1s/step - loss: 0.4995 - accuracy: 0.7653 - val_loss: 0.4981 - val_accuracy: 0.7200 - lr: 1.0000e-15\n",
            "Epoch 65/100\n",
            "1/1 [==============================] - 1s 1s/step - loss: 0.4690 - accuracy: 0.7959 - val_loss: 0.5242 - val_accuracy: 0.6400 - lr: 1.0000e-16\n",
            "Epoch 66/100\n",
            "1/1 [==============================] - 1s 1s/step - loss: 0.5071 - accuracy: 0.7653 - val_loss: 0.4818 - val_accuracy: 0.7200 - lr: 1.0000e-16\n",
            "Epoch 67/100\n",
            "1/1 [==============================] - 1s 1s/step - loss: 0.5084 - accuracy: 0.7347 - val_loss: 0.5158 - val_accuracy: 0.7200 - lr: 1.0000e-16\n",
            "Epoch 68/100\n",
            "1/1 [==============================] - ETA: 0s - loss: 0.5095 - accuracy: 0.7857\n",
            "Epoch 68: ReduceLROnPlateau reducing learning rate to 9.999998845134856e-18.\n",
            "1/1 [==============================] - 1s 1s/step - loss: 0.5095 - accuracy: 0.7857 - val_loss: 0.5124 - val_accuracy: 0.7600 - lr: 1.0000e-16\n",
            "Epoch 69/100\n",
            "1/1 [==============================] - 1s 1s/step - loss: 0.4658 - accuracy: 0.8163 - val_loss: 0.5335 - val_accuracy: 0.7200 - lr: 1.0000e-17\n",
            "Epoch 70/100\n",
            "1/1 [==============================] - 1s 1s/step - loss: 0.4938 - accuracy: 0.7551 - val_loss: 0.5339 - val_accuracy: 0.6400 - lr: 1.0000e-17\n",
            "Epoch 70: early stopping\n"
          ]
        }
      ]
    },
    {
      "cell_type": "code",
      "source": [
        "summarize_diagnostics(historyAlexNet3)"
      ],
      "metadata": {
        "colab": {
          "base_uri": "https://localhost:8080/",
          "height": 545
        },
        "id": "0q4xpDYnd6Up",
        "outputId": "8b4795ed-de83-456d-a0e8-50266132f0c4"
      },
      "execution_count": 61,
      "outputs": [
        {
          "output_type": "display_data",
          "data": {
            "text/plain": [
              "<Figure size 432x288 with 1 Axes>"
            ],
            "image/png": "[encoded data removed]"
          },
          "metadata": {
            "needs_background": "light"
          }
        },
        {
          "output_type": "display_data",
          "data": {
            "text/plain": [
              "<Figure size 432x288 with 1 Axes>"
            ],
            "image/png": "[encoded data removed]"
          },
          "metadata": {
            "needs_background": "light"
          }
        }
      ]
    },
    {
      "cell_type": "code",
      "source": [
        "validateResults(alexNet3)"
      ],
      "metadata": {
        "colab": {
          "base_uri": "https://localhost:8080/",
          "height": 647
        },
        "id": "Azg4fBNgeTAY",
        "outputId": "d45186a2-6cb2-4747-877b-2b449c30ad81"
      },
      "execution_count": 62,
      "outputs": [
        {
          "output_type": "stream",
          "name": "stdout",
          "text": [
            "\n",
            "              precision    recall  f1-score   support\n",
            "\n",
            "      Benign       0.73      0.85      0.79        26\n",
            "   Malignant       0.60      0.43      0.50        14\n",
            "\n",
            "    accuracy                           0.70        40\n",
            "   macro avg       0.67      0.64      0.64        40\n",
            "weighted avg       0.69      0.70      0.69        40\n",
            "\n",
            "[[22  4]\n",
            " [ 8  6]]\n"
          ]
        },
        {
          "output_type": "display_data",
          "data": {
            "text/plain": [
              "<Figure size 432x432 with 2 Axes>"
            ],
            "image/png": "[encoded data removed]"
          },
          "metadata": {
            "needs_background": "light"
          }
        }
      ]
    }
  ],
  "metadata": {
    "accelerator": "GPU",
    "colab": {
      "provenance": []
    },
    "gpuClass": "standard",
    "kernelspec": {
      "display_name": "Python 3",
      "name": "python3"
    },
    "language_info": {
      "name": "python"
    }
  },
  "nbformat": 4,
  "nbformat_minor": 0
}