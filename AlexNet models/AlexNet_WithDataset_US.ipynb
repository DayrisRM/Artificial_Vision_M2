{
  "cells": [
    {
      "cell_type": "code",
      "execution_count": 1,
      "metadata": {
        "colab": {
          "base_uri": "https://localhost:8080/",
          "height": 73,
          "resources": {
            "http://localhost:8080/nbextensions/google.colab/files.js": {
              "data": "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",
              "headers": [
                [
                  "content-type",
                  "application/javascript"
                ]
              ],
              "ok": true,
              "status": 200,
              "status_text": ""
            }
          }
        },
        "id": "Hp1cnJfIx3F9",
        "outputId": "d4d95951-9196-400f-b468-f4b68c3f884b"
      },
      "outputs": [
        {
          "output_type": "display_data",
          "data": {
            "text/plain": [
              "<IPython.core.display.HTML object>"
            ],
            "text/html": [
              "\n",
              "     <input type=\"file\" id=\"files-7f39b854-8f19-492f-b853-895997c2c2f4\" name=\"files[]\" multiple disabled\n",
              "        style=\"border:none\" />\n",
              "     <output id=\"result-7f39b854-8f19-492f-b853-895997c2c2f4\">\n",
              "      Upload widget is only available when the cell has been executed in the\n",
              "      current browser session. Please rerun this cell to enable.\n",
              "      </output>\n",
              "      <script src=\"/nbextensions/google.colab/files.js\"></script> "
            ]
          },
          "metadata": {}
        },
        {
          "output_type": "stream",
          "name": "stdout",
          "text": [
            "Saving US_Original_dataset_final.zip to US_Original_dataset_final.zip\n"
          ]
        }
      ],
      "source": [
        "from google.colab import files\n",
        "uploaded = files.upload()"
      ]
    },
    {
      "cell_type": "code",
      "execution_count": 2,
      "metadata": {
        "id": "vRBP68oxy8jA"
      },
      "outputs": [],
      "source": [
        "import zipfile\n",
        "import io\n",
        "data = zipfile.ZipFile(io.BytesIO(uploaded['US_Original_dataset_final.zip']), 'r')\n",
        "data.extractall()"
      ]
    },
    {
      "cell_type": "code",
      "execution_count": 3,
      "metadata": {
        "id": "Igc1Xnhuy-Bl"
      },
      "outputs": [],
      "source": [
        "import os\n",
        "from PIL import Image"
      ]
    },
    {
      "cell_type": "markdown",
      "metadata": {
        "id": "JaLnoybAzSED"
      },
      "source": [
        "\n",
        "\n",
        "---\n",
        "\n",
        "\n",
        "Resize images for AlexNet"
      ]
    },
    {
      "cell_type": "code",
      "execution_count": 4,
      "metadata": {
        "id": "R1vsKJkszVxc"
      },
      "outputs": [],
      "source": [
        "def resizeAndSave(file_name):\n",
        "  img_size=(227,227)  \n",
        "  img = Image.open(file_name) \n",
        "  img = img.resize(img_size, Image.ANTIALIAS)  \n",
        "  img.save(file_name)  "
      ]
    },
    {
      "cell_type": "code",
      "execution_count": 5,
      "metadata": {
        "id": "jyuEMVIgz0n_"
      },
      "outputs": [],
      "source": [
        "benign_path = 'Benign/'\n",
        "malignant_path = 'Malignant/'"
      ]
    },
    {
      "cell_type": "code",
      "execution_count": 6,
      "metadata": {
        "id": "CHkQqK6dzpdA"
      },
      "outputs": [],
      "source": [
        "#Resize images\n",
        "def resizeDirectory(folder):\n",
        "  folder_path = '/content/US_Original_dataset_final/'+folder+'/' \n",
        "  folder_b = folder_path + benign_path\n",
        "  folder_m = folder_path + malignant_path\n",
        "\n",
        "  mytrainBImages = os.listdir(folder_b)\n",
        "  mytrainMImages = os.listdir(folder_m)\n",
        "\n",
        "  for cl in mytrainBImages:\n",
        "    file_nameb = folder_b + cl \n",
        "    resizeAndSave(file_nameb)    \n",
        "\n",
        "  for cl in mytrainMImages:\n",
        "    file_namem = folder_m + cl \n",
        "    resizeAndSave(file_namem)\n",
        "\n"
      ]
    },
    {
      "cell_type": "code",
      "execution_count": 7,
      "metadata": {
        "id": "ltEKpoQ110eH"
      },
      "outputs": [],
      "source": [
        "resizeDirectory('test')\n",
        "resizeDirectory('train')\n",
        "resizeDirectory('validation')"
      ]
    },
    {
      "cell_type": "code",
      "execution_count": 8,
      "metadata": {
        "id": "pi22OSRxy_0b"
      },
      "outputs": [],
      "source": [
        "train_path = '/content/US_Original_dataset_final/train'\n",
        "test_path = '/content/US_Original_dataset_final/test'\n",
        "val_path = '/content/US_Original_dataset_final/validation'"
      ]
    },
    {
      "cell_type": "markdown",
      "source": [
        "\n",
        "\n",
        "---\n",
        "\n",
        "Common functions"
      ],
      "metadata": {
        "id": "TUixWe9zVAYz"
      }
    },
    {
      "cell_type": "code",
      "execution_count": 9,
      "metadata": {
        "id": "vsAJGXhN-DkX"
      },
      "outputs": [],
      "source": [
        "classes = ['Benign', 'Malignant']"
      ]
    },
    {
      "cell_type": "code",
      "execution_count": 10,
      "metadata": {
        "id": "RHCSCxm861FQ"
      },
      "outputs": [],
      "source": [
        "from matplotlib import pyplot\n",
        "def summarize_diagnostics(history):\n",
        "  # plot loss\n",
        "  pyplot.figure(0)\n",
        "  pyplot.title('Loss')\n",
        "  pyplot.plot(history.history['loss'], color='blue', label='train')\n",
        "  pyplot.plot(history.history['val_loss'], color='orange', label='test')\n",
        "  pyplot.legend(['loss','val_loss']) \n",
        "\n",
        "  # plot accuracy\n",
        "  pyplot.figure(1)\n",
        "  pyplot.title('Classification Accuracy')\n",
        "  pyplot.plot(history.history['accuracy'], color='blue', label='train')\n",
        "  pyplot.plot(history.history['val_accuracy'], color='orange', label='test')\n",
        "  pyplot.legend(['accuracy','val_accuracy'])"
      ]
    },
    {
      "cell_type": "code",
      "execution_count": 11,
      "metadata": {
        "colab": {
          "base_uri": "https://localhost:8080/"
        },
        "id": "hNjmGc8L63gI",
        "outputId": "108e122d-0545-422e-9666-18cc14353262"
      },
      "outputs": [
        {
          "output_type": "stream",
          "name": "stderr",
          "text": [
            "100%|██████████| 2/2 [00:00<00:00, 29.94it/s]"
          ]
        },
        {
          "output_type": "stream",
          "name": "stdout",
          "text": [
            "40 images loaded from /content/US_Original_dataset_final/test/ directory.\n",
            "{0: 'Benign', 1: 'Malignant'}\n"
          ]
        },
        {
          "output_type": "stream",
          "name": "stderr",
          "text": [
            "\n"
          ]
        }
      ],
      "source": [
        "#functions to build confusion matrix\n",
        "from tqdm import tqdm\n",
        "import os\n",
        "import cv2\n",
        "import numpy as np\n",
        "import itertools\n",
        "from sklearn.metrics import accuracy_score, confusion_matrix\n",
        "\n",
        "def load_data(dir_path):\n",
        "    \"\"\"\n",
        "    Load resized images as np.arrays to workspace\n",
        "    \"\"\"\n",
        "    X = []\n",
        "    y = []\n",
        "    i = 0\n",
        "    labels = dict()\n",
        "    for path in tqdm(sorted(os.listdir(dir_path))):\n",
        "        if not path.startswith('.'):\n",
        "            labels[i] = path\n",
        "            for file in os.listdir(dir_path + path):\n",
        "                if not file.startswith('.'):\n",
        "                    img = cv2.imread(dir_path + path + '/' + file)\n",
        "                    X.append(img)\n",
        "                    y.append(i)\n",
        "            i += 1\n",
        "    X = np.array(X)\n",
        "    y = np.array(y)\n",
        "    print(f'{len(X)} images loaded from {dir_path} directory.')\n",
        "    return X, y, labels\n",
        "\n",
        "\n",
        "\n",
        "def plot_confusion_matrix(cm, classes,\n",
        "                          normalize=False,\n",
        "                          title='Confusion matrix',\n",
        "                          cmap=pyplot.cm.Blues):\n",
        "    \"\"\"\n",
        "    This function prints and plots the confusion matrix.\n",
        "    Normalization can be applied by setting `normalize=True`.\n",
        "    \"\"\"\n",
        "    pyplot.figure(figsize = (6,6))\n",
        "    pyplot.imshow(cm, interpolation='nearest', cmap=cmap)\n",
        "    pyplot.title(title)\n",
        "    pyplot.colorbar()\n",
        "    tick_marks = np.arange(len(classes))\n",
        "    pyplot.xticks(tick_marks, classes, rotation=90)\n",
        "    pyplot.yticks(tick_marks, classes)\n",
        "    if normalize:\n",
        "        cm = cm.astype('float') / cm.sum(axis=1)[:, np.newaxis]\n",
        "\n",
        "    thresh = cm.max() / 2.\n",
        "    cm = np.round(cm,2)\n",
        "    for i, j in itertools.product(range(cm.shape[0]), range(cm.shape[1])):\n",
        "        pyplot.text(j, i, cm[i, j],\n",
        "                 horizontalalignment=\"center\",\n",
        "                 color=\"white\" if cm[i, j] > thresh else \"black\")\n",
        "    pyplot.tight_layout()\n",
        "    pyplot.ylabel('True label')\n",
        "    pyplot.xlabel('Predicted label')\n",
        "    pyplot.show()\n",
        "\n",
        "x_test, y_test, labels = load_data('/content/US_Original_dataset_final/test/')\n",
        "print(labels)"
      ]
    },
    {
      "cell_type": "code",
      "execution_count": 12,
      "metadata": {
        "id": "WyKNQ6Tz-Km5"
      },
      "outputs": [],
      "source": [
        "from sklearn.metrics import classification_report\n",
        "def validateResults(model):   \n",
        "  predictions = model.predict(x_test, batch_size=batch_size)\n",
        "  y_pred = np.argmax(predictions, axis=1) \n",
        "  y_true = np.argmax(y_test, axis=0)\n",
        "\n",
        "  print(\"\\n\"+ classification_report(y_test, y_pred, target_names=classes))\n",
        "  print(confusion_matrix(y_test, y_pred))\n",
        "  confusion_mtx = confusion_matrix(y_test, y_pred)\n",
        "  cm = plot_confusion_matrix(confusion_mtx, classes = list(labels.items()), normalize=False)"
      ]
    },
    {
      "cell_type": "markdown",
      "metadata": {
        "id": "yARbZdUK3vHk"
      },
      "source": [
        "\n",
        "\n",
        "---\n",
        "\n",
        "\n",
        "AlexNet"
      ]
    },
    {
      "cell_type": "code",
      "execution_count": 13,
      "metadata": {
        "id": "MslWUPKO3uG4"
      },
      "outputs": [],
      "source": [
        "import cv2\n",
        "from PIL import Image\n",
        "import numpy as np"
      ]
    },
    {
      "cell_type": "code",
      "execution_count": 14,
      "metadata": {
        "id": "J9pPhTgB3ywX"
      },
      "outputs": [],
      "source": [
        "from keras.models import Sequential\n",
        "from keras.layers import Conv2D, MaxPooling2D, Dense, Flatten, Dropout\n",
        "# metric\n",
        "from keras.metrics import binary_crossentropy"
      ]
    },
    {
      "cell_type": "code",
      "execution_count": 15,
      "metadata": {
        "id": "4eIVs4FI33Rv"
      },
      "outputs": [],
      "source": [
        "def Alexnet():\n",
        "  # Initialize the model\n",
        "  model = Sequential()\n",
        "\n",
        "  # layer 1: convolutional layer + max-pooling layer\n",
        "  model.add(Conv2D(filters = 96, kernel_size = (11,11), strides= 4, padding = 'valid'\n",
        "  , activation='relu', input_shape = (227,227,3)))\n",
        "  model.add(MaxPooling2D(pool_size = (3,3), strides = 2))\n",
        "\n",
        "  # layer 2: convolutional layer + max-pooling layer \n",
        "  model.add(Conv2D(filters = 256, kernel_size = (5,5), padding = 'same', activation = 'relu'))\n",
        "  model.add(MaxPooling2D(pool_size = (3,3), strides = 2))\n",
        "\n",
        "  # layers 3-5: three convolutional layers + 1 max-pooling layer\n",
        "  model.add(Conv2D(filters = 384, kernel_size = (3,3), padding = 'same', activation = 'relu'))\n",
        "  model.add(Conv2D(filters = 384, kernel_size = (3,3), padding = 'same', activation = 'relu'))\n",
        "  model.add(Conv2D(filters = 256, kernel_size = (3,3), padding = 'same', activation = 'relu'))\n",
        "  model.add(MaxPooling2D(pool_size = (3,3), strides = 2))\n",
        "\n",
        "  # layers 6 - 8: two fully connected hidden layers and one fully connected output layer\n",
        "  model.add(Flatten())\n",
        "  model.add(Dense(4096, activation = 'relu'))\n",
        "  model.add(Dropout(0.5))\n",
        "  model.add(Dense(4096, activation = 'relu'))\n",
        "  model.add(Dropout(0.5))\n",
        "  model.add(Dense(2, activation = 'softmax'))  \n",
        "\n",
        "  return model"
      ]
    },
    {
      "cell_type": "code",
      "execution_count": 16,
      "metadata": {
        "colab": {
          "base_uri": "https://localhost:8080/"
        },
        "id": "pZsUyuwF4jQD",
        "outputId": "6d1a35b0-c2a3-47ce-ff3a-e6d851800b39"
      },
      "outputs": [
        {
          "output_type": "stream",
          "name": "stdout",
          "text": [
            "Model: \"sequential\"\n",
            "_________________________________________________________________\n",
            " Layer (type)                Output Shape              Param #   \n",
            "=================================================================\n",
            " conv2d (Conv2D)             (None, 55, 55, 96)        34944     \n",
            "                                                                 \n",
            " max_pooling2d (MaxPooling2D  (None, 27, 27, 96)       0         \n",
            " )                                                               \n",
            "                                                                 \n",
            " conv2d_1 (Conv2D)           (None, 27, 27, 256)       614656    \n",
            "                                                                 \n",
            " max_pooling2d_1 (MaxPooling  (None, 13, 13, 256)      0         \n",
            " 2D)                                                             \n",
            "                                                                 \n",
            " conv2d_2 (Conv2D)           (None, 13, 13, 384)       885120    \n",
            "                                                                 \n",
            " conv2d_3 (Conv2D)           (None, 13, 13, 384)       1327488   \n",
            "                                                                 \n",
            " conv2d_4 (Conv2D)           (None, 13, 13, 256)       884992    \n",
            "                                                                 \n",
            " max_pooling2d_2 (MaxPooling  (None, 6, 6, 256)        0         \n",
            " 2D)                                                             \n",
            "                                                                 \n",
            " flatten (Flatten)           (None, 9216)              0         \n",
            "                                                                 \n",
            " dense (Dense)               (None, 4096)              37752832  \n",
            "                                                                 \n",
            " dropout (Dropout)           (None, 4096)              0         \n",
            "                                                                 \n",
            " dense_1 (Dense)             (None, 4096)              16781312  \n",
            "                                                                 \n",
            " dropout_1 (Dropout)         (None, 4096)              0         \n",
            "                                                                 \n",
            " dense_2 (Dense)             (None, 2)                 8194      \n",
            "                                                                 \n",
            "=================================================================\n",
            "Total params: 58,289,538\n",
            "Trainable params: 58,289,538\n",
            "Non-trainable params: 0\n",
            "_________________________________________________________________\n"
          ]
        }
      ],
      "source": [
        "Alexnet_model = Alexnet()\n",
        "Alexnet_model.summary()"
      ]
    },
    {
      "cell_type": "code",
      "execution_count": 17,
      "metadata": {
        "id": "VRTkwzj14mUT"
      },
      "outputs": [],
      "source": [
        "from keras.preprocessing.image import ImageDataGenerator\n",
        "from keras.callbacks import ModelCheckpoint\n",
        "from keras.callbacks import EarlyStopping\n",
        "from keras.callbacks import ReduceLROnPlateau"
      ]
    },
    {
      "cell_type": "code",
      "source": [
        "from keras.preprocessing.image import ImageDataGenerator\n",
        "\n",
        "EPOCHS = 100\n",
        "batch_size = 128\n",
        "\n",
        "es = EarlyStopping(monitor='val_loss', patience=50, verbose=1, min_delta=1e-4)\n",
        "rlrop = ReduceLROnPlateau(monitor='val_loss', factor=0.1, patience=4, verbose=1, min_delta=1e-4)"
      ],
      "metadata": {
        "id": "EWz-UHjtWUeJ"
      },
      "execution_count": 18,
      "outputs": []
    },
    {
      "cell_type": "code",
      "source": [
        "datagen = ImageDataGenerator(rotation_range = 5, width_shift_range = 0.1, \n",
        "                               height_shift_range = 0.1, horizontal_flip = True)\n",
        "\n",
        "train_it = datagen.flow_from_directory(train_path, batch_size=batch_size, target_size=(227, 227))\n",
        "validation_it = datagen.flow_from_directory(val_path, batch_size=batch_size, target_size=(227, 227))\n",
        "test_it = datagen.flow_from_directory(test_path, batch_size=batch_size, target_size=(227, 227))"
      ],
      "metadata": {
        "colab": {
          "base_uri": "https://localhost:8080/"
        },
        "id": "_AyvIFeMWVy8",
        "outputId": "b9d2e347-bc2d-479c-eea0-947141190fd8"
      },
      "execution_count": 24,
      "outputs": [
        {
          "output_type": "stream",
          "name": "stdout",
          "text": [
            "Found 98 images belonging to 2 classes.\n",
            "Found 25 images belonging to 2 classes.\n",
            "Found 40 images belonging to 2 classes.\n"
          ]
        }
      ]
    },
    {
      "cell_type": "code",
      "execution_count": 25,
      "metadata": {
        "id": "HimuP1Pg4ryK"
      },
      "outputs": [],
      "source": [
        "def fitAlexNet1():\n",
        "  # compile the model with a loss funciton, a metric and and optimizqation method  \n",
        "  Alexnet_model.compile(optimizer='adam', loss='categorical_crossentropy', metrics=['accuracy'])\n",
        "\n",
        "  # fit model\n",
        "  historyAlexNet1 = Alexnet_model.fit(\n",
        "      train_it, \n",
        "      steps_per_epoch=len(train_it),\n",
        "      validation_data=validation_it, \n",
        "      validation_steps=len(validation_it), \n",
        "      epochs=EPOCHS, \n",
        "      verbose=1,\n",
        "      callbacks=[rlrop])\n",
        "  \n",
        "  return historyAlexNet1"
      ]
    },
    {
      "cell_type": "code",
      "source": [
        "historyAlexNet1 = fitAlexNet1()"
      ],
      "metadata": {
        "colab": {
          "base_uri": "https://localhost:8080/"
        },
        "id": "7GLVKZnVXUvw",
        "outputId": "ffe3aa18-14ab-44fa-c501-4de92e0464e6"
      },
      "execution_count": 26,
      "outputs": [
        {
          "output_type": "stream",
          "name": "stdout",
          "text": [
            "Epoch 1/100\n",
            "1/1 [==============================] - 2s 2s/step - loss: 0.7005 - accuracy: 0.3673 - val_loss: 0.9553 - val_accuracy: 0.6000 - lr: 0.0010\n",
            "Epoch 2/100\n",
            "1/1 [==============================] - 1s 1s/step - loss: 0.8793 - accuracy: 0.6939 - val_loss: 0.7227 - val_accuracy: 0.4000 - lr: 0.0010\n",
            "Epoch 3/100\n",
            "1/1 [==============================] - 1s 1s/step - loss: 0.7472 - accuracy: 0.3061 - val_loss: 0.6870 - val_accuracy: 0.6000 - lr: 0.0010\n",
            "Epoch 4/100\n",
            "1/1 [==============================] - 1s 1s/step - loss: 0.6837 - accuracy: 0.6531 - val_loss: 0.6763 - val_accuracy: 0.6000 - lr: 0.0010\n",
            "Epoch 5/100\n",
            "1/1 [==============================] - 2s 2s/step - loss: 0.6594 - accuracy: 0.6939 - val_loss: 0.7128 - val_accuracy: 0.6000 - lr: 0.0010\n",
            "Epoch 6/100\n",
            "1/1 [==============================] - 1s 1s/step - loss: 0.6383 - accuracy: 0.6939 - val_loss: 0.6786 - val_accuracy: 0.6000 - lr: 0.0010\n",
            "Epoch 7/100\n",
            "1/1 [==============================] - 1s 1s/step - loss: 0.6244 - accuracy: 0.6939 - val_loss: 0.6589 - val_accuracy: 0.6000 - lr: 0.0010\n",
            "Epoch 8/100\n",
            "1/1 [==============================] - 1s 1s/step - loss: 0.6157 - accuracy: 0.6939 - val_loss: 0.6804 - val_accuracy: 0.6000 - lr: 0.0010\n",
            "Epoch 9/100\n",
            "1/1 [==============================] - 1s 1s/step - loss: 0.5997 - accuracy: 0.6939 - val_loss: 0.6873 - val_accuracy: 0.6000 - lr: 0.0010\n",
            "Epoch 10/100\n",
            "1/1 [==============================] - 1s 1s/step - loss: 0.5877 - accuracy: 0.6939 - val_loss: 0.6512 - val_accuracy: 0.6000 - lr: 0.0010\n",
            "Epoch 11/100\n",
            "1/1 [==============================] - 1s 1s/step - loss: 0.5829 - accuracy: 0.6939 - val_loss: 0.6673 - val_accuracy: 0.6000 - lr: 0.0010\n",
            "Epoch 12/100\n",
            "1/1 [==============================] - 1s 1s/step - loss: 0.5646 - accuracy: 0.6939 - val_loss: 0.6460 - val_accuracy: 0.6000 - lr: 0.0010\n",
            "Epoch 13/100\n",
            "1/1 [==============================] - 1s 1s/step - loss: 0.5353 - accuracy: 0.6939 - val_loss: 0.6462 - val_accuracy: 0.6000 - lr: 0.0010\n",
            "Epoch 14/100\n",
            "1/1 [==============================] - 1s 1s/step - loss: 0.4989 - accuracy: 0.6939 - val_loss: 0.6327 - val_accuracy: 0.6000 - lr: 0.0010\n",
            "Epoch 15/100\n",
            "1/1 [==============================] - 1s 1s/step - loss: 0.4823 - accuracy: 0.7551 - val_loss: 0.7813 - val_accuracy: 0.6000 - lr: 0.0010\n",
            "Epoch 16/100\n",
            "1/1 [==============================] - 1s 1s/step - loss: 0.5742 - accuracy: 0.7245 - val_loss: 0.6263 - val_accuracy: 0.5600 - lr: 0.0010\n",
            "Epoch 17/100\n",
            "1/1 [==============================] - 1s 1s/step - loss: 0.5353 - accuracy: 0.7245 - val_loss: 0.6372 - val_accuracy: 0.5600 - lr: 0.0010\n",
            "Epoch 18/100\n",
            "1/1 [==============================] - 1s 1s/step - loss: 0.5543 - accuracy: 0.7449 - val_loss: 0.6200 - val_accuracy: 0.5600 - lr: 0.0010\n",
            "Epoch 19/100\n",
            "1/1 [==============================] - 1s 1s/step - loss: 0.4828 - accuracy: 0.7653 - val_loss: 0.8963 - val_accuracy: 0.6000 - lr: 0.0010\n",
            "Epoch 20/100\n",
            "1/1 [==============================] - 1s 1s/step - loss: 0.4591 - accuracy: 0.7347 - val_loss: 1.0575 - val_accuracy: 0.6000 - lr: 0.0010\n",
            "Epoch 21/100\n",
            "1/1 [==============================] - 1s 1s/step - loss: 0.5244 - accuracy: 0.7347 - val_loss: 0.6013 - val_accuracy: 0.6800 - lr: 0.0010\n",
            "Epoch 22/100\n",
            "1/1 [==============================] - 1s 1s/step - loss: 0.4161 - accuracy: 0.7857 - val_loss: 0.6489 - val_accuracy: 0.5600 - lr: 0.0010\n",
            "Epoch 23/100\n",
            "1/1 [==============================] - 1s 1s/step - loss: 0.5195 - accuracy: 0.6837 - val_loss: 0.6230 - val_accuracy: 0.6000 - lr: 0.0010\n",
            "Epoch 24/100\n",
            "1/1 [==============================] - 1s 1s/step - loss: 0.4078 - accuracy: 0.8265 - val_loss: 0.7592 - val_accuracy: 0.7200 - lr: 0.0010\n",
            "Epoch 25/100\n",
            "1/1 [==============================] - ETA: 0s - loss: 0.4018 - accuracy: 0.8163\n",
            "Epoch 25: ReduceLROnPlateau reducing learning rate to 0.00010000000474974513.\n",
            "1/1 [==============================] - 1s 1s/step - loss: 0.4018 - accuracy: 0.8163 - val_loss: 0.7312 - val_accuracy: 0.6400 - lr: 0.0010\n",
            "Epoch 26/100\n",
            "1/1 [==============================] - 1s 1s/step - loss: 0.4662 - accuracy: 0.7857 - val_loss: 0.8413 - val_accuracy: 0.6400 - lr: 1.0000e-04\n",
            "Epoch 27/100\n",
            "1/1 [==============================] - 1s 1s/step - loss: 0.4561 - accuracy: 0.7959 - val_loss: 1.0850 - val_accuracy: 0.6800 - lr: 1.0000e-04\n",
            "Epoch 28/100\n",
            "1/1 [==============================] - 1s 1s/step - loss: 0.4607 - accuracy: 0.7551 - val_loss: 1.0220 - val_accuracy: 0.6000 - lr: 1.0000e-04\n",
            "Epoch 29/100\n",
            "1/1 [==============================] - ETA: 0s - loss: 0.4359 - accuracy: 0.7245\n",
            "Epoch 29: ReduceLROnPlateau reducing learning rate to 1.0000000474974514e-05.\n",
            "1/1 [==============================] - 1s 1s/step - loss: 0.4359 - accuracy: 0.7245 - val_loss: 0.6428 - val_accuracy: 0.6800 - lr: 1.0000e-04\n",
            "Epoch 30/100\n",
            "1/1 [==============================] - 1s 1s/step - loss: 0.4102 - accuracy: 0.8061 - val_loss: 0.6816 - val_accuracy: 0.6000 - lr: 1.0000e-05\n",
            "Epoch 31/100\n",
            "1/1 [==============================] - 1s 1s/step - loss: 0.4248 - accuracy: 0.7653 - val_loss: 0.8286 - val_accuracy: 0.5600 - lr: 1.0000e-05\n",
            "Epoch 32/100\n",
            "1/1 [==============================] - 1s 1s/step - loss: 0.4206 - accuracy: 0.7755 - val_loss: 0.7689 - val_accuracy: 0.6800 - lr: 1.0000e-05\n",
            "Epoch 33/100\n",
            "1/1 [==============================] - ETA: 0s - loss: 0.4111 - accuracy: 0.7755\n",
            "Epoch 33: ReduceLROnPlateau reducing learning rate to 1.0000000656873453e-06.\n",
            "1/1 [==============================] - 1s 1s/step - loss: 0.4111 - accuracy: 0.7755 - val_loss: 0.7451 - val_accuracy: 0.7200 - lr: 1.0000e-05\n",
            "Epoch 34/100\n",
            "1/1 [==============================] - 1s 1s/step - loss: 0.4247 - accuracy: 0.8061 - val_loss: 0.6148 - val_accuracy: 0.7200 - lr: 1.0000e-06\n",
            "Epoch 35/100\n",
            "1/1 [==============================] - 1s 1s/step - loss: 0.4257 - accuracy: 0.7551 - val_loss: 0.7033 - val_accuracy: 0.6400 - lr: 1.0000e-06\n",
            "Epoch 36/100\n",
            "1/1 [==============================] - 1s 1s/step - loss: 0.3936 - accuracy: 0.7755 - val_loss: 0.6685 - val_accuracy: 0.6000 - lr: 1.0000e-06\n",
            "Epoch 37/100\n",
            "1/1 [==============================] - ETA: 0s - loss: 0.4386 - accuracy: 0.7959\n",
            "Epoch 37: ReduceLROnPlateau reducing learning rate to 1.0000001111620805e-07.\n",
            "1/1 [==============================] - 1s 1s/step - loss: 0.4386 - accuracy: 0.7959 - val_loss: 0.7620 - val_accuracy: 0.6800 - lr: 1.0000e-06\n",
            "Epoch 38/100\n",
            "1/1 [==============================] - 1s 1s/step - loss: 0.4232 - accuracy: 0.7755 - val_loss: 0.7084 - val_accuracy: 0.7600 - lr: 1.0000e-07\n",
            "Epoch 39/100\n",
            "1/1 [==============================] - 1s 1s/step - loss: 0.4372 - accuracy: 0.7449 - val_loss: 0.9161 - val_accuracy: 0.5200 - lr: 1.0000e-07\n",
            "Epoch 40/100\n",
            "1/1 [==============================] - 1s 1s/step - loss: 0.4100 - accuracy: 0.7653 - val_loss: 0.7713 - val_accuracy: 0.6400 - lr: 1.0000e-07\n",
            "Epoch 41/100\n",
            "1/1 [==============================] - ETA: 0s - loss: 0.4096 - accuracy: 0.7959\n",
            "Epoch 41: ReduceLROnPlateau reducing learning rate to 1.000000082740371e-08.\n",
            "1/1 [==============================] - 1s 1s/step - loss: 0.4096 - accuracy: 0.7959 - val_loss: 0.7419 - val_accuracy: 0.6000 - lr: 1.0000e-07\n",
            "Epoch 42/100\n",
            "1/1 [==============================] - 1s 1s/step - loss: 0.4094 - accuracy: 0.7959 - val_loss: 0.7673 - val_accuracy: 0.6400 - lr: 1.0000e-08\n",
            "Epoch 43/100\n",
            "1/1 [==============================] - 1s 1s/step - loss: 0.4141 - accuracy: 0.7857 - val_loss: 0.5122 - val_accuracy: 0.6000 - lr: 1.0000e-08\n",
            "Epoch 44/100\n",
            "1/1 [==============================] - 1s 1s/step - loss: 0.4346 - accuracy: 0.7755 - val_loss: 0.5826 - val_accuracy: 0.6800 - lr: 1.0000e-08\n",
            "Epoch 45/100\n",
            "1/1 [==============================] - 1s 1s/step - loss: 0.3872 - accuracy: 0.8163 - val_loss: 0.7419 - val_accuracy: 0.5200 - lr: 1.0000e-08\n",
            "Epoch 46/100\n",
            "1/1 [==============================] - 1s 1s/step - loss: 0.3766 - accuracy: 0.7857 - val_loss: 0.9062 - val_accuracy: 0.6400 - lr: 1.0000e-08\n",
            "Epoch 47/100\n",
            "1/1 [==============================] - ETA: 0s - loss: 0.4043 - accuracy: 0.7755\n",
            "Epoch 47: ReduceLROnPlateau reducing learning rate to 1.000000082740371e-09.\n",
            "1/1 [==============================] - 1s 1s/step - loss: 0.4043 - accuracy: 0.7755 - val_loss: 0.6966 - val_accuracy: 0.5600 - lr: 1.0000e-08\n",
            "Epoch 48/100\n",
            "1/1 [==============================] - 1s 1s/step - loss: 0.3864 - accuracy: 0.8265 - val_loss: 0.6137 - val_accuracy: 0.7200 - lr: 1.0000e-09\n",
            "Epoch 49/100\n",
            "1/1 [==============================] - 1s 1s/step - loss: 0.4129 - accuracy: 0.7449 - val_loss: 0.7501 - val_accuracy: 0.6800 - lr: 1.0000e-09\n",
            "Epoch 50/100\n",
            "1/1 [==============================] - 1s 1s/step - loss: 0.3673 - accuracy: 0.8265 - val_loss: 0.6427 - val_accuracy: 0.7600 - lr: 1.0000e-09\n",
            "Epoch 51/100\n",
            "1/1 [==============================] - ETA: 0s - loss: 0.4118 - accuracy: 0.7755\n",
            "Epoch 51: ReduceLROnPlateau reducing learning rate to 1.000000082740371e-10.\n",
            "1/1 [==============================] - 1s 1s/step - loss: 0.4118 - accuracy: 0.7755 - val_loss: 0.7755 - val_accuracy: 0.6400 - lr: 1.0000e-09\n",
            "Epoch 52/100\n",
            "1/1 [==============================] - 1s 1s/step - loss: 0.4118 - accuracy: 0.7653 - val_loss: 0.5559 - val_accuracy: 0.6800 - lr: 1.0000e-10\n",
            "Epoch 53/100\n",
            "1/1 [==============================] - 1s 1s/step - loss: 0.3927 - accuracy: 0.7755 - val_loss: 0.6451 - val_accuracy: 0.5600 - lr: 1.0000e-10\n",
            "Epoch 54/100\n",
            "1/1 [==============================] - 1s 1s/step - loss: 0.4375 - accuracy: 0.7653 - val_loss: 0.8447 - val_accuracy: 0.6400 - lr: 1.0000e-10\n",
            "Epoch 55/100\n",
            "1/1 [==============================] - ETA: 0s - loss: 0.4018 - accuracy: 0.7959\n",
            "Epoch 55: ReduceLROnPlateau reducing learning rate to 1.000000082740371e-11.\n",
            "1/1 [==============================] - 1s 1s/step - loss: 0.4018 - accuracy: 0.7959 - val_loss: 0.5432 - val_accuracy: 0.7200 - lr: 1.0000e-10\n",
            "Epoch 56/100\n",
            "1/1 [==============================] - 1s 1s/step - loss: 0.4421 - accuracy: 0.7551 - val_loss: 0.9112 - val_accuracy: 0.6800 - lr: 1.0000e-11\n",
            "Epoch 57/100\n",
            "1/1 [==============================] - 1s 1s/step - loss: 0.3883 - accuracy: 0.8367 - val_loss: 0.8454 - val_accuracy: 0.4800 - lr: 1.0000e-11\n",
            "Epoch 58/100\n",
            "1/1 [==============================] - 1s 1s/step - loss: 0.4526 - accuracy: 0.7653 - val_loss: 0.6955 - val_accuracy: 0.6400 - lr: 1.0000e-11\n",
            "Epoch 59/100\n",
            "1/1 [==============================] - ETA: 0s - loss: 0.3912 - accuracy: 0.7449\n",
            "Epoch 59: ReduceLROnPlateau reducing learning rate to 1.000000082740371e-12.\n",
            "1/1 [==============================] - 1s 1s/step - loss: 0.3912 - accuracy: 0.7449 - val_loss: 0.7678 - val_accuracy: 0.6000 - lr: 1.0000e-11\n",
            "Epoch 60/100\n",
            "1/1 [==============================] - 1s 1s/step - loss: 0.4106 - accuracy: 0.7857 - val_loss: 0.5994 - val_accuracy: 0.6800 - lr: 1.0000e-12\n",
            "Epoch 61/100\n",
            "1/1 [==============================] - 1s 1s/step - loss: 0.4362 - accuracy: 0.7245 - val_loss: 0.7429 - val_accuracy: 0.6400 - lr: 1.0000e-12\n",
            "Epoch 62/100\n",
            "1/1 [==============================] - 1s 1s/step - loss: 0.4191 - accuracy: 0.7653 - val_loss: 0.6967 - val_accuracy: 0.5600 - lr: 1.0000e-12\n",
            "Epoch 63/100\n",
            "1/1 [==============================] - ETA: 0s - loss: 0.4190 - accuracy: 0.7857\n",
            "Epoch 63: ReduceLROnPlateau reducing learning rate to 1.0000001044244145e-13.\n",
            "1/1 [==============================] - 1s 1s/step - loss: 0.4190 - accuracy: 0.7857 - val_loss: 0.7428 - val_accuracy: 0.6400 - lr: 1.0000e-12\n",
            "Epoch 64/100\n",
            "1/1 [==============================] - 1s 1s/step - loss: 0.4315 - accuracy: 0.7551 - val_loss: 0.8206 - val_accuracy: 0.6000 - lr: 1.0000e-13\n",
            "Epoch 65/100\n",
            "1/1 [==============================] - 1s 1s/step - loss: 0.3870 - accuracy: 0.8061 - val_loss: 0.7117 - val_accuracy: 0.6000 - lr: 1.0000e-13\n",
            "Epoch 66/100\n",
            "1/1 [==============================] - 1s 1s/step - loss: 0.4391 - accuracy: 0.7449 - val_loss: 0.5596 - val_accuracy: 0.7200 - lr: 1.0000e-13\n",
            "Epoch 67/100\n",
            "1/1 [==============================] - ETA: 0s - loss: 0.3855 - accuracy: 0.8163\n",
            "Epoch 67: ReduceLROnPlateau reducing learning rate to 1.0000001179769417e-14.\n",
            "1/1 [==============================] - 1s 1s/step - loss: 0.3855 - accuracy: 0.8163 - val_loss: 0.7650 - val_accuracy: 0.7200 - lr: 1.0000e-13\n",
            "Epoch 68/100\n",
            "1/1 [==============================] - 1s 1s/step - loss: 0.4754 - accuracy: 0.7653 - val_loss: 0.6607 - val_accuracy: 0.5600 - lr: 1.0000e-14\n",
            "Epoch 69/100\n",
            "1/1 [==============================] - 1s 1s/step - loss: 0.4651 - accuracy: 0.7449 - val_loss: 0.7384 - val_accuracy: 0.6400 - lr: 1.0000e-14\n",
            "Epoch 70/100\n",
            "1/1 [==============================] - 1s 1s/step - loss: 0.3931 - accuracy: 0.7959 - val_loss: 0.7855 - val_accuracy: 0.6000 - lr: 1.0000e-14\n",
            "Epoch 71/100\n",
            "1/1 [==============================] - ETA: 0s - loss: 0.4106 - accuracy: 0.7959\n",
            "Epoch 71: ReduceLROnPlateau reducing learning rate to 1.0000001518582595e-15.\n",
            "1/1 [==============================] - 1s 1s/step - loss: 0.4106 - accuracy: 0.7959 - val_loss: 0.8697 - val_accuracy: 0.6400 - lr: 1.0000e-14\n",
            "Epoch 72/100\n",
            "1/1 [==============================] - 1s 1s/step - loss: 0.4285 - accuracy: 0.7449 - val_loss: 0.8137 - val_accuracy: 0.5600 - lr: 1.0000e-15\n",
            "Epoch 73/100\n",
            "1/1 [==============================] - 1s 1s/step - loss: 0.4128 - accuracy: 0.8265 - val_loss: 0.8200 - val_accuracy: 0.4800 - lr: 1.0000e-15\n",
            "Epoch 74/100\n",
            "1/1 [==============================] - 1s 1s/step - loss: 0.4364 - accuracy: 0.7653 - val_loss: 0.6875 - val_accuracy: 0.6000 - lr: 1.0000e-15\n",
            "Epoch 75/100\n",
            "1/1 [==============================] - ETA: 0s - loss: 0.4268 - accuracy: 0.7551\n",
            "Epoch 75: ReduceLROnPlateau reducing learning rate to 1.0000001095066122e-16.\n",
            "1/1 [==============================] - 1s 1s/step - loss: 0.4268 - accuracy: 0.7551 - val_loss: 0.7319 - val_accuracy: 0.6800 - lr: 1.0000e-15\n",
            "Epoch 76/100\n",
            "1/1 [==============================] - 1s 1s/step - loss: 0.4320 - accuracy: 0.7551 - val_loss: 0.9196 - val_accuracy: 0.6000 - lr: 1.0000e-16\n",
            "Epoch 77/100\n",
            "1/1 [==============================] - 1s 1s/step - loss: 0.3844 - accuracy: 0.8061 - val_loss: 0.6550 - val_accuracy: 0.6400 - lr: 1.0000e-16\n",
            "Epoch 78/100\n",
            "1/1 [==============================] - 1s 1s/step - loss: 0.4111 - accuracy: 0.7449 - val_loss: 0.6779 - val_accuracy: 0.6800 - lr: 1.0000e-16\n",
            "Epoch 79/100\n",
            "1/1 [==============================] - ETA: 0s - loss: 0.4576 - accuracy: 0.7245\n",
            "Epoch 79: ReduceLROnPlateau reducing learning rate to 1.0000000830368326e-17.\n",
            "1/1 [==============================] - 2s 2s/step - loss: 0.4576 - accuracy: 0.7245 - val_loss: 0.5756 - val_accuracy: 0.6800 - lr: 1.0000e-16\n",
            "Epoch 80/100\n",
            "1/1 [==============================] - 1s 1s/step - loss: 0.4312 - accuracy: 0.7245 - val_loss: 0.6778 - val_accuracy: 0.6000 - lr: 1.0000e-17\n",
            "Epoch 81/100\n",
            "1/1 [==============================] - 1s 1s/step - loss: 0.3866 - accuracy: 0.8061 - val_loss: 0.7650 - val_accuracy: 0.6800 - lr: 1.0000e-17\n",
            "Epoch 82/100\n",
            "1/1 [==============================] - 1s 1s/step - loss: 0.4352 - accuracy: 0.7449 - val_loss: 0.9549 - val_accuracy: 0.5600 - lr: 1.0000e-17\n",
            "Epoch 83/100\n",
            "1/1 [==============================] - ETA: 0s - loss: 0.4304 - accuracy: 0.7551\n",
            "Epoch 83: ReduceLROnPlateau reducing learning rate to 1.0000000664932204e-18.\n",
            "1/1 [==============================] - 1s 1s/step - loss: 0.4304 - accuracy: 0.7551 - val_loss: 0.8407 - val_accuracy: 0.6400 - lr: 1.0000e-17\n",
            "Epoch 84/100\n",
            "1/1 [==============================] - 1s 1s/step - loss: 0.4311 - accuracy: 0.7959 - val_loss: 0.6531 - val_accuracy: 0.6800 - lr: 1.0000e-18\n",
            "Epoch 85/100\n",
            "1/1 [==============================] - 1s 1s/step - loss: 0.4570 - accuracy: 0.7755 - val_loss: 0.7238 - val_accuracy: 0.6800 - lr: 1.0000e-18\n",
            "Epoch 86/100\n",
            "1/1 [==============================] - 1s 1s/step - loss: 0.4171 - accuracy: 0.7755 - val_loss: 0.5950 - val_accuracy: 0.7600 - lr: 1.0000e-18\n",
            "Epoch 87/100\n",
            "1/1 [==============================] - ETA: 0s - loss: 0.4459 - accuracy: 0.7143\n",
            "Epoch 87: ReduceLROnPlateau reducing learning rate to 1.000000045813705e-19.\n",
            "1/1 [==============================] - 1s 1s/step - loss: 0.4459 - accuracy: 0.7143 - val_loss: 0.7233 - val_accuracy: 0.6400 - lr: 1.0000e-18\n",
            "Epoch 88/100\n",
            "1/1 [==============================] - 1s 1s/step - loss: 0.4057 - accuracy: 0.8061 - val_loss: 1.0450 - val_accuracy: 0.6400 - lr: 1.0000e-19\n",
            "Epoch 89/100\n",
            "1/1 [==============================] - 1s 1s/step - loss: 0.4130 - accuracy: 0.7857 - val_loss: 0.7533 - val_accuracy: 0.5200 - lr: 1.0000e-19\n",
            "Epoch 90/100\n",
            "1/1 [==============================] - 1s 1s/step - loss: 0.4653 - accuracy: 0.7347 - val_loss: 0.9262 - val_accuracy: 0.5600 - lr: 1.0000e-19\n",
            "Epoch 91/100\n",
            "1/1 [==============================] - ETA: 0s - loss: 0.4085 - accuracy: 0.7449\n",
            "Epoch 91: ReduceLROnPlateau reducing learning rate to 1.000000032889008e-20.\n",
            "1/1 [==============================] - 1s 1s/step - loss: 0.4085 - accuracy: 0.7449 - val_loss: 0.6547 - val_accuracy: 0.7200 - lr: 1.0000e-19\n",
            "Epoch 92/100\n",
            "1/1 [==============================] - 1s 1s/step - loss: 0.3961 - accuracy: 0.8061 - val_loss: 0.7144 - val_accuracy: 0.6400 - lr: 1.0000e-20\n",
            "Epoch 93/100\n",
            "1/1 [==============================] - 1s 1s/step - loss: 0.4283 - accuracy: 0.8061 - val_loss: 0.6500 - val_accuracy: 0.6400 - lr: 1.0000e-20\n",
            "Epoch 94/100\n",
            "1/1 [==============================] - 1s 1s/step - loss: 0.3871 - accuracy: 0.7653 - val_loss: 0.6630 - val_accuracy: 0.6000 - lr: 1.0000e-20\n",
            "Epoch 95/100\n",
            "1/1 [==============================] - ETA: 0s - loss: 0.4245 - accuracy: 0.7959\n",
            "Epoch 95: ReduceLROnPlateau reducing learning rate to 1.0000000490448793e-21.\n",
            "1/1 [==============================] - 1s 1s/step - loss: 0.4245 - accuracy: 0.7959 - val_loss: 0.7491 - val_accuracy: 0.5600 - lr: 1.0000e-20\n",
            "Epoch 96/100\n",
            "1/1 [==============================] - 1s 1s/step - loss: 0.4196 - accuracy: 0.7551 - val_loss: 0.6211 - val_accuracy: 0.6800 - lr: 1.0000e-21\n",
            "Epoch 97/100\n",
            "1/1 [==============================] - 1s 1s/step - loss: 0.4536 - accuracy: 0.7449 - val_loss: 0.5475 - val_accuracy: 0.6800 - lr: 1.0000e-21\n",
            "Epoch 98/100\n",
            "1/1 [==============================] - 1s 1s/step - loss: 0.4872 - accuracy: 0.7245 - val_loss: 0.7242 - val_accuracy: 0.6800 - lr: 1.0000e-21\n",
            "Epoch 99/100\n",
            "1/1 [==============================] - ETA: 0s - loss: 0.3834 - accuracy: 0.8163\n",
            "Epoch 99: ReduceLROnPlateau reducing learning rate to 1.0000000692397185e-22.\n",
            "1/1 [==============================] - 1s 1s/step - loss: 0.3834 - accuracy: 0.8163 - val_loss: 0.6497 - val_accuracy: 0.6400 - lr: 1.0000e-21\n",
            "Epoch 100/100\n",
            "1/1 [==============================] - 1s 1s/step - loss: 0.3755 - accuracy: 0.8367 - val_loss: 0.7039 - val_accuracy: 0.6000 - lr: 1.0000e-22\n"
          ]
        }
      ]
    },
    {
      "cell_type": "code",
      "execution_count": 27,
      "metadata": {
        "colab": {
          "base_uri": "https://localhost:8080/",
          "height": 545
        },
        "id": "Y2fw7VUS69d2",
        "outputId": "03df5d69-23d7-4e5f-e234-0adb2c4fb99f"
      },
      "outputs": [
        {
          "output_type": "display_data",
          "data": {
            "text/plain": [
              "<Figure size 432x288 with 1 Axes>"
            ],
            "image/png": "[encoded data removed]"
          },
          "metadata": {
            "needs_background": "light"
          }
        },
        {
          "output_type": "display_data",
          "data": {
            "text/plain": [
              "<Figure size 432x288 with 1 Axes>"
            ],
            "image/png": "[encoded data removed]"
          },
          "metadata": {
            "needs_background": "light"
          }
        }
      ],
      "source": [
        "summarize_diagnostics(historyAlexNet1)"
      ]
    },
    {
      "cell_type": "code",
      "execution_count": 28,
      "metadata": {
        "colab": {
          "base_uri": "https://localhost:8080/",
          "height": 645
        },
        "id": "w2joOSUO-N99",
        "outputId": "3a06c8ef-1cd6-4773-a734-ad3110d4acce"
      },
      "outputs": [
        {
          "output_type": "stream",
          "name": "stdout",
          "text": [
            "\n",
            "              precision    recall  f1-score   support\n",
            "\n",
            "      Benign       0.65      0.65      0.65        26\n",
            "   Malignant       0.36      0.36      0.36        14\n",
            "\n",
            "    accuracy                           0.55        40\n",
            "   macro avg       0.51      0.51      0.51        40\n",
            "weighted avg       0.55      0.55      0.55        40\n",
            "\n",
            "[[17  9]\n",
            " [ 9  5]]\n"
          ]
        },
        {
          "output_type": "display_data",
          "data": {
            "text/plain": [
              "<Figure size 432x432 with 2 Axes>"
            ],
            "image/png": "[encoded data removed]"
          },
          "metadata": {
            "needs_background": "light"
          }
        }
      ],
      "source": [
        "validateResults(Alexnet_model)"
      ]
    },
    {
      "cell_type": "markdown",
      "source": [
        "AlexNet v2"
      ],
      "metadata": {
        "id": "nINj2gybYHzv"
      }
    },
    {
      "cell_type": "code",
      "source": [
        "def fitAlexNet2():\n",
        "  model = Alexnet()\n",
        "  # compile the model with a loss funciton, a metric and and optimization method\n",
        "\n",
        "  model.compile(optimizer='adam', loss='categorical_crossentropy', metrics=['accuracy'])\n",
        "\n",
        "  datagen2 = ImageDataGenerator(rotation_range=15)\n",
        "  \n",
        "  train_it_v2 = datagen2.flow_from_directory(train_path, batch_size=batch_size, target_size=(227, 227))\n",
        "  validation_it_v2 = datagen2.flow_from_directory(val_path, batch_size=batch_size, target_size=(227, 227))\n",
        "  test_it_v2 = datagen2.flow_from_directory(test_path, batch_size=batch_size, target_size=(227, 227))\n",
        "\n",
        "  # fit model\n",
        "  historyAlexNet2 = model.fit(\n",
        "      train_it_v2, \n",
        "      steps_per_epoch=len(train_it_v2),\n",
        "      validation_data=validation_it_v2, \n",
        "      validation_steps=len(validation_it_v2), \n",
        "      epochs=EPOCHS, \n",
        "      verbose=1,\n",
        "      callbacks=[rlrop])\n",
        "  \n",
        "  return historyAlexNet2, model"
      ],
      "metadata": {
        "id": "yl1Jqba8YKBc"
      },
      "execution_count": 29,
      "outputs": []
    },
    {
      "cell_type": "code",
      "source": [
        "historyAlexNet2, alexNet2 = fitAlexNet2()"
      ],
      "metadata": {
        "colab": {
          "base_uri": "https://localhost:8080/"
        },
        "id": "wmz0DEt3YnRq",
        "outputId": "5aaa3f27-4150-4bfd-a94a-1af3a58bb64e"
      },
      "execution_count": 30,
      "outputs": [
        {
          "output_type": "stream",
          "name": "stdout",
          "text": [
            "Found 98 images belonging to 2 classes.\n",
            "Found 25 images belonging to 2 classes.\n",
            "Found 40 images belonging to 2 classes.\n",
            "Epoch 1/100\n",
            "1/1 [==============================] - 2s 2s/step - loss: 6.9070 - accuracy: 0.3163 - val_loss: 2411.0728 - val_accuracy: 0.6000 - lr: 0.0010\n",
            "Epoch 2/100\n",
            "1/1 [==============================] - 1s 1s/step - loss: 2011.6907 - accuracy: 0.6939 - val_loss: 1.7493 - val_accuracy: 0.6000 - lr: 0.0010\n",
            "Epoch 3/100\n",
            "1/1 [==============================] - 1s 1s/step - loss: 2.3639 - accuracy: 0.6939 - val_loss: 6.0781 - val_accuracy: 0.4000 - lr: 0.0010\n",
            "Epoch 4/100\n",
            "1/1 [==============================] - 1s 1s/step - loss: 7.4093 - accuracy: 0.3061 - val_loss: 0.6506 - val_accuracy: 0.6000 - lr: 0.0010\n",
            "Epoch 5/100\n",
            "1/1 [==============================] - 1s 1s/step - loss: 0.5954 - accuracy: 0.6939 - val_loss: 0.9417 - val_accuracy: 0.4000 - lr: 0.0010\n",
            "Epoch 6/100\n",
            "1/1 [==============================] - 1s 1s/step - loss: 0.9179 - accuracy: 0.3061 - val_loss: 1.4692 - val_accuracy: 0.6000 - lr: 0.0010\n",
            "Epoch 7/100\n",
            "1/1 [==============================] - 1s 1s/step - loss: 1.3931 - accuracy: 0.6939 - val_loss: 0.6460 - val_accuracy: 0.7200 - lr: 0.0010\n",
            "Epoch 8/100\n",
            "1/1 [==============================] - 1s 1s/step - loss: 0.5921 - accuracy: 0.7143 - val_loss: 0.7372 - val_accuracy: 0.4000 - lr: 0.0010\n",
            "Epoch 9/100\n",
            "1/1 [==============================] - 1s 1s/step - loss: 0.7455 - accuracy: 0.4082 - val_loss: 0.6599 - val_accuracy: 0.7200 - lr: 0.0010\n",
            "Epoch 10/100\n",
            "1/1 [==============================] - 1s 1s/step - loss: 0.6382 - accuracy: 0.7347 - val_loss: 0.6439 - val_accuracy: 0.6000 - lr: 0.0010\n",
            "Epoch 11/100\n",
            "1/1 [==============================] - 1s 1s/step - loss: 0.6063 - accuracy: 0.6939 - val_loss: 0.6487 - val_accuracy: 0.6000 - lr: 0.0010\n",
            "Epoch 12/100\n",
            "1/1 [==============================] - 1s 1s/step - loss: 0.6001 - accuracy: 0.6939 - val_loss: 0.6555 - val_accuracy: 0.6000 - lr: 0.0010\n",
            "Epoch 13/100\n",
            "1/1 [==============================] - 1s 1s/step - loss: 0.6173 - accuracy: 0.6939 - val_loss: 0.6447 - val_accuracy: 0.6000 - lr: 0.0010\n",
            "Epoch 14/100\n",
            "1/1 [==============================] - ETA: 0s - loss: 0.6054 - accuracy: 0.6939\n",
            "Epoch 14: ReduceLROnPlateau reducing learning rate to 0.00010000000474974513.\n",
            "1/1 [==============================] - 1s 1s/step - loss: 0.6054 - accuracy: 0.6939 - val_loss: 0.6488 - val_accuracy: 0.6000 - lr: 0.0010\n",
            "Epoch 15/100\n",
            "1/1 [==============================] - 1s 1s/step - loss: 0.6010 - accuracy: 0.6939 - val_loss: 0.6447 - val_accuracy: 0.6000 - lr: 1.0000e-04\n",
            "Epoch 16/100\n",
            "1/1 [==============================] - 1s 1s/step - loss: 0.5925 - accuracy: 0.6939 - val_loss: 0.6457 - val_accuracy: 0.6000 - lr: 1.0000e-04\n",
            "Epoch 17/100\n",
            "1/1 [==============================] - 1s 1s/step - loss: 0.5946 - accuracy: 0.6939 - val_loss: 0.6495 - val_accuracy: 0.6000 - lr: 1.0000e-04\n",
            "Epoch 18/100\n",
            "1/1 [==============================] - 1s 1s/step - loss: 0.5858 - accuracy: 0.6939 - val_loss: 0.6397 - val_accuracy: 0.6000 - lr: 1.0000e-04\n",
            "Epoch 19/100\n",
            "1/1 [==============================] - 1s 1s/step - loss: 0.5946 - accuracy: 0.6939 - val_loss: 0.6430 - val_accuracy: 0.6000 - lr: 1.0000e-04\n",
            "Epoch 20/100\n",
            "1/1 [==============================] - 1s 1s/step - loss: 0.5890 - accuracy: 0.6939 - val_loss: 0.6420 - val_accuracy: 0.6000 - lr: 1.0000e-04\n",
            "Epoch 21/100\n",
            "1/1 [==============================] - 1s 1s/step - loss: 0.5768 - accuracy: 0.6939 - val_loss: 0.6422 - val_accuracy: 0.6000 - lr: 1.0000e-04\n",
            "Epoch 22/100\n",
            "1/1 [==============================] - 1s 1s/step - loss: 0.5653 - accuracy: 0.6939 - val_loss: 0.6358 - val_accuracy: 0.6000 - lr: 1.0000e-04\n",
            "Epoch 23/100\n",
            "1/1 [==============================] - 2s 2s/step - loss: 0.5952 - accuracy: 0.6939 - val_loss: 0.6381 - val_accuracy: 0.6000 - lr: 1.0000e-04\n",
            "Epoch 24/100\n",
            "1/1 [==============================] - 1s 1s/step - loss: 0.5997 - accuracy: 0.6939 - val_loss: 0.6376 - val_accuracy: 0.6000 - lr: 1.0000e-04\n",
            "Epoch 25/100\n",
            "1/1 [==============================] - 1s 1s/step - loss: 0.5808 - accuracy: 0.6939 - val_loss: 0.6320 - val_accuracy: 0.6000 - lr: 1.0000e-04\n",
            "Epoch 26/100\n",
            "1/1 [==============================] - 1s 1s/step - loss: 0.5583 - accuracy: 0.6939 - val_loss: 0.6391 - val_accuracy: 0.6000 - lr: 1.0000e-04\n",
            "Epoch 27/100\n",
            "1/1 [==============================] - 1s 1s/step - loss: 0.5814 - accuracy: 0.6939 - val_loss: 0.6283 - val_accuracy: 0.6000 - lr: 1.0000e-04\n",
            "Epoch 28/100\n",
            "1/1 [==============================] - 1s 1s/step - loss: 0.5830 - accuracy: 0.6939 - val_loss: 0.6308 - val_accuracy: 0.6000 - lr: 1.0000e-04\n",
            "Epoch 29/100\n",
            "1/1 [==============================] - 2s 2s/step - loss: 0.5574 - accuracy: 0.6939 - val_loss: 0.6269 - val_accuracy: 0.6000 - lr: 1.0000e-04\n",
            "Epoch 30/100\n",
            "1/1 [==============================] - 1s 1s/step - loss: 0.5682 - accuracy: 0.6939 - val_loss: 0.6285 - val_accuracy: 0.6000 - lr: 1.0000e-04\n",
            "Epoch 31/100\n",
            "1/1 [==============================] - 1s 1s/step - loss: 0.5588 - accuracy: 0.6939 - val_loss: 0.6267 - val_accuracy: 0.6000 - lr: 1.0000e-04\n",
            "Epoch 32/100\n",
            "1/1 [==============================] - 1s 1s/step - loss: 0.5664 - accuracy: 0.7041 - val_loss: 0.6265 - val_accuracy: 0.6000 - lr: 1.0000e-04\n",
            "Epoch 33/100\n",
            "1/1 [==============================] - 1s 1s/step - loss: 0.5592 - accuracy: 0.6939 - val_loss: 0.6193 - val_accuracy: 0.6000 - lr: 1.0000e-04\n",
            "Epoch 34/100\n",
            "1/1 [==============================] - 1s 1s/step - loss: 0.5531 - accuracy: 0.7041 - val_loss: 0.6251 - val_accuracy: 0.6000 - lr: 1.0000e-04\n",
            "Epoch 35/100\n",
            "1/1 [==============================] - 1s 1s/step - loss: 0.5467 - accuracy: 0.7041 - val_loss: 0.6143 - val_accuracy: 0.6000 - lr: 1.0000e-04\n",
            "Epoch 36/100\n",
            "1/1 [==============================] - 1s 1s/step - loss: 0.5566 - accuracy: 0.7041 - val_loss: 0.6201 - val_accuracy: 0.6000 - lr: 1.0000e-04\n",
            "Epoch 37/100\n",
            "1/1 [==============================] - 1s 1s/step - loss: 0.5735 - accuracy: 0.7041 - val_loss: 0.6068 - val_accuracy: 0.6000 - lr: 1.0000e-04\n",
            "Epoch 38/100\n",
            "1/1 [==============================] - 1s 1s/step - loss: 0.5519 - accuracy: 0.7143 - val_loss: 0.6150 - val_accuracy: 0.6400 - lr: 1.0000e-04\n",
            "Epoch 39/100\n",
            "1/1 [==============================] - 1s 1s/step - loss: 0.5468 - accuracy: 0.6939 - val_loss: 0.6125 - val_accuracy: 0.6400 - lr: 1.0000e-04\n",
            "Epoch 40/100\n",
            "1/1 [==============================] - 1s 1s/step - loss: 0.5425 - accuracy: 0.7143 - val_loss: 0.6111 - val_accuracy: 0.6400 - lr: 1.0000e-04\n",
            "Epoch 41/100\n",
            "1/1 [==============================] - ETA: 0s - loss: 0.5398 - accuracy: 0.7041\n",
            "Epoch 41: ReduceLROnPlateau reducing learning rate to 1.0000000474974514e-05.\n",
            "1/1 [==============================] - 1s 1s/step - loss: 0.5398 - accuracy: 0.7041 - val_loss: 0.6148 - val_accuracy: 0.6800 - lr: 1.0000e-04\n",
            "Epoch 42/100\n",
            "1/1 [==============================] - 1s 1s/step - loss: 0.5416 - accuracy: 0.7245 - val_loss: 0.6100 - val_accuracy: 0.6400 - lr: 1.0000e-05\n",
            "Epoch 43/100\n",
            "1/1 [==============================] - 1s 1s/step - loss: 0.5448 - accuracy: 0.7143 - val_loss: 0.6104 - val_accuracy: 0.6400 - lr: 1.0000e-05\n",
            "Epoch 44/100\n",
            "1/1 [==============================] - 1s 1s/step - loss: 0.5265 - accuracy: 0.7245 - val_loss: 0.6053 - val_accuracy: 0.6400 - lr: 1.0000e-05\n",
            "Epoch 45/100\n",
            "1/1 [==============================] - 1s 1s/step - loss: 0.5361 - accuracy: 0.7143 - val_loss: 0.6074 - val_accuracy: 0.6800 - lr: 1.0000e-05\n",
            "Epoch 46/100\n",
            "1/1 [==============================] - 1s 1s/step - loss: 0.5478 - accuracy: 0.7143 - val_loss: 0.6013 - val_accuracy: 0.6800 - lr: 1.0000e-05\n",
            "Epoch 47/100\n",
            "1/1 [==============================] - 1s 1s/step - loss: 0.5358 - accuracy: 0.7041 - val_loss: 0.6110 - val_accuracy: 0.6800 - lr: 1.0000e-05\n",
            "Epoch 48/100\n",
            "1/1 [==============================] - 1s 1s/step - loss: 0.5310 - accuracy: 0.7143 - val_loss: 0.5925 - val_accuracy: 0.6400 - lr: 1.0000e-05\n",
            "Epoch 49/100\n",
            "1/1 [==============================] - 1s 1s/step - loss: 0.5171 - accuracy: 0.7143 - val_loss: 0.6044 - val_accuracy: 0.6800 - lr: 1.0000e-05\n",
            "Epoch 50/100\n",
            "1/1 [==============================] - 1s 1s/step - loss: 0.5391 - accuracy: 0.6939 - val_loss: 0.5936 - val_accuracy: 0.6800 - lr: 1.0000e-05\n",
            "Epoch 51/100\n",
            "1/1 [==============================] - 1s 1s/step - loss: 0.5471 - accuracy: 0.7143 - val_loss: 0.6068 - val_accuracy: 0.6400 - lr: 1.0000e-05\n",
            "Epoch 52/100\n",
            "1/1 [==============================] - ETA: 0s - loss: 0.5235 - accuracy: 0.7245\n",
            "Epoch 52: ReduceLROnPlateau reducing learning rate to 1.0000000656873453e-06.\n",
            "1/1 [==============================] - 1s 1s/step - loss: 0.5235 - accuracy: 0.7245 - val_loss: 0.6018 - val_accuracy: 0.6400 - lr: 1.0000e-05\n",
            "Epoch 53/100\n",
            "1/1 [==============================] - 1s 1s/step - loss: 0.5375 - accuracy: 0.7143 - val_loss: 0.5962 - val_accuracy: 0.6800 - lr: 1.0000e-06\n",
            "Epoch 54/100\n",
            "1/1 [==============================] - 1s 1s/step - loss: 0.5270 - accuracy: 0.7245 - val_loss: 0.5925 - val_accuracy: 0.6400 - lr: 1.0000e-06\n",
            "Epoch 55/100\n",
            "1/1 [==============================] - 1s 1s/step - loss: 0.5290 - accuracy: 0.7245 - val_loss: 0.5958 - val_accuracy: 0.6800 - lr: 1.0000e-06\n",
            "Epoch 56/100\n",
            "1/1 [==============================] - ETA: 0s - loss: 0.5232 - accuracy: 0.7347\n",
            "Epoch 56: ReduceLROnPlateau reducing learning rate to 1.0000001111620805e-07.\n",
            "1/1 [==============================] - 1s 1s/step - loss: 0.5232 - accuracy: 0.7347 - val_loss: 0.6072 - val_accuracy: 0.6800 - lr: 1.0000e-06\n",
            "Epoch 57/100\n",
            "1/1 [==============================] - 1s 1s/step - loss: 0.5234 - accuracy: 0.7041 - val_loss: 0.6062 - val_accuracy: 0.6800 - lr: 1.0000e-07\n",
            "Epoch 58/100\n",
            "1/1 [==============================] - 1s 1s/step - loss: 0.5362 - accuracy: 0.7041 - val_loss: 0.6007 - val_accuracy: 0.6800 - lr: 1.0000e-07\n",
            "Epoch 59/100\n",
            "1/1 [==============================] - 1s 1s/step - loss: 0.5287 - accuracy: 0.7143 - val_loss: 0.5913 - val_accuracy: 0.6800 - lr: 1.0000e-07\n",
            "Epoch 60/100\n",
            "1/1 [==============================] - 1s 1s/step - loss: 0.5396 - accuracy: 0.7143 - val_loss: 0.6048 - val_accuracy: 0.6400 - lr: 1.0000e-07\n",
            "Epoch 61/100\n",
            "1/1 [==============================] - 1s 1s/step - loss: 0.5427 - accuracy: 0.7143 - val_loss: 0.6104 - val_accuracy: 0.6800 - lr: 1.0000e-07\n",
            "Epoch 62/100\n",
            "1/1 [==============================] - 1s 1s/step - loss: 0.5197 - accuracy: 0.7245 - val_loss: 0.5919 - val_accuracy: 0.6800 - lr: 1.0000e-07\n",
            "Epoch 63/100\n",
            "1/1 [==============================] - ETA: 0s - loss: 0.5223 - accuracy: 0.7041\n",
            "Epoch 63: ReduceLROnPlateau reducing learning rate to 1.000000082740371e-08.\n",
            "1/1 [==============================] - 1s 1s/step - loss: 0.5223 - accuracy: 0.7041 - val_loss: 0.6073 - val_accuracy: 0.6800 - lr: 1.0000e-07\n",
            "Epoch 64/100\n",
            "1/1 [==============================] - 1s 1s/step - loss: 0.5353 - accuracy: 0.7041 - val_loss: 0.6060 - val_accuracy: 0.6400 - lr: 1.0000e-08\n",
            "Epoch 65/100\n",
            "1/1 [==============================] - 1s 1s/step - loss: 0.5369 - accuracy: 0.7143 - val_loss: 0.6064 - val_accuracy: 0.6400 - lr: 1.0000e-08\n",
            "Epoch 66/100\n",
            "1/1 [==============================] - 1s 1s/step - loss: 0.5472 - accuracy: 0.7347 - val_loss: 0.6020 - val_accuracy: 0.6400 - lr: 1.0000e-08\n",
            "Epoch 67/100\n",
            "1/1 [==============================] - ETA: 0s - loss: 0.5405 - accuracy: 0.7041\n",
            "Epoch 67: ReduceLROnPlateau reducing learning rate to 1.000000082740371e-09.\n",
            "1/1 [==============================] - 1s 1s/step - loss: 0.5405 - accuracy: 0.7041 - val_loss: 0.5985 - val_accuracy: 0.6800 - lr: 1.0000e-08\n",
            "Epoch 68/100\n",
            "1/1 [==============================] - 1s 1s/step - loss: 0.5414 - accuracy: 0.7347 - val_loss: 0.5915 - val_accuracy: 0.6800 - lr: 1.0000e-09\n",
            "Epoch 69/100\n",
            "1/1 [==============================] - 1s 1s/step - loss: 0.5452 - accuracy: 0.7347 - val_loss: 0.6093 - val_accuracy: 0.6800 - lr: 1.0000e-09\n",
            "Epoch 70/100\n",
            "1/1 [==============================] - 1s 1s/step - loss: 0.5190 - accuracy: 0.7245 - val_loss: 0.6013 - val_accuracy: 0.6400 - lr: 1.0000e-09\n",
            "Epoch 71/100\n",
            "1/1 [==============================] - ETA: 0s - loss: 0.5504 - accuracy: 0.7143\n",
            "Epoch 71: ReduceLROnPlateau reducing learning rate to 1.000000082740371e-10.\n",
            "1/1 [==============================] - 1s 1s/step - loss: 0.5504 - accuracy: 0.7143 - val_loss: 0.6139 - val_accuracy: 0.6800 - lr: 1.0000e-09\n",
            "Epoch 72/100\n",
            "1/1 [==============================] - 1s 1s/step - loss: 0.5358 - accuracy: 0.7245 - val_loss: 0.6088 - val_accuracy: 0.6800 - lr: 1.0000e-10\n",
            "Epoch 73/100\n",
            "1/1 [==============================] - 1s 1s/step - loss: 0.5376 - accuracy: 0.7041 - val_loss: 0.6022 - val_accuracy: 0.6800 - lr: 1.0000e-10\n",
            "Epoch 74/100\n",
            "1/1 [==============================] - 1s 1s/step - loss: 0.5316 - accuracy: 0.7245 - val_loss: 0.5995 - val_accuracy: 0.6400 - lr: 1.0000e-10\n",
            "Epoch 75/100\n",
            "1/1 [==============================] - ETA: 0s - loss: 0.5395 - accuracy: 0.7143\n",
            "Epoch 75: ReduceLROnPlateau reducing learning rate to 1.000000082740371e-11.\n",
            "1/1 [==============================] - 1s 1s/step - loss: 0.5395 - accuracy: 0.7143 - val_loss: 0.5938 - val_accuracy: 0.6400 - lr: 1.0000e-10\n",
            "Epoch 76/100\n",
            "1/1 [==============================] - 1s 1s/step - loss: 0.5233 - accuracy: 0.7143 - val_loss: 0.6147 - val_accuracy: 0.6400 - lr: 1.0000e-11\n",
            "Epoch 77/100\n",
            "1/1 [==============================] - 1s 1s/step - loss: 0.5148 - accuracy: 0.7347 - val_loss: 0.5996 - val_accuracy: 0.6800 - lr: 1.0000e-11\n",
            "Epoch 78/100\n",
            "1/1 [==============================] - 1s 1s/step - loss: 0.5399 - accuracy: 0.7143 - val_loss: 0.6028 - val_accuracy: 0.6800 - lr: 1.0000e-11\n",
            "Epoch 79/100\n",
            "1/1 [==============================] - ETA: 0s - loss: 0.5321 - accuracy: 0.7041\n",
            "Epoch 79: ReduceLROnPlateau reducing learning rate to 1.000000082740371e-12.\n",
            "1/1 [==============================] - 1s 1s/step - loss: 0.5321 - accuracy: 0.7041 - val_loss: 0.6088 - val_accuracy: 0.6400 - lr: 1.0000e-11\n",
            "Epoch 80/100\n",
            "1/1 [==============================] - 1s 1s/step - loss: 0.5211 - accuracy: 0.7245 - val_loss: 0.6109 - val_accuracy: 0.6800 - lr: 1.0000e-12\n",
            "Epoch 81/100\n",
            "1/1 [==============================] - 1s 1s/step - loss: 0.5488 - accuracy: 0.6837 - val_loss: 0.6036 - val_accuracy: 0.6400 - lr: 1.0000e-12\n",
            "Epoch 82/100\n",
            "1/1 [==============================] - 1s 1s/step - loss: 0.5575 - accuracy: 0.7143 - val_loss: 0.5968 - val_accuracy: 0.6800 - lr: 1.0000e-12\n",
            "Epoch 83/100\n",
            "1/1 [==============================] - ETA: 0s - loss: 0.5400 - accuracy: 0.7143\n",
            "Epoch 83: ReduceLROnPlateau reducing learning rate to 1.0000001044244145e-13.\n",
            "1/1 [==============================] - 1s 1s/step - loss: 0.5400 - accuracy: 0.7143 - val_loss: 0.6102 - val_accuracy: 0.6400 - lr: 1.0000e-12\n",
            "Epoch 84/100\n",
            "1/1 [==============================] - 1s 1s/step - loss: 0.5375 - accuracy: 0.7245 - val_loss: 0.5917 - val_accuracy: 0.6400 - lr: 1.0000e-13\n",
            "Epoch 85/100\n",
            "1/1 [==============================] - 1s 1s/step - loss: 0.5480 - accuracy: 0.7143 - val_loss: 0.5919 - val_accuracy: 0.6800 - lr: 1.0000e-13\n",
            "Epoch 86/100\n",
            "1/1 [==============================] - 1s 1s/step - loss: 0.5261 - accuracy: 0.7245 - val_loss: 0.5952 - val_accuracy: 0.6400 - lr: 1.0000e-13\n",
            "Epoch 87/100\n",
            "1/1 [==============================] - ETA: 0s - loss: 0.5283 - accuracy: 0.7245\n",
            "Epoch 87: ReduceLROnPlateau reducing learning rate to 1.0000001179769417e-14.\n",
            "1/1 [==============================] - 1s 1s/step - loss: 0.5283 - accuracy: 0.7245 - val_loss: 0.6024 - val_accuracy: 0.6800 - lr: 1.0000e-13\n",
            "Epoch 88/100\n",
            "1/1 [==============================] - 1s 1s/step - loss: 0.5501 - accuracy: 0.7347 - val_loss: 0.5983 - val_accuracy: 0.6800 - lr: 1.0000e-14\n",
            "Epoch 89/100\n",
            "1/1 [==============================] - 1s 1s/step - loss: 0.5163 - accuracy: 0.7041 - val_loss: 0.6014 - val_accuracy: 0.6400 - lr: 1.0000e-14\n",
            "Epoch 90/100\n",
            "1/1 [==============================] - 1s 1s/step - loss: 0.5337 - accuracy: 0.7449 - val_loss: 0.6035 - val_accuracy: 0.6800 - lr: 1.0000e-14\n",
            "Epoch 91/100\n",
            "1/1 [==============================] - ETA: 0s - loss: 0.5479 - accuracy: 0.7245\n",
            "Epoch 91: ReduceLROnPlateau reducing learning rate to 1.0000001518582595e-15.\n",
            "1/1 [==============================] - 1s 1s/step - loss: 0.5479 - accuracy: 0.7245 - val_loss: 0.5972 - val_accuracy: 0.6800 - lr: 1.0000e-14\n",
            "Epoch 92/100\n",
            "1/1 [==============================] - 1s 1s/step - loss: 0.5330 - accuracy: 0.7245 - val_loss: 0.6070 - val_accuracy: 0.6800 - lr: 1.0000e-15\n",
            "Epoch 93/100\n",
            "1/1 [==============================] - 1s 1s/step - loss: 0.5461 - accuracy: 0.7041 - val_loss: 0.6133 - val_accuracy: 0.6800 - lr: 1.0000e-15\n",
            "Epoch 94/100\n",
            "1/1 [==============================] - 1s 1s/step - loss: 0.5306 - accuracy: 0.7347 - val_loss: 0.6129 - val_accuracy: 0.6800 - lr: 1.0000e-15\n",
            "Epoch 95/100\n",
            "1/1 [==============================] - ETA: 0s - loss: 0.5160 - accuracy: 0.7347\n",
            "Epoch 95: ReduceLROnPlateau reducing learning rate to 1.0000001095066122e-16.\n",
            "1/1 [==============================] - 1s 1s/step - loss: 0.5160 - accuracy: 0.7347 - val_loss: 0.6063 - val_accuracy: 0.6800 - lr: 1.0000e-15\n",
            "Epoch 96/100\n",
            "1/1 [==============================] - 1s 1s/step - loss: 0.5374 - accuracy: 0.7245 - val_loss: 0.6121 - val_accuracy: 0.6400 - lr: 1.0000e-16\n",
            "Epoch 97/100\n",
            "1/1 [==============================] - 1s 1s/step - loss: 0.5436 - accuracy: 0.7143 - val_loss: 0.5988 - val_accuracy: 0.6800 - lr: 1.0000e-16\n",
            "Epoch 98/100\n",
            "1/1 [==============================] - 1s 1s/step - loss: 0.5452 - accuracy: 0.7245 - val_loss: 0.6069 - val_accuracy: 0.6400 - lr: 1.0000e-16\n",
            "Epoch 99/100\n",
            "1/1 [==============================] - ETA: 0s - loss: 0.5316 - accuracy: 0.7347\n",
            "Epoch 99: ReduceLROnPlateau reducing learning rate to 1.0000000830368326e-17.\n",
            "1/1 [==============================] - 1s 1s/step - loss: 0.5316 - accuracy: 0.7347 - val_loss: 0.6038 - val_accuracy: 0.6400 - lr: 1.0000e-16\n",
            "Epoch 100/100\n",
            "1/1 [==============================] - 1s 1s/step - loss: 0.5146 - accuracy: 0.7143 - val_loss: 0.5975 - val_accuracy: 0.6800 - lr: 1.0000e-17\n"
          ]
        }
      ]
    },
    {
      "cell_type": "code",
      "source": [
        "summarize_diagnostics(historyAlexNet2)"
      ],
      "metadata": {
        "colab": {
          "base_uri": "https://localhost:8080/",
          "height": 545
        },
        "id": "WMnqsAO_b-8M",
        "outputId": "8a39e7e3-7945-4fff-81be-471f4c996b2f"
      },
      "execution_count": 31,
      "outputs": [
        {
          "output_type": "display_data",
          "data": {
            "text/plain": [
              "<Figure size 432x288 with 1 Axes>"
            ],
            "image/png": "[encoded data removed]"
          },
          "metadata": {
            "needs_background": "light"
          }
        },
        {
          "output_type": "display_data",
          "data": {
            "text/plain": [
              "<Figure size 432x288 with 1 Axes>"
            ],
            "image/png": "[encoded data removed]"
          },
          "metadata": {
            "needs_background": "light"
          }
        }
      ]
    },
    {
      "cell_type": "code",
      "source": [
        "validateResults(alexNet2)"
      ],
      "metadata": {
        "colab": {
          "base_uri": "https://localhost:8080/",
          "height": 647
        },
        "id": "HcxXKptqeIa0",
        "outputId": "dbed6b07-ebe9-4c9c-8360-56ec42d96a5a"
      },
      "execution_count": 32,
      "outputs": [
        {
          "output_type": "stream",
          "name": "stdout",
          "text": [
            "\n",
            "              precision    recall  f1-score   support\n",
            "\n",
            "      Benign       0.68      0.96      0.79        26\n",
            "   Malignant       0.67      0.14      0.24        14\n",
            "\n",
            "    accuracy                           0.68        40\n",
            "   macro avg       0.67      0.55      0.51        40\n",
            "weighted avg       0.67      0.68      0.60        40\n",
            "\n",
            "[[25  1]\n",
            " [12  2]]\n"
          ]
        },
        {
          "output_type": "display_data",
          "data": {
            "text/plain": [
              "<Figure size 432x432 with 2 Axes>"
            ],
            "image/png": "[encoded data removed]"
          },
          "metadata": {
            "needs_background": "light"
          }
        }
      ]
    },
    {
      "cell_type": "code",
      "source": [
        "from tensorflow.keras.optimizers import RMSprop\n",
        "def fitAlexNet3():\n",
        "  model3 = Alexnet()\n",
        "  # compile the model with a loss funciton, a metric and and optimization method\n",
        "\n",
        "  model3.compile(optimizer=RMSprop(lr=1e-4), loss='categorical_crossentropy', metrics=['accuracy'])\n",
        "\n",
        "  datagen2 = ImageDataGenerator(rotation_range = 5, width_shift_range = 0.1, \n",
        "                               height_shift_range = 0.1, horizontal_flip = True)\n",
        "  \n",
        "  train_it_v2 = datagen2.flow_from_directory(train_path, batch_size=batch_size, target_size=(227, 227))\n",
        "  validation_it_v2 = datagen2.flow_from_directory(val_path, batch_size=batch_size, target_size=(227, 227))\n",
        "  test_it_v2 = datagen2.flow_from_directory(test_path, batch_size=batch_size, target_size=(227, 227))\n",
        "\n",
        "  # fit model\n",
        "  historyAlexNet3 = model3.fit(\n",
        "      train_it_v2, \n",
        "      steps_per_epoch=len(train_it_v2),\n",
        "      validation_data=validation_it_v2, \n",
        "      validation_steps=len(validation_it_v2), \n",
        "      epochs=EPOCHS, \n",
        "      verbose=1,\n",
        "      callbacks=[rlrop])\n",
        "  \n",
        "  return historyAlexNet3, model3"
      ],
      "metadata": {
        "id": "an6z9gDrdAt6"
      },
      "execution_count": 33,
      "outputs": []
    },
    {
      "cell_type": "code",
      "source": [
        "historyAlexNet3, alexNet3 = fitAlexNet3()"
      ],
      "metadata": {
        "colab": {
          "base_uri": "https://localhost:8080/"
        },
        "id": "s1wUBdSMdYGd",
        "outputId": "a3f2aeff-faf4-4fdd-81ae-9f0cd5fabec2"
      },
      "execution_count": 37,
      "outputs": [
        {
          "output_type": "stream",
          "name": "stderr",
          "text": [
            "/usr/local/lib/python3.7/dist-packages/keras/optimizer_v2/rmsprop.py:130: UserWarning: The `lr` argument is deprecated, use `learning_rate` instead.\n",
            "  super(RMSprop, self).__init__(name, **kwargs)\n"
          ]
        },
        {
          "output_type": "stream",
          "name": "stdout",
          "text": [
            "Found 98 images belonging to 2 classes.\n",
            "Found 25 images belonging to 2 classes.\n",
            "Found 40 images belonging to 2 classes.\n",
            "Epoch 1/100\n",
            "1/1 [==============================] - 3s 3s/step - loss: 3.0848 - accuracy: 0.6122 - val_loss: 78.0026 - val_accuracy: 0.4000 - lr: 1.0000e-04\n",
            "Epoch 2/100\n",
            "1/1 [==============================] - 1s 1s/step - loss: 86.3831 - accuracy: 0.3061 - val_loss: 14.6573 - val_accuracy: 0.6000 - lr: 1.0000e-04\n",
            "Epoch 3/100\n",
            "1/1 [==============================] - 1s 1s/step - loss: 12.2168 - accuracy: 0.6939 - val_loss: 1.0616 - val_accuracy: 0.6000 - lr: 1.0000e-04\n",
            "Epoch 4/100\n",
            "1/1 [==============================] - 1s 1s/step - loss: 0.9302 - accuracy: 0.6939 - val_loss: 4.6432 - val_accuracy: 0.4000 - lr: 1.0000e-04\n",
            "Epoch 5/100\n",
            "1/1 [==============================] - 1s 1s/step - loss: 4.6403 - accuracy: 0.3061 - val_loss: 1.9834 - val_accuracy: 0.6000 - lr: 1.0000e-04\n",
            "Epoch 6/100\n",
            "1/1 [==============================] - 1s 1s/step - loss: 1.8023 - accuracy: 0.6939 - val_loss: 0.7928 - val_accuracy: 0.6000 - lr: 1.0000e-04\n",
            "Epoch 7/100\n",
            "1/1 [==============================] - 1s 1s/step - loss: 0.7110 - accuracy: 0.6939 - val_loss: 0.6857 - val_accuracy: 0.6000 - lr: 1.0000e-04\n",
            "Epoch 8/100\n",
            "1/1 [==============================] - 1s 1s/step - loss: 0.6481 - accuracy: 0.6224 - val_loss: 0.6629 - val_accuracy: 0.6000 - lr: 1.0000e-04\n",
            "Epoch 9/100\n",
            "1/1 [==============================] - 1s 1s/step - loss: 0.5828 - accuracy: 0.7041 - val_loss: 0.6137 - val_accuracy: 0.7200 - lr: 1.0000e-04\n",
            "Epoch 10/100\n",
            "1/1 [==============================] - 1s 1s/step - loss: 0.5571 - accuracy: 0.7143 - val_loss: 0.6472 - val_accuracy: 0.6400 - lr: 1.0000e-04\n",
            "Epoch 11/100\n",
            "1/1 [==============================] - 1s 1s/step - loss: 0.5821 - accuracy: 0.6837 - val_loss: 0.6350 - val_accuracy: 0.6800 - lr: 1.0000e-04\n",
            "Epoch 12/100\n",
            "1/1 [==============================] - 1s 1s/step - loss: 0.5533 - accuracy: 0.7041 - val_loss: 0.6453 - val_accuracy: 0.6400 - lr: 1.0000e-04\n",
            "Epoch 13/100\n",
            "1/1 [==============================] - 1s 1s/step - loss: 0.5322 - accuracy: 0.7041 - val_loss: 0.5962 - val_accuracy: 0.7600 - lr: 1.0000e-04\n",
            "Epoch 14/100\n",
            "1/1 [==============================] - 1s 1s/step - loss: 0.5436 - accuracy: 0.7041 - val_loss: 0.6759 - val_accuracy: 0.5600 - lr: 1.0000e-04\n",
            "Epoch 15/100\n",
            "1/1 [==============================] - 2s 2s/step - loss: 0.5459 - accuracy: 0.7347 - val_loss: 0.6473 - val_accuracy: 0.6800 - lr: 1.0000e-04\n",
            "Epoch 16/100\n",
            "1/1 [==============================] - 1s 1s/step - loss: 0.5844 - accuracy: 0.6735 - val_loss: 0.6552 - val_accuracy: 0.6000 - lr: 1.0000e-04\n",
            "Epoch 17/100\n",
            "1/1 [==============================] - ETA: 0s - loss: 0.5772 - accuracy: 0.7245\n",
            "Epoch 17: ReduceLROnPlateau reducing learning rate to 9.999999747378752e-06.\n",
            "1/1 [==============================] - 1s 1s/step - loss: 0.5772 - accuracy: 0.7245 - val_loss: 0.7311 - val_accuracy: 0.5200 - lr: 1.0000e-04\n",
            "Epoch 18/100\n",
            "1/1 [==============================] - 1s 1s/step - loss: 0.7114 - accuracy: 0.5816 - val_loss: 0.6573 - val_accuracy: 0.6800 - lr: 1.0000e-05\n",
            "Epoch 19/100\n",
            "1/1 [==============================] - 1s 1s/step - loss: 0.5995 - accuracy: 0.6939 - val_loss: 0.6049 - val_accuracy: 0.6400 - lr: 1.0000e-05\n",
            "Epoch 20/100\n",
            "1/1 [==============================] - 1s 1s/step - loss: 0.5363 - accuracy: 0.7449 - val_loss: 0.6487 - val_accuracy: 0.6000 - lr: 1.0000e-05\n",
            "Epoch 21/100\n",
            "1/1 [==============================] - ETA: 0s - loss: 0.6011 - accuracy: 0.7041\n",
            "Epoch 21: ReduceLROnPlateau reducing learning rate to 9.999999747378752e-07.\n",
            "1/1 [==============================] - 1s 1s/step - loss: 0.6011 - accuracy: 0.7041 - val_loss: 0.6915 - val_accuracy: 0.6800 - lr: 1.0000e-05\n",
            "Epoch 22/100\n",
            "1/1 [==============================] - 1s 1s/step - loss: 0.5307 - accuracy: 0.7245 - val_loss: 0.6114 - val_accuracy: 0.5600 - lr: 1.0000e-06\n",
            "Epoch 23/100\n",
            "1/1 [==============================] - 1s 1s/step - loss: 0.5369 - accuracy: 0.7755 - val_loss: 0.6382 - val_accuracy: 0.5600 - lr: 1.0000e-06\n",
            "Epoch 24/100\n",
            "1/1 [==============================] - 1s 1s/step - loss: 0.5500 - accuracy: 0.7143 - val_loss: 0.6130 - val_accuracy: 0.7200 - lr: 1.0000e-06\n",
            "Epoch 25/100\n",
            "1/1 [==============================] - ETA: 0s - loss: 0.5186 - accuracy: 0.7551\n",
            "Epoch 25: ReduceLROnPlateau reducing learning rate to 9.999999974752428e-08.\n",
            "1/1 [==============================] - 1s 1s/step - loss: 0.5186 - accuracy: 0.7551 - val_loss: 0.6708 - val_accuracy: 0.7200 - lr: 1.0000e-06\n",
            "Epoch 26/100\n",
            "1/1 [==============================] - 1s 1s/step - loss: 0.5334 - accuracy: 0.7245 - val_loss: 0.6537 - val_accuracy: 0.6800 - lr: 1.0000e-07\n",
            "Epoch 27/100\n",
            "1/1 [==============================] - 1s 1s/step - loss: 0.5264 - accuracy: 0.7653 - val_loss: 0.6337 - val_accuracy: 0.6800 - lr: 1.0000e-07\n",
            "Epoch 28/100\n",
            "1/1 [==============================] - 1s 1s/step - loss: 0.5322 - accuracy: 0.7551 - val_loss: 0.6392 - val_accuracy: 0.6800 - lr: 1.0000e-07\n",
            "Epoch 29/100\n",
            "1/1 [==============================] - ETA: 0s - loss: 0.5374 - accuracy: 0.7143\n",
            "Epoch 29: ReduceLROnPlateau reducing learning rate to 1.0000000116860975e-08.\n",
            "1/1 [==============================] - 1s 1s/step - loss: 0.5374 - accuracy: 0.7143 - val_loss: 0.6040 - val_accuracy: 0.7200 - lr: 1.0000e-07\n",
            "Epoch 30/100\n",
            "1/1 [==============================] - 1s 1s/step - loss: 0.5443 - accuracy: 0.7245 - val_loss: 0.6458 - val_accuracy: 0.6400 - lr: 1.0000e-08\n",
            "Epoch 31/100\n",
            "1/1 [==============================] - 1s 1s/step - loss: 0.5047 - accuracy: 0.7245 - val_loss: 0.6408 - val_accuracy: 0.6400 - lr: 1.0000e-08\n",
            "Epoch 32/100\n",
            "1/1 [==============================] - 1s 1s/step - loss: 0.5291 - accuracy: 0.7347 - val_loss: 0.5877 - val_accuracy: 0.7200 - lr: 1.0000e-08\n",
            "Epoch 33/100\n",
            "1/1 [==============================] - 1s 1s/step - loss: 0.5061 - accuracy: 0.7551 - val_loss: 0.6359 - val_accuracy: 0.6400 - lr: 1.0000e-08\n",
            "Epoch 34/100\n",
            "1/1 [==============================] - 1s 1s/step - loss: 0.5530 - accuracy: 0.6939 - val_loss: 0.5953 - val_accuracy: 0.7600 - lr: 1.0000e-08\n",
            "Epoch 35/100\n",
            "1/1 [==============================] - 1s 1s/step - loss: 0.5293 - accuracy: 0.7653 - val_loss: 0.5727 - val_accuracy: 0.7200 - lr: 1.0000e-08\n",
            "Epoch 36/100\n",
            "1/1 [==============================] - 1s 1s/step - loss: 0.5523 - accuracy: 0.7347 - val_loss: 0.6139 - val_accuracy: 0.6400 - lr: 1.0000e-08\n",
            "Epoch 37/100\n",
            "1/1 [==============================] - 1s 1s/step - loss: 0.5277 - accuracy: 0.7347 - val_loss: 0.5941 - val_accuracy: 0.7600 - lr: 1.0000e-08\n",
            "Epoch 38/100\n",
            "1/1 [==============================] - 1s 1s/step - loss: 0.5197 - accuracy: 0.7653 - val_loss: 0.6010 - val_accuracy: 0.6400 - lr: 1.0000e-08\n",
            "Epoch 39/100\n",
            "1/1 [==============================] - ETA: 0s - loss: 0.5288 - accuracy: 0.7551\n",
            "Epoch 39: ReduceLROnPlateau reducing learning rate to 9.999999939225292e-10.\n",
            "1/1 [==============================] - 1s 1s/step - loss: 0.5288 - accuracy: 0.7551 - val_loss: 0.5958 - val_accuracy: 0.7200 - lr: 1.0000e-08\n",
            "Epoch 40/100\n",
            "1/1 [==============================] - 1s 1s/step - loss: 0.5418 - accuracy: 0.7449 - val_loss: 0.5787 - val_accuracy: 0.7600 - lr: 1.0000e-09\n",
            "Epoch 41/100\n",
            "1/1 [==============================] - 1s 1s/step - loss: 0.5252 - accuracy: 0.7449 - val_loss: 0.6126 - val_accuracy: 0.6400 - lr: 1.0000e-09\n",
            "Epoch 42/100\n",
            "1/1 [==============================] - 1s 1s/step - loss: 0.5361 - accuracy: 0.7245 - val_loss: 0.5617 - val_accuracy: 0.7200 - lr: 1.0000e-09\n",
            "Epoch 43/100\n",
            "1/1 [==============================] - 1s 1s/step - loss: 0.5668 - accuracy: 0.7449 - val_loss: 0.5679 - val_accuracy: 0.7200 - lr: 1.0000e-09\n",
            "Epoch 44/100\n",
            "1/1 [==============================] - 1s 1s/step - loss: 0.5505 - accuracy: 0.7143 - val_loss: 0.6049 - val_accuracy: 0.7200 - lr: 1.0000e-09\n",
            "Epoch 45/100\n",
            "1/1 [==============================] - 1s 1s/step - loss: 0.5489 - accuracy: 0.7041 - val_loss: 0.6502 - val_accuracy: 0.6400 - lr: 1.0000e-09\n",
            "Epoch 46/100\n",
            "1/1 [==============================] - ETA: 0s - loss: 0.5437 - accuracy: 0.7041\n",
            "Epoch 46: ReduceLROnPlateau reducing learning rate to 9.999999717180686e-11.\n",
            "1/1 [==============================] - 1s 1s/step - loss: 0.5437 - accuracy: 0.7041 - val_loss: 0.6431 - val_accuracy: 0.7200 - lr: 1.0000e-09\n",
            "Epoch 47/100\n",
            "1/1 [==============================] - 1s 1s/step - loss: 0.5354 - accuracy: 0.7347 - val_loss: 0.6977 - val_accuracy: 0.6800 - lr: 1.0000e-10\n",
            "Epoch 48/100\n",
            "1/1 [==============================] - 1s 1s/step - loss: 0.5116 - accuracy: 0.7755 - val_loss: 0.6383 - val_accuracy: 0.6000 - lr: 1.0000e-10\n",
            "Epoch 49/100\n",
            "1/1 [==============================] - 1s 1s/step - loss: 0.5290 - accuracy: 0.7347 - val_loss: 0.5988 - val_accuracy: 0.6400 - lr: 1.0000e-10\n",
            "Epoch 50/100\n",
            "1/1 [==============================] - ETA: 0s - loss: 0.5124 - accuracy: 0.7857\n",
            "Epoch 50: ReduceLROnPlateau reducing learning rate to 9.99999943962493e-12.\n",
            "1/1 [==============================] - 1s 1s/step - loss: 0.5124 - accuracy: 0.7857 - val_loss: 0.5999 - val_accuracy: 0.6800 - lr: 1.0000e-10\n",
            "Epoch 51/100\n",
            "1/1 [==============================] - 1s 1s/step - loss: 0.5419 - accuracy: 0.7551 - val_loss: 0.6094 - val_accuracy: 0.7200 - lr: 1.0000e-11\n",
            "Epoch 52/100\n",
            "1/1 [==============================] - 1s 1s/step - loss: 0.5731 - accuracy: 0.6939 - val_loss: 0.5773 - val_accuracy: 0.6800 - lr: 1.0000e-11\n",
            "Epoch 53/100\n",
            "1/1 [==============================] - 1s 1s/step - loss: 0.5693 - accuracy: 0.7041 - val_loss: 0.6529 - val_accuracy: 0.6800 - lr: 1.0000e-11\n",
            "Epoch 54/100\n",
            "1/1 [==============================] - ETA: 0s - loss: 0.5336 - accuracy: 0.7041\n",
            "Epoch 54: ReduceLROnPlateau reducing learning rate to 9.999999092680235e-13.\n",
            "1/1 [==============================] - 1s 1s/step - loss: 0.5336 - accuracy: 0.7041 - val_loss: 0.6573 - val_accuracy: 0.7200 - lr: 1.0000e-11\n",
            "Epoch 55/100\n",
            "1/1 [==============================] - 1s 1s/step - loss: 0.5627 - accuracy: 0.7143 - val_loss: 0.5939 - val_accuracy: 0.7200 - lr: 1.0000e-12\n",
            "Epoch 56/100\n",
            "1/1 [==============================] - 1s 1s/step - loss: 0.5314 - accuracy: 0.7653 - val_loss: 0.6550 - val_accuracy: 0.6000 - lr: 1.0000e-12\n",
            "Epoch 57/100\n",
            "1/1 [==============================] - 1s 1s/step - loss: 0.5858 - accuracy: 0.7245 - val_loss: 0.6416 - val_accuracy: 0.6800 - lr: 1.0000e-12\n",
            "Epoch 58/100\n",
            "1/1 [==============================] - ETA: 0s - loss: 0.5430 - accuracy: 0.7653\n",
            "Epoch 58: ReduceLROnPlateau reducing learning rate to 9.9999988758398e-14.\n",
            "1/1 [==============================] - 1s 1s/step - loss: 0.5430 - accuracy: 0.7653 - val_loss: 0.6152 - val_accuracy: 0.8000 - lr: 1.0000e-12\n",
            "Epoch 59/100\n",
            "1/1 [==============================] - 1s 1s/step - loss: 0.5443 - accuracy: 0.7347 - val_loss: 0.6312 - val_accuracy: 0.7200 - lr: 1.0000e-13\n",
            "Epoch 60/100\n",
            "1/1 [==============================] - 1s 1s/step - loss: 0.5415 - accuracy: 0.7041 - val_loss: 0.6195 - val_accuracy: 0.6800 - lr: 1.0000e-13\n",
            "Epoch 61/100\n",
            "1/1 [==============================] - 1s 1s/step - loss: 0.5194 - accuracy: 0.7755 - val_loss: 0.6128 - val_accuracy: 0.6800 - lr: 1.0000e-13\n",
            "Epoch 62/100\n",
            "1/1 [==============================] - ETA: 0s - loss: 0.5028 - accuracy: 0.8163\n",
            "Epoch 62: ReduceLROnPlateau reducing learning rate to 9.999999146890344e-15.\n",
            "1/1 [==============================] - 1s 1s/step - loss: 0.5028 - accuracy: 0.8163 - val_loss: 0.6607 - val_accuracy: 0.6800 - lr: 1.0000e-13\n",
            "Epoch 63/100\n",
            "1/1 [==============================] - 1s 1s/step - loss: 0.5204 - accuracy: 0.7551 - val_loss: 0.6097 - val_accuracy: 0.7200 - lr: 1.0000e-14\n",
            "Epoch 64/100\n",
            "1/1 [==============================] - 1s 1s/step - loss: 0.5455 - accuracy: 0.7755 - val_loss: 0.6391 - val_accuracy: 0.6000 - lr: 1.0000e-14\n",
            "Epoch 65/100\n",
            "1/1 [==============================] - 1s 1s/step - loss: 0.5915 - accuracy: 0.6837 - val_loss: 0.6246 - val_accuracy: 0.5600 - lr: 1.0000e-14\n",
            "Epoch 66/100\n",
            "1/1 [==============================] - ETA: 0s - loss: 0.5609 - accuracy: 0.7347\n",
            "Epoch 66: ReduceLROnPlateau reducing learning rate to 9.999998977483753e-16.\n",
            "1/1 [==============================] - 1s 1s/step - loss: 0.5609 - accuracy: 0.7347 - val_loss: 0.6216 - val_accuracy: 0.7200 - lr: 1.0000e-14\n",
            "Epoch 67/100\n",
            "1/1 [==============================] - 1s 1s/step - loss: 0.5310 - accuracy: 0.7551 - val_loss: 0.6423 - val_accuracy: 0.6400 - lr: 1.0000e-15\n",
            "Epoch 68/100\n",
            "1/1 [==============================] - 1s 1s/step - loss: 0.5439 - accuracy: 0.7245 - val_loss: 0.6506 - val_accuracy: 0.6800 - lr: 1.0000e-15\n",
            "Epoch 69/100\n",
            "1/1 [==============================] - 1s 1s/step - loss: 0.5718 - accuracy: 0.7143 - val_loss: 0.6496 - val_accuracy: 0.6800 - lr: 1.0000e-15\n",
            "Epoch 70/100\n",
            "1/1 [==============================] - ETA: 0s - loss: 0.5156 - accuracy: 0.7347\n",
            "Epoch 70: ReduceLROnPlateau reducing learning rate to 9.999998977483754e-17.\n",
            "1/1 [==============================] - 1s 1s/step - loss: 0.5156 - accuracy: 0.7347 - val_loss: 0.6611 - val_accuracy: 0.6400 - lr: 1.0000e-15\n",
            "Epoch 71/100\n",
            "1/1 [==============================] - 1s 1s/step - loss: 0.5237 - accuracy: 0.7449 - val_loss: 0.6766 - val_accuracy: 0.6400 - lr: 1.0000e-16\n",
            "Epoch 72/100\n",
            "1/1 [==============================] - 1s 1s/step - loss: 0.5390 - accuracy: 0.7245 - val_loss: 0.5961 - val_accuracy: 0.6400 - lr: 1.0000e-16\n",
            "Epoch 73/100\n",
            "1/1 [==============================] - 1s 1s/step - loss: 0.5589 - accuracy: 0.7245 - val_loss: 0.5623 - val_accuracy: 0.7600 - lr: 1.0000e-16\n",
            "Epoch 74/100\n",
            "1/1 [==============================] - ETA: 0s - loss: 0.5217 - accuracy: 0.7653\n",
            "Epoch 74: ReduceLROnPlateau reducing learning rate to 9.999998845134856e-18.\n",
            "1/1 [==============================] - 1s 1s/step - loss: 0.5217 - accuracy: 0.7653 - val_loss: 0.6231 - val_accuracy: 0.6800 - lr: 1.0000e-16\n",
            "Epoch 75/100\n",
            "1/1 [==============================] - 1s 1s/step - loss: 0.5278 - accuracy: 0.7143 - val_loss: 0.6366 - val_accuracy: 0.7200 - lr: 1.0000e-17\n",
            "Epoch 76/100\n",
            "1/1 [==============================] - 1s 1s/step - loss: 0.5583 - accuracy: 0.7245 - val_loss: 0.6138 - val_accuracy: 0.6400 - lr: 1.0000e-17\n",
            "Epoch 77/100\n",
            "1/1 [==============================] - 1s 1s/step - loss: 0.4939 - accuracy: 0.7959 - val_loss: 0.6555 - val_accuracy: 0.6800 - lr: 1.0000e-17\n",
            "Epoch 78/100\n",
            "1/1 [==============================] - ETA: 0s - loss: 0.5394 - accuracy: 0.7245\n",
            "Epoch 78: ReduceLROnPlateau reducing learning rate to 9.999999010570977e-19.\n",
            "1/1 [==============================] - 1s 1s/step - loss: 0.5394 - accuracy: 0.7245 - val_loss: 0.6488 - val_accuracy: 0.6400 - lr: 1.0000e-17\n",
            "Epoch 79/100\n",
            "1/1 [==============================] - 1s 1s/step - loss: 0.5026 - accuracy: 0.7551 - val_loss: 0.6903 - val_accuracy: 0.6800 - lr: 1.0000e-18\n",
            "Epoch 80/100\n",
            "1/1 [==============================] - 1s 1s/step - loss: 0.4914 - accuracy: 0.7857 - val_loss: 0.6343 - val_accuracy: 0.7200 - lr: 1.0000e-18\n",
            "Epoch 81/100\n",
            "1/1 [==============================] - 1s 1s/step - loss: 0.5370 - accuracy: 0.7245 - val_loss: 0.6023 - val_accuracy: 0.6400 - lr: 1.0000e-18\n",
            "Epoch 82/100\n",
            "1/1 [==============================] - ETA: 0s - loss: 0.5462 - accuracy: 0.7143\n",
            "Epoch 82: ReduceLROnPlateau reducing learning rate to 9.999999424161285e-20.\n",
            "1/1 [==============================] - 1s 1s/step - loss: 0.5462 - accuracy: 0.7143 - val_loss: 0.6150 - val_accuracy: 0.6800 - lr: 1.0000e-18\n",
            "Epoch 83/100\n",
            "1/1 [==============================] - 1s 1s/step - loss: 0.5374 - accuracy: 0.7449 - val_loss: 0.6308 - val_accuracy: 0.6400 - lr: 1.0000e-19\n",
            "Epoch 84/100\n",
            "1/1 [==============================] - 1s 1s/step - loss: 0.5335 - accuracy: 0.7551 - val_loss: 0.6400 - val_accuracy: 0.6400 - lr: 1.0000e-19\n",
            "Epoch 85/100\n",
            "1/1 [==============================] - 1s 1s/step - loss: 0.5378 - accuracy: 0.7857 - val_loss: 0.6423 - val_accuracy: 0.6000 - lr: 1.0000e-19\n",
            "Epoch 86/100\n",
            "1/1 [==============================] - ETA: 0s - loss: 0.5258 - accuracy: 0.7551\n",
            "Epoch 86: ReduceLROnPlateau reducing learning rate to 9.999999682655225e-21.\n",
            "1/1 [==============================] - 1s 1s/step - loss: 0.5258 - accuracy: 0.7551 - val_loss: 0.5786 - val_accuracy: 0.6800 - lr: 1.0000e-19\n",
            "Epoch 87/100\n",
            "1/1 [==============================] - 1s 1s/step - loss: 0.5425 - accuracy: 0.7653 - val_loss: 0.5874 - val_accuracy: 0.7600 - lr: 1.0000e-20\n",
            "Epoch 88/100\n",
            "1/1 [==============================] - 1s 1s/step - loss: 0.5243 - accuracy: 0.7653 - val_loss: 0.6090 - val_accuracy: 0.7200 - lr: 1.0000e-20\n",
            "Epoch 89/100\n",
            "1/1 [==============================] - 2s 2s/step - loss: 0.5366 - accuracy: 0.7653 - val_loss: 0.6026 - val_accuracy: 0.7200 - lr: 1.0000e-20\n",
            "Epoch 90/100\n",
            "1/1 [==============================] - ETA: 0s - loss: 0.5168 - accuracy: 0.7449\n",
            "Epoch 90: ReduceLROnPlateau reducing learning rate to 9.999999682655225e-22.\n",
            "1/1 [==============================] - 1s 1s/step - loss: 0.5168 - accuracy: 0.7449 - val_loss: 0.6283 - val_accuracy: 0.6400 - lr: 1.0000e-20\n",
            "Epoch 91/100\n",
            "1/1 [==============================] - 1s 1s/step - loss: 0.5432 - accuracy: 0.7143 - val_loss: 0.6112 - val_accuracy: 0.6400 - lr: 1.0000e-21\n",
            "Epoch 92/100\n",
            "1/1 [==============================] - 1s 1s/step - loss: 0.5691 - accuracy: 0.6735 - val_loss: 0.6420 - val_accuracy: 0.7600 - lr: 1.0000e-21\n",
            "Epoch 93/100\n",
            "1/1 [==============================] - 1s 1s/step - loss: 0.5832 - accuracy: 0.7041 - val_loss: 0.6223 - val_accuracy: 0.7600 - lr: 1.0000e-21\n",
            "Epoch 94/100\n",
            "1/1 [==============================] - ETA: 0s - loss: 0.4899 - accuracy: 0.8061\n",
            "Epoch 94: ReduceLROnPlateau reducing learning rate to 9.999999682655225e-23.\n",
            "1/1 [==============================] - 1s 1s/step - loss: 0.4899 - accuracy: 0.8061 - val_loss: 0.7009 - val_accuracy: 0.6400 - lr: 1.0000e-21\n",
            "Epoch 95/100\n",
            "1/1 [==============================] - 1s 1s/step - loss: 0.5433 - accuracy: 0.6633 - val_loss: 0.6227 - val_accuracy: 0.6800 - lr: 1.0000e-22\n",
            "Epoch 96/100\n",
            "1/1 [==============================] - 1s 1s/step - loss: 0.5111 - accuracy: 0.7449 - val_loss: 0.5997 - val_accuracy: 0.6400 - lr: 1.0000e-22\n",
            "Epoch 97/100\n",
            "1/1 [==============================] - 1s 1s/step - loss: 0.5457 - accuracy: 0.7245 - val_loss: 0.5641 - val_accuracy: 0.7200 - lr: 1.0000e-22\n",
            "Epoch 98/100\n",
            "1/1 [==============================] - ETA: 0s - loss: 0.5163 - accuracy: 0.7245\n",
            "Epoch 98: ReduceLROnPlateau reducing learning rate to 9.999999682655227e-24.\n",
            "1/1 [==============================] - 1s 1s/step - loss: 0.5163 - accuracy: 0.7245 - val_loss: 0.6111 - val_accuracy: 0.6400 - lr: 1.0000e-22\n",
            "Epoch 99/100\n",
            "1/1 [==============================] - 1s 1s/step - loss: 0.5449 - accuracy: 0.7551 - val_loss: 0.6431 - val_accuracy: 0.6400 - lr: 1.0000e-23\n",
            "Epoch 100/100\n",
            "1/1 [==============================] - 1s 1s/step - loss: 0.5189 - accuracy: 0.7551 - val_loss: 0.6359 - val_accuracy: 0.7200 - lr: 1.0000e-23\n"
          ]
        }
      ]
    },
    {
      "cell_type": "code",
      "source": [
        "summarize_diagnostics(historyAlexNet3)"
      ],
      "metadata": {
        "colab": {
          "base_uri": "https://localhost:8080/",
          "height": 545
        },
        "id": "0q4xpDYnd6Up",
        "outputId": "ad81d0c4-0300-4519-e13a-233df0861ac8"
      },
      "execution_count": 38,
      "outputs": [
        {
          "output_type": "display_data",
          "data": {
            "text/plain": [
              "<Figure size 432x288 with 1 Axes>"
            ],
            "image/png": "[encoded data removed]"
          },
          "metadata": {
            "needs_background": "light"
          }
        },
        {
          "output_type": "display_data",
          "data": {
            "text/plain": [
              "<Figure size 432x288 with 1 Axes>"
            ],
            "image/png": "[encoded data removed]"
          },
          "metadata": {
            "needs_background": "light"
          }
        }
      ]
    },
    {
      "cell_type": "code",
      "source": [
        "validateResults(alexNet3)"
      ],
      "metadata": {
        "colab": {
          "base_uri": "https://localhost:8080/",
          "height": 685
        },
        "id": "Azg4fBNgeTAY",
        "outputId": "4647c4cf-02f8-41a3-db55-f09e20cd9491"
      },
      "execution_count": 39,
      "outputs": [
        {
          "output_type": "stream",
          "name": "stderr",
          "text": [
            "WARNING:tensorflow:5 out of the last 5 calls to <function Model.make_predict_function.<locals>.predict_function at 0x7f5805368dd0> triggered tf.function retracing. Tracing is expensive and the excessive number of tracings could be due to (1) creating @tf.function repeatedly in a loop, (2) passing tensors with different shapes, (3) passing Python objects instead of tensors. For (1), please define your @tf.function outside of the loop. For (2), @tf.function has experimental_relax_shapes=True option that relaxes argument shapes that can avoid unnecessary retracing. For (3), please refer to https://www.tensorflow.org/guide/function#controlling_retracing and https://www.tensorflow.org/api_docs/python/tf/function for  more details.\n"
          ]
        },
        {
          "output_type": "stream",
          "name": "stdout",
          "text": [
            "\n",
            "              precision    recall  f1-score   support\n",
            "\n",
            "      Benign       0.73      0.85      0.79        26\n",
            "   Malignant       0.60      0.43      0.50        14\n",
            "\n",
            "    accuracy                           0.70        40\n",
            "   macro avg       0.67      0.64      0.64        40\n",
            "weighted avg       0.69      0.70      0.69        40\n",
            "\n",
            "[[22  4]\n",
            " [ 8  6]]\n"
          ]
        },
        {
          "output_type": "display_data",
          "data": {
            "text/plain": [
              "<Figure size 432x432 with 2 Axes>"
            ],
            "image/png": "[encoded data removed]"
          },
          "metadata": {
            "needs_background": "light"
          }
        }
      ]
    },
    {
      "cell_type": "code",
      "source": [
        "#gráfico compartido accuracy\n",
        "pyplot.figure()\n",
        "pyplot.plot(historyAlexNet1.history['accuracy'], label = 'AlexNet1')\n",
        "pyplot.plot(historyAlexNet2.history['accuracy'], label = 'AlexNet2')\n",
        "pyplot.plot(historyAlexNet3.history['accuracy'], label = 'AlexNet3')\n",
        "pyplot.xlabel(\"Number of Epoch's\")\n",
        "pyplot.ylabel('Accuracy')\n",
        "pyplot.title('Training Accuracy')\n",
        "pyplot.legend(loc = \"best\")"
      ],
      "metadata": {
        "colab": {
          "base_uri": "https://localhost:8080/",
          "height": 312
        },
        "id": "ozyphY5mG9QG",
        "outputId": "efca809b-18a1-44d6-fb36-27b34534a69a"
      },
      "execution_count": 40,
      "outputs": [
        {
          "output_type": "execute_result",
          "data": {
            "text/plain": [
              "<matplotlib.legend.Legend at 0x7f58056f88d0>"
            ]
          },
          "metadata": {},
          "execution_count": 40
        },
        {
          "output_type": "display_data",
          "data": {
            "text/plain": [
              "<Figure size 432x288 with 1 Axes>"
            ],
            "image/png": "[encoded data removed]"
          },
          "metadata": {
            "needs_background": "light"
          }
        }
      ]
    }
  ],
  "metadata": {
    "accelerator": "GPU",
    "colab": {
      "provenance": []
    },
    "gpuClass": "standard",
    "kernelspec": {
      "display_name": "Python 3",
      "name": "python3"
    },
    "language_info": {
      "name": "python"
    }
  },
  "nbformat": 4,
  "nbformat_minor": 0
}