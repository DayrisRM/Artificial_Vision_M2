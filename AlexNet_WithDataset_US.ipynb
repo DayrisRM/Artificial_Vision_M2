{
  "cells": [
    {
      "cell_type": "code",
      "execution_count": 1,
      "metadata": {
        "colab": {
          "base_uri": "https://localhost:8080/",
          "height": 73,
          "resources": {
            "http://localhost:8080/nbextensions/google.colab/files.js": {
              "data": "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",
              "headers": [
                [
                  "content-type",
                  "application/javascript"
                ]
              ],
              "ok": true,
              "status": 200,
              "status_text": ""
            }
          }
        },
        "id": "Hp1cnJfIx3F9",
        "outputId": "7b1a3584-2edc-43ff-dba8-6552436ffbd8"
      },
      "outputs": [
        {
          "output_type": "display_data",
          "data": {
            "text/plain": [
              "<IPython.core.display.HTML object>"
            ],
            "text/html": [
              "\n",
              "     <input type=\"file\" id=\"files-c5e6f681-64a3-4f8e-810b-37dc8c923c75\" name=\"files[]\" multiple disabled\n",
              "        style=\"border:none\" />\n",
              "     <output id=\"result-c5e6f681-64a3-4f8e-810b-37dc8c923c75\">\n",
              "      Upload widget is only available when the cell has been executed in the\n",
              "      current browser session. Please rerun this cell to enable.\n",
              "      </output>\n",
              "      <script src=\"/nbextensions/google.colab/files.js\"></script> "
            ]
          },
          "metadata": {}
        },
        {
          "output_type": "stream",
          "name": "stdout",
          "text": [
            "Saving US_Original_dataset_final.zip to US_Original_dataset_final.zip\n"
          ]
        }
      ],
      "source": [
        "from google.colab import files\n",
        "uploaded = files.upload()"
      ]
    },
    {
      "cell_type": "code",
      "execution_count": 2,
      "metadata": {
        "id": "vRBP68oxy8jA"
      },
      "outputs": [],
      "source": [
        "import zipfile\n",
        "import io\n",
        "data = zipfile.ZipFile(io.BytesIO(uploaded['US_Original_dataset_final.zip']), 'r')\n",
        "data.extractall()"
      ]
    },
    {
      "cell_type": "code",
      "execution_count": 3,
      "metadata": {
        "id": "Igc1Xnhuy-Bl"
      },
      "outputs": [],
      "source": [
        "import os\n",
        "from PIL import Image"
      ]
    },
    {
      "cell_type": "markdown",
      "metadata": {
        "id": "JaLnoybAzSED"
      },
      "source": [
        "\n",
        "\n",
        "---\n",
        "\n",
        "\n",
        "Resize images for AlexNet"
      ]
    },
    {
      "cell_type": "code",
      "execution_count": 4,
      "metadata": {
        "id": "R1vsKJkszVxc"
      },
      "outputs": [],
      "source": [
        "def resizeAndSave(file_name):\n",
        "  img_size=(227,227)  \n",
        "  img = Image.open(file_name) \n",
        "  img = img.resize(img_size, Image.ANTIALIAS)  \n",
        "  img.save(file_name)  "
      ]
    },
    {
      "cell_type": "code",
      "execution_count": 5,
      "metadata": {
        "id": "jyuEMVIgz0n_"
      },
      "outputs": [],
      "source": [
        "benign_path = 'Benign/'\n",
        "malignant_path = 'Malignant/'"
      ]
    },
    {
      "cell_type": "code",
      "execution_count": 6,
      "metadata": {
        "id": "CHkQqK6dzpdA"
      },
      "outputs": [],
      "source": [
        "#Resize images\n",
        "def resizeDirectory(folder):\n",
        "  folder_path = '/content/US_Original_dataset_final/'+folder+'/' \n",
        "  folder_b = folder_path + benign_path\n",
        "  folder_m = folder_path + malignant_path\n",
        "\n",
        "  mytrainBImages = os.listdir(folder_b)\n",
        "  mytrainMImages = os.listdir(folder_m)\n",
        "\n",
        "  for cl in mytrainBImages:\n",
        "    file_nameb = folder_b + cl \n",
        "    resizeAndSave(file_nameb)    \n",
        "\n",
        "  for cl in mytrainMImages:\n",
        "    file_namem = folder_m + cl \n",
        "    resizeAndSave(file_namem)\n",
        "\n"
      ]
    },
    {
      "cell_type": "code",
      "execution_count": 7,
      "metadata": {
        "id": "ltEKpoQ110eH"
      },
      "outputs": [],
      "source": [
        "resizeDirectory('test')\n",
        "resizeDirectory('train')\n",
        "resizeDirectory('validation')"
      ]
    },
    {
      "cell_type": "code",
      "execution_count": 8,
      "metadata": {
        "id": "pi22OSRxy_0b"
      },
      "outputs": [],
      "source": [
        "train_path = '/content/US_Original_dataset_final/train'\n",
        "test_path = '/content/US_Original_dataset_final/test'\n",
        "val_path = '/content/US_Original_dataset_final/validation'"
      ]
    },
    {
      "cell_type": "markdown",
      "source": [
        "\n",
        "\n",
        "---\n",
        "\n",
        "Common functions"
      ],
      "metadata": {
        "id": "TUixWe9zVAYz"
      }
    },
    {
      "cell_type": "code",
      "execution_count": 9,
      "metadata": {
        "id": "vsAJGXhN-DkX"
      },
      "outputs": [],
      "source": [
        "classes = ['Benign', 'Malignant']"
      ]
    },
    {
      "cell_type": "code",
      "execution_count": 10,
      "metadata": {
        "id": "RHCSCxm861FQ"
      },
      "outputs": [],
      "source": [
        "from matplotlib import pyplot\n",
        "def summarize_diagnostics(history):\n",
        "  # plot loss\n",
        "  pyplot.figure(0)\n",
        "  pyplot.title('Loss')\n",
        "  pyplot.plot(history.history['loss'], color='blue', label='train')\n",
        "  pyplot.plot(history.history['val_loss'], color='orange', label='test')\n",
        "  pyplot.legend(['loss','val_loss']) \n",
        "\n",
        "  # plot accuracy\n",
        "  pyplot.figure(1)\n",
        "  pyplot.title('Classification Accuracy')\n",
        "  pyplot.plot(history.history['accuracy'], color='blue', label='train')\n",
        "  pyplot.plot(history.history['val_accuracy'], color='orange', label='test')\n",
        "  pyplot.legend(['accuracy','val_accuracy'])"
      ]
    },
    {
      "cell_type": "code",
      "execution_count": 11,
      "metadata": {
        "colab": {
          "base_uri": "https://localhost:8080/"
        },
        "id": "hNjmGc8L63gI",
        "outputId": "96b3075b-4cc0-4ae6-e1d3-44302af1a0bf"
      },
      "outputs": [
        {
          "output_type": "stream",
          "name": "stderr",
          "text": [
            "100%|██████████| 2/2 [00:00<00:00, 27.84it/s]"
          ]
        },
        {
          "output_type": "stream",
          "name": "stdout",
          "text": [
            "40 images loaded from /content/US_Original_dataset_final/test/ directory.\n",
            "{0: 'Benign', 1: 'Malignant'}\n"
          ]
        },
        {
          "output_type": "stream",
          "name": "stderr",
          "text": [
            "\n"
          ]
        }
      ],
      "source": [
        "#functions to build confusion matrix\n",
        "from tqdm import tqdm\n",
        "import os\n",
        "import cv2\n",
        "import numpy as np\n",
        "import itertools\n",
        "from sklearn.metrics import accuracy_score, confusion_matrix\n",
        "\n",
        "def load_data(dir_path):\n",
        "    \"\"\"\n",
        "    Load resized images as np.arrays to workspace\n",
        "    \"\"\"\n",
        "    X = []\n",
        "    y = []\n",
        "    i = 0\n",
        "    labels = dict()\n",
        "    for path in tqdm(sorted(os.listdir(dir_path))):\n",
        "        if not path.startswith('.'):\n",
        "            labels[i] = path\n",
        "            for file in os.listdir(dir_path + path):\n",
        "                if not file.startswith('.'):\n",
        "                    img = cv2.imread(dir_path + path + '/' + file)\n",
        "                    X.append(img)\n",
        "                    y.append(i)\n",
        "            i += 1\n",
        "    X = np.array(X)\n",
        "    y = np.array(y)\n",
        "    print(f'{len(X)} images loaded from {dir_path} directory.')\n",
        "    return X, y, labels\n",
        "\n",
        "\n",
        "\n",
        "def plot_confusion_matrix(cm, classes,\n",
        "                          normalize=False,\n",
        "                          title='Confusion matrix',\n",
        "                          cmap=pyplot.cm.Blues):\n",
        "    \"\"\"\n",
        "    This function prints and plots the confusion matrix.\n",
        "    Normalization can be applied by setting `normalize=True`.\n",
        "    \"\"\"\n",
        "    pyplot.figure(figsize = (6,6))\n",
        "    pyplot.imshow(cm, interpolation='nearest', cmap=cmap)\n",
        "    pyplot.title(title)\n",
        "    pyplot.colorbar()\n",
        "    tick_marks = np.arange(len(classes))\n",
        "    pyplot.xticks(tick_marks, classes, rotation=90)\n",
        "    pyplot.yticks(tick_marks, classes)\n",
        "    if normalize:\n",
        "        cm = cm.astype('float') / cm.sum(axis=1)[:, np.newaxis]\n",
        "\n",
        "    thresh = cm.max() / 2.\n",
        "    cm = np.round(cm,2)\n",
        "    for i, j in itertools.product(range(cm.shape[0]), range(cm.shape[1])):\n",
        "        pyplot.text(j, i, cm[i, j],\n",
        "                 horizontalalignment=\"center\",\n",
        "                 color=\"white\" if cm[i, j] > thresh else \"black\")\n",
        "    pyplot.tight_layout()\n",
        "    pyplot.ylabel('True label')\n",
        "    pyplot.xlabel('Predicted label')\n",
        "    pyplot.show()\n",
        "\n",
        "x_test, y_test, labels = load_data('/content/US_Original_dataset_final/test/')\n",
        "print(labels)"
      ]
    },
    {
      "cell_type": "code",
      "execution_count": 12,
      "metadata": {
        "id": "WyKNQ6Tz-Km5"
      },
      "outputs": [],
      "source": [
        "from sklearn.metrics import classification_report\n",
        "def validateResults(model):   \n",
        "  predictions = model.predict(x_test, batch_size=batch_size)\n",
        "  y_pred = np.argmax(predictions, axis=1) \n",
        "  y_true = np.argmax(y_test, axis=0)\n",
        "\n",
        "  print(\"\\n\"+ classification_report(y_test, y_pred, target_names=classes))\n",
        "  print(confusion_matrix(y_test, y_pred))\n",
        "  confusion_mtx = confusion_matrix(y_test, y_pred)\n",
        "  cm = plot_confusion_matrix(confusion_mtx, classes = list(labels.items()), normalize=False)"
      ]
    },
    {
      "cell_type": "markdown",
      "metadata": {
        "id": "yARbZdUK3vHk"
      },
      "source": [
        "\n",
        "\n",
        "---\n",
        "\n",
        "\n",
        "AlexNet"
      ]
    },
    {
      "cell_type": "code",
      "execution_count": 13,
      "metadata": {
        "id": "MslWUPKO3uG4"
      },
      "outputs": [],
      "source": [
        "import cv2\n",
        "from PIL import Image\n",
        "import numpy as np"
      ]
    },
    {
      "cell_type": "code",
      "execution_count": 15,
      "metadata": {
        "id": "J9pPhTgB3ywX"
      },
      "outputs": [],
      "source": [
        "from keras.models import Sequential\n",
        "from keras.layers import Conv2D, MaxPooling2D, Dense, Flatten, Dropout\n",
        "# metric\n",
        "from keras.metrics import binary_crossentropy"
      ]
    },
    {
      "cell_type": "code",
      "execution_count": 16,
      "metadata": {
        "id": "4eIVs4FI33Rv"
      },
      "outputs": [],
      "source": [
        "def Alexnet():\n",
        "  # Initialize the model\n",
        "  model = Sequential()\n",
        "\n",
        "  # layer 1: convolutional layer + max-pooling layer\n",
        "  model.add(Conv2D(filters = 96, kernel_size = (11,11), strides= 4, padding = 'valid'\n",
        "  , activation='relu', input_shape = (227,227,3)))\n",
        "  model.add(MaxPooling2D(pool_size = (3,3), strides = 2))\n",
        "\n",
        "  # layer 2: convolutional layer + max-pooling layer \n",
        "  model.add(Conv2D(filters = 256, kernel_size = (5,5), padding = 'same', activation = 'relu'))\n",
        "  model.add(MaxPooling2D(pool_size = (3,3), strides = 2))\n",
        "\n",
        "  # layers 3-5: three convolutional layers + 1 max-pooling layer\n",
        "  model.add(Conv2D(filters = 384, kernel_size = (3,3), padding = 'same', activation = 'relu'))\n",
        "  model.add(Conv2D(filters = 384, kernel_size = (3,3), padding = 'same', activation = 'relu'))\n",
        "  model.add(Conv2D(filters = 256, kernel_size = (3,3), padding = 'same', activation = 'relu'))\n",
        "  model.add(MaxPooling2D(pool_size = (3,3), strides = 2))\n",
        "\n",
        "  # layers 6 - 8: two fully connected hidden layers and one fully connected output layer\n",
        "  model.add(Flatten())\n",
        "  model.add(Dense(4096, activation = 'relu'))\n",
        "  model.add(Dropout(0.5))\n",
        "  model.add(Dense(4096, activation = 'relu'))\n",
        "  model.add(Dropout(0.5))\n",
        "  model.add(Dense(2, activation = 'softmax'))  \n",
        "\n",
        "  return model"
      ]
    },
    {
      "cell_type": "code",
      "execution_count": 17,
      "metadata": {
        "colab": {
          "base_uri": "https://localhost:8080/"
        },
        "id": "pZsUyuwF4jQD",
        "outputId": "b38aff61-c3e5-4e2a-efeb-28c351278bbb"
      },
      "outputs": [
        {
          "output_type": "stream",
          "name": "stdout",
          "text": [
            "Model: \"sequential\"\n",
            "_________________________________________________________________\n",
            " Layer (type)                Output Shape              Param #   \n",
            "=================================================================\n",
            " conv2d (Conv2D)             (None, 55, 55, 96)        34944     \n",
            "                                                                 \n",
            " max_pooling2d (MaxPooling2D  (None, 27, 27, 96)       0         \n",
            " )                                                               \n",
            "                                                                 \n",
            " conv2d_1 (Conv2D)           (None, 27, 27, 256)       614656    \n",
            "                                                                 \n",
            " max_pooling2d_1 (MaxPooling  (None, 13, 13, 256)      0         \n",
            " 2D)                                                             \n",
            "                                                                 \n",
            " conv2d_2 (Conv2D)           (None, 13, 13, 384)       885120    \n",
            "                                                                 \n",
            " conv2d_3 (Conv2D)           (None, 13, 13, 384)       1327488   \n",
            "                                                                 \n",
            " conv2d_4 (Conv2D)           (None, 13, 13, 256)       884992    \n",
            "                                                                 \n",
            " max_pooling2d_2 (MaxPooling  (None, 6, 6, 256)        0         \n",
            " 2D)                                                             \n",
            "                                                                 \n",
            " flatten (Flatten)           (None, 9216)              0         \n",
            "                                                                 \n",
            " dense (Dense)               (None, 4096)              37752832  \n",
            "                                                                 \n",
            " dropout (Dropout)           (None, 4096)              0         \n",
            "                                                                 \n",
            " dense_1 (Dense)             (None, 4096)              16781312  \n",
            "                                                                 \n",
            " dropout_1 (Dropout)         (None, 4096)              0         \n",
            "                                                                 \n",
            " dense_2 (Dense)             (None, 2)                 8194      \n",
            "                                                                 \n",
            "=================================================================\n",
            "Total params: 58,289,538\n",
            "Trainable params: 58,289,538\n",
            "Non-trainable params: 0\n",
            "_________________________________________________________________\n"
          ]
        }
      ],
      "source": [
        "Alexnet_model = Alexnet()\n",
        "Alexnet_model.summary()"
      ]
    },
    {
      "cell_type": "code",
      "execution_count": 18,
      "metadata": {
        "id": "VRTkwzj14mUT"
      },
      "outputs": [],
      "source": [
        "from keras.preprocessing.image import ImageDataGenerator\n",
        "from keras.callbacks import ModelCheckpoint\n",
        "from keras.callbacks import EarlyStopping\n",
        "from keras.callbacks import ReduceLROnPlateau"
      ]
    },
    {
      "cell_type": "code",
      "source": [
        "from keras.preprocessing.image import ImageDataGenerator\n",
        "\n",
        "EPOCHS = 50\n",
        "batch_size = 128\n",
        "\n",
        "es = EarlyStopping(monitor='val_loss', patience=8, verbose=1, min_delta=1e-4)\n",
        "rlrop = ReduceLROnPlateau(monitor='val_loss', factor=0.1, patience=4, verbose=1, min_delta=1e-4)"
      ],
      "metadata": {
        "id": "EWz-UHjtWUeJ"
      },
      "execution_count": 19,
      "outputs": []
    },
    {
      "cell_type": "code",
      "source": [
        "datagen = ImageDataGenerator(rotation_range = 5, width_shift_range = 0.1, \n",
        "                               height_shift_range = 0.1, horizontal_flip = True)\n",
        "\n",
        "train_it = datagen.flow_from_directory(train_path, batch_size=batch_size, target_size=(227, 227))\n",
        "validation_it = datagen.flow_from_directory(val_path, batch_size=batch_size, target_size=(227, 227))\n",
        "test_it = datagen.flow_from_directory(test_path, batch_size=batch_size, target_size=(227, 227))"
      ],
      "metadata": {
        "colab": {
          "base_uri": "https://localhost:8080/"
        },
        "id": "_AyvIFeMWVy8",
        "outputId": "10b83fa3-721f-44ae-c21f-449562d63773"
      },
      "execution_count": 20,
      "outputs": [
        {
          "output_type": "stream",
          "name": "stdout",
          "text": [
            "Found 98 images belonging to 2 classes.\n",
            "Found 25 images belonging to 2 classes.\n",
            "Found 40 images belonging to 2 classes.\n"
          ]
        }
      ]
    },
    {
      "cell_type": "code",
      "execution_count": 21,
      "metadata": {
        "id": "HimuP1Pg4ryK"
      },
      "outputs": [],
      "source": [
        "def fitAlexNet1():\n",
        "  # compile the model with a loss funciton, a metric and and optimizqation method  \n",
        "  Alexnet_model.compile(optimizer='adam', loss='categorical_crossentropy', metrics=['accuracy'])\n",
        "\n",
        "  # fit model\n",
        "  historyAlexNet1 = Alexnet_model.fit(\n",
        "      train_it, \n",
        "      steps_per_epoch=len(train_it),\n",
        "      validation_data=validation_it, \n",
        "      validation_steps=len(validation_it), \n",
        "      epochs=EPOCHS, \n",
        "      verbose=1,\n",
        "      callbacks=[rlrop])\n",
        "  \n",
        "  return historyAlexNet1"
      ]
    },
    {
      "cell_type": "code",
      "source": [
        "historyAlexNet1 = fitAlexNet1()"
      ],
      "metadata": {
        "colab": {
          "base_uri": "https://localhost:8080/"
        },
        "id": "7GLVKZnVXUvw",
        "outputId": "b91eb6ed-67b1-4a58-c363-6c46d52c5e2e"
      },
      "execution_count": 24,
      "outputs": [
        {
          "output_type": "stream",
          "name": "stdout",
          "text": [
            "Epoch 1/50\n",
            "1/1 [==============================] - 2s 2s/step - loss: 0.5833 - accuracy: 0.7041 - val_loss: 4.2276 - val_accuracy: 0.6000 - lr: 0.0010\n",
            "Epoch 2/50\n",
            "1/1 [==============================] - 1s 1s/step - loss: 3.4251 - accuracy: 0.6939 - val_loss: 2.8280 - val_accuracy: 0.4000 - lr: 0.0010\n",
            "Epoch 3/50\n",
            "1/1 [==============================] - 1s 1s/step - loss: 3.3440 - accuracy: 0.3061 - val_loss: 0.6992 - val_accuracy: 0.5600 - lr: 0.0010\n",
            "Epoch 4/50\n",
            "1/1 [==============================] - 1s 1s/step - loss: 0.7198 - accuracy: 0.4286 - val_loss: 0.6802 - val_accuracy: 0.6000 - lr: 0.0010\n",
            "Epoch 5/50\n",
            "1/1 [==============================] - 1s 1s/step - loss: 0.6608 - accuracy: 0.6939 - val_loss: 0.6784 - val_accuracy: 0.6000 - lr: 0.0010\n",
            "Epoch 6/50\n",
            "1/1 [==============================] - 1s 1s/step - loss: 0.6629 - accuracy: 0.6939 - val_loss: 0.6677 - val_accuracy: 0.6000 - lr: 0.0010\n",
            "Epoch 7/50\n",
            "1/1 [==============================] - 1s 1s/step - loss: 0.6460 - accuracy: 0.6939 - val_loss: 0.6741 - val_accuracy: 0.6000 - lr: 0.0010\n",
            "Epoch 8/50\n",
            "1/1 [==============================] - 1s 1s/step - loss: 0.6210 - accuracy: 0.6939 - val_loss: 0.6886 - val_accuracy: 0.6000 - lr: 0.0010\n",
            "Epoch 9/50\n",
            "1/1 [==============================] - 1s 1s/step - loss: 0.5915 - accuracy: 0.6939 - val_loss: 0.6543 - val_accuracy: 0.6000 - lr: 0.0010\n",
            "Epoch 10/50\n",
            "1/1 [==============================] - 1s 1s/step - loss: 0.6028 - accuracy: 0.6939 - val_loss: 0.6612 - val_accuracy: 0.6000 - lr: 0.0010\n",
            "Epoch 11/50\n",
            "1/1 [==============================] - 1s 1s/step - loss: 0.6106 - accuracy: 0.6939 - val_loss: 0.6516 - val_accuracy: 0.6000 - lr: 0.0010\n",
            "Epoch 12/50\n",
            "1/1 [==============================] - 1s 1s/step - loss: 0.5923 - accuracy: 0.6939 - val_loss: 0.6527 - val_accuracy: 0.6000 - lr: 0.0010\n",
            "Epoch 13/50\n",
            "1/1 [==============================] - 1s 1s/step - loss: 0.5702 - accuracy: 0.6939 - val_loss: 0.6588 - val_accuracy: 0.5600 - lr: 0.0010\n",
            "Epoch 14/50\n",
            "1/1 [==============================] - 1s 1s/step - loss: 0.5589 - accuracy: 0.6939 - val_loss: 0.7363 - val_accuracy: 0.6000 - lr: 0.0010\n",
            "Epoch 15/50\n",
            "1/1 [==============================] - ETA: 0s - loss: 0.5604 - accuracy: 0.6939\n",
            "Epoch 15: ReduceLROnPlateau reducing learning rate to 0.00010000000474974513.\n",
            "1/1 [==============================] - 1s 1s/step - loss: 0.5604 - accuracy: 0.6939 - val_loss: 0.7298 - val_accuracy: 0.4800 - lr: 0.0010\n",
            "Epoch 16/50\n",
            "1/1 [==============================] - 1s 1s/step - loss: 0.6916 - accuracy: 0.4898 - val_loss: 0.7781 - val_accuracy: 0.3600 - lr: 1.0000e-04\n",
            "Epoch 17/50\n",
            "1/1 [==============================] - 1s 1s/step - loss: 0.6920 - accuracy: 0.5204 - val_loss: 0.7172 - val_accuracy: 0.5200 - lr: 1.0000e-04\n",
            "Epoch 18/50\n",
            "1/1 [==============================] - 1s 1s/step - loss: 0.6661 - accuracy: 0.5612 - val_loss: 0.7267 - val_accuracy: 0.4400 - lr: 1.0000e-04\n",
            "Epoch 19/50\n",
            "1/1 [==============================] - 1s 1s/step - loss: 0.6350 - accuracy: 0.5918 - val_loss: 0.6113 - val_accuracy: 0.7200 - lr: 1.0000e-04\n",
            "Epoch 20/50\n",
            "1/1 [==============================] - 1s 1s/step - loss: 0.6064 - accuracy: 0.6735 - val_loss: 0.6570 - val_accuracy: 0.5600 - lr: 1.0000e-04\n",
            "Epoch 21/50\n",
            "1/1 [==============================] - 1s 1s/step - loss: 0.5857 - accuracy: 0.6735 - val_loss: 0.6031 - val_accuracy: 0.7200 - lr: 1.0000e-04\n",
            "Epoch 22/50\n",
            "1/1 [==============================] - 1s 1s/step - loss: 0.5470 - accuracy: 0.7449 - val_loss: 0.6533 - val_accuracy: 0.6000 - lr: 1.0000e-04\n",
            "Epoch 23/50\n",
            "1/1 [==============================] - 1s 1s/step - loss: 0.4979 - accuracy: 0.7551 - val_loss: 0.6431 - val_accuracy: 0.6000 - lr: 1.0000e-04\n",
            "Epoch 24/50\n",
            "1/1 [==============================] - 2s 2s/step - loss: 0.5481 - accuracy: 0.7245 - val_loss: 0.7559 - val_accuracy: 0.6000 - lr: 1.0000e-04\n",
            "Epoch 25/50\n",
            "1/1 [==============================] - ETA: 0s - loss: 0.5704 - accuracy: 0.7245\n",
            "Epoch 25: ReduceLROnPlateau reducing learning rate to 1.0000000474974514e-05.\n",
            "1/1 [==============================] - 2s 2s/step - loss: 0.5704 - accuracy: 0.7245 - val_loss: 0.7621 - val_accuracy: 0.6000 - lr: 1.0000e-04\n",
            "Epoch 26/50\n",
            "1/1 [==============================] - 1s 1s/step - loss: 0.5911 - accuracy: 0.7143 - val_loss: 0.7166 - val_accuracy: 0.6400 - lr: 1.0000e-05\n",
            "Epoch 27/50\n",
            "1/1 [==============================] - 1s 1s/step - loss: 0.5384 - accuracy: 0.7245 - val_loss: 0.7297 - val_accuracy: 0.5600 - lr: 1.0000e-05\n",
            "Epoch 28/50\n",
            "1/1 [==============================] - 1s 1s/step - loss: 0.5549 - accuracy: 0.7449 - val_loss: 0.7175 - val_accuracy: 0.6400 - lr: 1.0000e-05\n",
            "Epoch 29/50\n",
            "1/1 [==============================] - ETA: 0s - loss: 0.5924 - accuracy: 0.7245\n",
            "Epoch 29: ReduceLROnPlateau reducing learning rate to 1.0000000656873453e-06.\n",
            "1/1 [==============================] - 1s 1s/step - loss: 0.5924 - accuracy: 0.7245 - val_loss: 0.6795 - val_accuracy: 0.6000 - lr: 1.0000e-05\n",
            "Epoch 30/50\n",
            "1/1 [==============================] - 1s 1s/step - loss: 0.5719 - accuracy: 0.7041 - val_loss: 0.7659 - val_accuracy: 0.6800 - lr: 1.0000e-06\n",
            "Epoch 31/50\n",
            "1/1 [==============================] - 2s 2s/step - loss: 0.5802 - accuracy: 0.7143 - val_loss: 0.6818 - val_accuracy: 0.6000 - lr: 1.0000e-06\n",
            "Epoch 32/50\n",
            "1/1 [==============================] - 1s 1s/step - loss: 0.5772 - accuracy: 0.7041 - val_loss: 0.6757 - val_accuracy: 0.6400 - lr: 1.0000e-06\n",
            "Epoch 33/50\n",
            "1/1 [==============================] - ETA: 0s - loss: 0.5703 - accuracy: 0.7245\n",
            "Epoch 33: ReduceLROnPlateau reducing learning rate to 1.0000001111620805e-07.\n",
            "1/1 [==============================] - 1s 1s/step - loss: 0.5703 - accuracy: 0.7245 - val_loss: 0.7141 - val_accuracy: 0.6800 - lr: 1.0000e-06\n",
            "Epoch 34/50\n",
            "1/1 [==============================] - 1s 1s/step - loss: 0.5973 - accuracy: 0.7347 - val_loss: 0.7668 - val_accuracy: 0.5600 - lr: 1.0000e-07\n",
            "Epoch 35/50\n",
            "1/1 [==============================] - 1s 1s/step - loss: 0.5541 - accuracy: 0.7143 - val_loss: 0.6996 - val_accuracy: 0.6000 - lr: 1.0000e-07\n",
            "Epoch 36/50\n",
            "1/1 [==============================] - 1s 1s/step - loss: 0.5812 - accuracy: 0.7143 - val_loss: 0.7256 - val_accuracy: 0.6000 - lr: 1.0000e-07\n",
            "Epoch 37/50\n",
            "1/1 [==============================] - ETA: 0s - loss: 0.5619 - accuracy: 0.7245\n",
            "Epoch 37: ReduceLROnPlateau reducing learning rate to 1.000000082740371e-08.\n",
            "1/1 [==============================] - 1s 1s/step - loss: 0.5619 - accuracy: 0.7245 - val_loss: 0.7557 - val_accuracy: 0.6000 - lr: 1.0000e-07\n",
            "Epoch 38/50\n",
            "1/1 [==============================] - 1s 1s/step - loss: 0.5912 - accuracy: 0.7143 - val_loss: 0.6692 - val_accuracy: 0.6000 - lr: 1.0000e-08\n",
            "Epoch 39/50\n",
            "1/1 [==============================] - 1s 1s/step - loss: 0.5710 - accuracy: 0.7143 - val_loss: 0.6476 - val_accuracy: 0.6000 - lr: 1.0000e-08\n",
            "Epoch 40/50\n",
            "1/1 [==============================] - 1s 1s/step - loss: 0.5802 - accuracy: 0.7245 - val_loss: 0.6798 - val_accuracy: 0.5600 - lr: 1.0000e-08\n",
            "Epoch 41/50\n",
            "1/1 [==============================] - ETA: 0s - loss: 0.5787 - accuracy: 0.6939\n",
            "Epoch 41: ReduceLROnPlateau reducing learning rate to 1.000000082740371e-09.\n",
            "1/1 [==============================] - 1s 1s/step - loss: 0.5787 - accuracy: 0.6939 - val_loss: 0.7706 - val_accuracy: 0.6000 - lr: 1.0000e-08\n",
            "Epoch 42/50\n",
            "1/1 [==============================] - 1s 1s/step - loss: 0.5743 - accuracy: 0.7143 - val_loss: 0.6609 - val_accuracy: 0.6000 - lr: 1.0000e-09\n",
            "Epoch 43/50\n",
            "1/1 [==============================] - 1s 1s/step - loss: 0.5646 - accuracy: 0.7143 - val_loss: 0.6719 - val_accuracy: 0.6000 - lr: 1.0000e-09\n",
            "Epoch 44/50\n",
            "1/1 [==============================] - 1s 1s/step - loss: 0.5470 - accuracy: 0.7041 - val_loss: 0.7231 - val_accuracy: 0.6400 - lr: 1.0000e-09\n",
            "Epoch 45/50\n",
            "1/1 [==============================] - ETA: 0s - loss: 0.6560 - accuracy: 0.7041\n",
            "Epoch 45: ReduceLROnPlateau reducing learning rate to 1.000000082740371e-10.\n",
            "1/1 [==============================] - 1s 1s/step - loss: 0.6560 - accuracy: 0.7041 - val_loss: 0.8118 - val_accuracy: 0.6000 - lr: 1.0000e-09\n",
            "Epoch 46/50\n",
            "1/1 [==============================] - 1s 1s/step - loss: 0.6063 - accuracy: 0.7143 - val_loss: 0.7445 - val_accuracy: 0.5600 - lr: 1.0000e-10\n",
            "Epoch 47/50\n",
            "1/1 [==============================] - 1s 1s/step - loss: 0.5444 - accuracy: 0.7347 - val_loss: 0.7178 - val_accuracy: 0.6000 - lr: 1.0000e-10\n",
            "Epoch 48/50\n",
            "1/1 [==============================] - 1s 1s/step - loss: 0.5607 - accuracy: 0.7143 - val_loss: 0.7878 - val_accuracy: 0.6000 - lr: 1.0000e-10\n",
            "Epoch 49/50\n",
            "1/1 [==============================] - ETA: 0s - loss: 0.6130 - accuracy: 0.7143\n",
            "Epoch 49: ReduceLROnPlateau reducing learning rate to 1.000000082740371e-11.\n",
            "1/1 [==============================] - 1s 1s/step - loss: 0.6130 - accuracy: 0.7143 - val_loss: 0.6408 - val_accuracy: 0.6000 - lr: 1.0000e-10\n",
            "Epoch 50/50\n",
            "1/1 [==============================] - 1s 1s/step - loss: 0.5700 - accuracy: 0.7041 - val_loss: 0.7049 - val_accuracy: 0.5600 - lr: 1.0000e-11\n"
          ]
        }
      ]
    },
    {
      "cell_type": "code",
      "execution_count": 25,
      "metadata": {
        "colab": {
          "base_uri": "https://localhost:8080/",
          "height": 545
        },
        "id": "Y2fw7VUS69d2",
        "outputId": "7cf724cd-4681-4c70-c558-db338539bab9"
      },
      "outputs": [
        {
          "output_type": "display_data",
          "data": {
            "text/plain": [
              "<Figure size 432x288 with 1 Axes>"
            ],
            "image/png": "[encoded data removed]"
          },
          "metadata": {
            "needs_background": "light"
          }
        },
        {
          "output_type": "display_data",
          "data": {
            "text/plain": [
              "<Figure size 432x288 with 1 Axes>"
            ],
            "image/png": "[encoded data removed]"
          },
          "metadata": {
            "needs_background": "light"
          }
        }
      ],
      "source": [
        "summarize_diagnostics(historyAlexNet1)"
      ]
    },
    {
      "cell_type": "code",
      "execution_count": 26,
      "metadata": {
        "colab": {
          "base_uri": "https://localhost:8080/",
          "height": 647
        },
        "id": "w2joOSUO-N99",
        "outputId": "4f3e2f6d-f45e-44c7-ca55-f2c8e1303612"
      },
      "outputs": [
        {
          "output_type": "stream",
          "name": "stdout",
          "text": [
            "\n",
            "              precision    recall  f1-score   support\n",
            "\n",
            "      Benign       0.68      0.96      0.79        26\n",
            "   Malignant       0.67      0.14      0.24        14\n",
            "\n",
            "    accuracy                           0.68        40\n",
            "   macro avg       0.67      0.55      0.51        40\n",
            "weighted avg       0.67      0.68      0.60        40\n",
            "\n",
            "[[25  1]\n",
            " [12  2]]\n"
          ]
        },
        {
          "output_type": "display_data",
          "data": {
            "text/plain": [
              "<Figure size 432x432 with 2 Axes>"
            ],
            "image/png": "[encoded data removed]"
          },
          "metadata": {
            "needs_background": "light"
          }
        }
      ],
      "source": [
        "validateResults(Alexnet_model)"
      ]
    },
    {
      "cell_type": "markdown",
      "source": [
        "AlexNet v2"
      ],
      "metadata": {
        "id": "nINj2gybYHzv"
      }
    },
    {
      "cell_type": "code",
      "source": [
        "def fitAlexNet2():\n",
        "  model = Alexnet()\n",
        "  # compile the model with a loss funciton, a metric and and optimization method\n",
        "\n",
        "  model.compile(optimizer='adam', loss='categorical_crossentropy', metrics=['accuracy'])\n",
        "\n",
        "  datagen2 = ImageDataGenerator(rotation_range=15)\n",
        "  \n",
        "  train_it_v2 = datagen2.flow_from_directory(train_path, batch_size=batch_size, target_size=(227, 227))\n",
        "  validation_it_v2 = datagen2.flow_from_directory(val_path, batch_size=batch_size, target_size=(227, 227))\n",
        "  test_it_v2 = datagen2.flow_from_directory(test_path, batch_size=batch_size, target_size=(227, 227))\n",
        "\n",
        "  # fit model\n",
        "  historyAlexNet2 = model.fit(\n",
        "      train_it_v2, \n",
        "      steps_per_epoch=len(train_it_v2),\n",
        "      validation_data=validation_it_v2, \n",
        "      validation_steps=len(validation_it_v2), \n",
        "      epochs=EPOCHS, \n",
        "      verbose=1,\n",
        "      callbacks=[rlrop])\n",
        "  \n",
        "  return historyAlexNet2, model"
      ],
      "metadata": {
        "id": "yl1Jqba8YKBc"
      },
      "execution_count": 27,
      "outputs": []
    },
    {
      "cell_type": "code",
      "source": [
        "historyAlexNet2, alexNet2 = fitAlexNet2()"
      ],
      "metadata": {
        "colab": {
          "base_uri": "https://localhost:8080/"
        },
        "id": "wmz0DEt3YnRq",
        "outputId": "67961479-0f5a-42b9-cb5e-cff472b0d7f7"
      },
      "execution_count": 28,
      "outputs": [
        {
          "output_type": "stream",
          "name": "stdout",
          "text": [
            "Found 98 images belonging to 2 classes.\n",
            "Found 25 images belonging to 2 classes.\n",
            "Found 40 images belonging to 2 classes.\n",
            "Epoch 1/50\n",
            "1/1 [==============================] - 2s 2s/step - loss: 4.1510 - accuracy: 0.3878 - val_loss: 2637.4204 - val_accuracy: 0.6000 - lr: 0.0010\n",
            "Epoch 2/50\n",
            "1/1 [==============================] - 1s 1s/step - loss: 2240.0239 - accuracy: 0.6939 - val_loss: 2.0163 - val_accuracy: 0.6000 - lr: 0.0010\n",
            "Epoch 3/50\n",
            "1/1 [==============================] - 1s 1s/step - loss: 2.8423 - accuracy: 0.6939 - val_loss: 3.2594 - val_accuracy: 0.4000 - lr: 0.0010\n",
            "Epoch 4/50\n",
            "1/1 [==============================] - 1s 1s/step - loss: 4.0653 - accuracy: 0.3061 - val_loss: 0.8011 - val_accuracy: 0.4000 - lr: 0.0010\n",
            "Epoch 5/50\n",
            "1/1 [==============================] - 1s 1s/step - loss: 0.8687 - accuracy: 0.3061 - val_loss: 0.6826 - val_accuracy: 0.6000 - lr: 0.0010\n",
            "Epoch 6/50\n",
            "1/1 [==============================] - 1s 1s/step - loss: 0.6615 - accuracy: 0.6939 - val_loss: 0.7202 - val_accuracy: 0.6000 - lr: 0.0010\n",
            "Epoch 7/50\n",
            "1/1 [==============================] - 1s 1s/step - loss: 0.6463 - accuracy: 0.6939 - val_loss: 0.6775 - val_accuracy: 0.6000 - lr: 0.0010\n",
            "Epoch 8/50\n",
            "1/1 [==============================] - 1s 1s/step - loss: 0.6131 - accuracy: 0.6939 - val_loss: 0.6917 - val_accuracy: 0.6000 - lr: 0.0010\n",
            "Epoch 9/50\n",
            "1/1 [==============================] - 1s 1s/step - loss: 0.5918 - accuracy: 0.6939 - val_loss: 0.7141 - val_accuracy: 0.6000 - lr: 0.0010\n",
            "Epoch 10/50\n",
            "1/1 [==============================] - 1s 1s/step - loss: 0.5865 - accuracy: 0.6939 - val_loss: 0.6892 - val_accuracy: 0.5200 - lr: 0.0010\n",
            "Epoch 11/50\n",
            "1/1 [==============================] - ETA: 0s - loss: 0.6506 - accuracy: 0.5612\n",
            "Epoch 11: ReduceLROnPlateau reducing learning rate to 0.00010000000474974513.\n",
            "1/1 [==============================] - 1s 1s/step - loss: 0.6506 - accuracy: 0.5612 - val_loss: 0.6973 - val_accuracy: 0.6000 - lr: 0.0010\n",
            "Epoch 12/50\n",
            "1/1 [==============================] - 1s 1s/step - loss: 0.5270 - accuracy: 0.7041 - val_loss: 0.7118 - val_accuracy: 0.6000 - lr: 1.0000e-04\n",
            "Epoch 13/50\n",
            "1/1 [==============================] - 1s 1s/step - loss: 0.5247 - accuracy: 0.7041 - val_loss: 0.6575 - val_accuracy: 0.6400 - lr: 1.0000e-04\n",
            "Epoch 14/50\n",
            "1/1 [==============================] - 1s 1s/step - loss: 0.5410 - accuracy: 0.7143 - val_loss: 0.6669 - val_accuracy: 0.6400 - lr: 1.0000e-04\n",
            "Epoch 15/50\n",
            "1/1 [==============================] - 1s 1s/step - loss: 0.5351 - accuracy: 0.7245 - val_loss: 0.7062 - val_accuracy: 0.6000 - lr: 1.0000e-04\n",
            "Epoch 16/50\n",
            "1/1 [==============================] - 1s 1s/step - loss: 0.5214 - accuracy: 0.7857 - val_loss: 0.6690 - val_accuracy: 0.6400 - lr: 1.0000e-04\n",
            "Epoch 17/50\n",
            "1/1 [==============================] - ETA: 0s - loss: 0.5291 - accuracy: 0.7551\n",
            "Epoch 17: ReduceLROnPlateau reducing learning rate to 1.0000000474974514e-05.\n",
            "1/1 [==============================] - 1s 1s/step - loss: 0.5291 - accuracy: 0.7551 - val_loss: 0.6674 - val_accuracy: 0.6400 - lr: 1.0000e-04\n",
            "Epoch 18/50\n",
            "1/1 [==============================] - 1s 1s/step - loss: 0.5162 - accuracy: 0.7551 - val_loss: 0.6980 - val_accuracy: 0.6000 - lr: 1.0000e-05\n",
            "Epoch 19/50\n",
            "1/1 [==============================] - 1s 1s/step - loss: 0.5352 - accuracy: 0.7857 - val_loss: 0.6455 - val_accuracy: 0.6400 - lr: 1.0000e-05\n",
            "Epoch 20/50\n",
            "1/1 [==============================] - 1s 1s/step - loss: 0.5286 - accuracy: 0.7551 - val_loss: 0.6594 - val_accuracy: 0.6400 - lr: 1.0000e-05\n",
            "Epoch 21/50\n",
            "1/1 [==============================] - 1s 1s/step - loss: 0.5182 - accuracy: 0.7959 - val_loss: 0.6925 - val_accuracy: 0.6400 - lr: 1.0000e-05\n",
            "Epoch 22/50\n",
            "1/1 [==============================] - 2s 2s/step - loss: 0.5206 - accuracy: 0.7755 - val_loss: 0.6771 - val_accuracy: 0.6400 - lr: 1.0000e-05\n",
            "Epoch 23/50\n",
            "1/1 [==============================] - 1s 1s/step - loss: 0.5078 - accuracy: 0.7959 - val_loss: 0.6425 - val_accuracy: 0.6800 - lr: 1.0000e-05\n",
            "Epoch 24/50\n",
            "1/1 [==============================] - 1s 1s/step - loss: 0.5062 - accuracy: 0.7755 - val_loss: 0.6700 - val_accuracy: 0.6400 - lr: 1.0000e-05\n",
            "Epoch 25/50\n",
            "1/1 [==============================] - 1s 1s/step - loss: 0.5304 - accuracy: 0.7653 - val_loss: 0.6684 - val_accuracy: 0.6400 - lr: 1.0000e-05\n",
            "Epoch 26/50\n",
            "1/1 [==============================] - 1s 1s/step - loss: 0.5056 - accuracy: 0.7551 - val_loss: 0.6366 - val_accuracy: 0.6000 - lr: 1.0000e-05\n",
            "Epoch 27/50\n",
            "1/1 [==============================] - 1s 1s/step - loss: 0.5124 - accuracy: 0.7551 - val_loss: 0.6575 - val_accuracy: 0.6000 - lr: 1.0000e-05\n",
            "Epoch 28/50\n",
            "1/1 [==============================] - 1s 1s/step - loss: 0.4873 - accuracy: 0.7551 - val_loss: 0.6838 - val_accuracy: 0.6400 - lr: 1.0000e-05\n",
            "Epoch 29/50\n",
            "1/1 [==============================] - 1s 1s/step - loss: 0.4924 - accuracy: 0.7653 - val_loss: 0.6754 - val_accuracy: 0.6000 - lr: 1.0000e-05\n",
            "Epoch 30/50\n",
            "1/1 [==============================] - ETA: 0s - loss: 0.5133 - accuracy: 0.7653\n",
            "Epoch 30: ReduceLROnPlateau reducing learning rate to 1.0000000656873453e-06.\n",
            "1/1 [==============================] - 1s 1s/step - loss: 0.5133 - accuracy: 0.7653 - val_loss: 0.6776 - val_accuracy: 0.6400 - lr: 1.0000e-05\n",
            "Epoch 31/50\n",
            "1/1 [==============================] - 1s 1s/step - loss: 0.5027 - accuracy: 0.7551 - val_loss: 0.6459 - val_accuracy: 0.6400 - lr: 1.0000e-06\n",
            "Epoch 32/50\n",
            "1/1 [==============================] - 1s 1s/step - loss: 0.5035 - accuracy: 0.7551 - val_loss: 0.6418 - val_accuracy: 0.6000 - lr: 1.0000e-06\n",
            "Epoch 33/50\n",
            "1/1 [==============================] - 1s 1s/step - loss: 0.5342 - accuracy: 0.7755 - val_loss: 0.6580 - val_accuracy: 0.6400 - lr: 1.0000e-06\n",
            "Epoch 34/50\n",
            "1/1 [==============================] - ETA: 0s - loss: 0.5031 - accuracy: 0.7551\n",
            "Epoch 34: ReduceLROnPlateau reducing learning rate to 1.0000001111620805e-07.\n",
            "1/1 [==============================] - 1s 1s/step - loss: 0.5031 - accuracy: 0.7551 - val_loss: 0.6774 - val_accuracy: 0.6400 - lr: 1.0000e-06\n",
            "Epoch 35/50\n",
            "1/1 [==============================] - 1s 1s/step - loss: 0.5059 - accuracy: 0.7551 - val_loss: 0.6813 - val_accuracy: 0.6000 - lr: 1.0000e-07\n",
            "Epoch 36/50\n",
            "1/1 [==============================] - 1s 1s/step - loss: 0.5085 - accuracy: 0.7449 - val_loss: 0.6557 - val_accuracy: 0.6400 - lr: 1.0000e-07\n",
            "Epoch 37/50\n",
            "1/1 [==============================] - 1s 1s/step - loss: 0.5016 - accuracy: 0.7857 - val_loss: 0.7215 - val_accuracy: 0.6400 - lr: 1.0000e-07\n",
            "Epoch 38/50\n",
            "1/1 [==============================] - ETA: 0s - loss: 0.5052 - accuracy: 0.7449\n",
            "Epoch 38: ReduceLROnPlateau reducing learning rate to 1.000000082740371e-08.\n",
            "1/1 [==============================] - 1s 1s/step - loss: 0.5052 - accuracy: 0.7449 - val_loss: 0.7226 - val_accuracy: 0.6400 - lr: 1.0000e-07\n",
            "Epoch 39/50\n",
            "1/1 [==============================] - 1s 1s/step - loss: 0.5117 - accuracy: 0.7653 - val_loss: 0.6771 - val_accuracy: 0.6400 - lr: 1.0000e-08\n",
            "Epoch 40/50\n",
            "1/1 [==============================] - 1s 1s/step - loss: 0.4955 - accuracy: 0.7551 - val_loss: 0.6593 - val_accuracy: 0.6400 - lr: 1.0000e-08\n",
            "Epoch 41/50\n",
            "1/1 [==============================] - 1s 1s/step - loss: 0.5242 - accuracy: 0.7755 - val_loss: 0.7092 - val_accuracy: 0.6400 - lr: 1.0000e-08\n",
            "Epoch 42/50\n",
            "1/1 [==============================] - ETA: 0s - loss: 0.5099 - accuracy: 0.7959\n",
            "Epoch 42: ReduceLROnPlateau reducing learning rate to 1.000000082740371e-09.\n",
            "1/1 [==============================] - 1s 1s/step - loss: 0.5099 - accuracy: 0.7959 - val_loss: 0.6972 - val_accuracy: 0.6400 - lr: 1.0000e-08\n",
            "Epoch 43/50\n",
            "1/1 [==============================] - 1s 1s/step - loss: 0.5035 - accuracy: 0.7551 - val_loss: 0.6989 - val_accuracy: 0.6400 - lr: 1.0000e-09\n",
            "Epoch 44/50\n",
            "1/1 [==============================] - 1s 1s/step - loss: 0.5074 - accuracy: 0.7653 - val_loss: 0.6814 - val_accuracy: 0.6000 - lr: 1.0000e-09\n",
            "Epoch 45/50\n",
            "1/1 [==============================] - 1s 1s/step - loss: 0.5050 - accuracy: 0.7653 - val_loss: 0.7227 - val_accuracy: 0.6000 - lr: 1.0000e-09\n",
            "Epoch 46/50\n",
            "1/1 [==============================] - ETA: 0s - loss: 0.5199 - accuracy: 0.7551\n",
            "Epoch 46: ReduceLROnPlateau reducing learning rate to 1.000000082740371e-10.\n",
            "1/1 [==============================] - 1s 1s/step - loss: 0.5199 - accuracy: 0.7551 - val_loss: 0.6456 - val_accuracy: 0.6400 - lr: 1.0000e-09\n",
            "Epoch 47/50\n",
            "1/1 [==============================] - 1s 1s/step - loss: 0.5137 - accuracy: 0.7551 - val_loss: 0.7233 - val_accuracy: 0.6400 - lr: 1.0000e-10\n",
            "Epoch 48/50\n",
            "1/1 [==============================] - 1s 1s/step - loss: 0.5155 - accuracy: 0.7245 - val_loss: 0.6799 - val_accuracy: 0.6000 - lr: 1.0000e-10\n",
            "Epoch 49/50\n",
            "1/1 [==============================] - 1s 1s/step - loss: 0.5142 - accuracy: 0.7653 - val_loss: 0.6914 - val_accuracy: 0.6000 - lr: 1.0000e-10\n",
            "Epoch 50/50\n",
            "1/1 [==============================] - 1s 1s/step - loss: 0.5118 - accuracy: 0.7857 - val_loss: 0.6238 - val_accuracy: 0.6400 - lr: 1.0000e-10\n"
          ]
        }
      ]
    },
    {
      "cell_type": "code",
      "source": [
        "summarize_diagnostics(historyAlexNet2)"
      ],
      "metadata": {
        "colab": {
          "base_uri": "https://localhost:8080/",
          "height": 545
        },
        "id": "WMnqsAO_b-8M",
        "outputId": "c80a9847-5c36-43ed-8979-8495e2c444f4"
      },
      "execution_count": 29,
      "outputs": [
        {
          "output_type": "display_data",
          "data": {
            "text/plain": [
              "<Figure size 432x288 with 1 Axes>"
            ],
            "image/png": "[encoded data removed]"
          },
          "metadata": {
            "needs_background": "light"
          }
        },
        {
          "output_type": "display_data",
          "data": {
            "text/plain": [
              "<Figure size 432x288 with 1 Axes>"
            ],
            "image/png": "[encoded data removed]"
          },
          "metadata": {
            "needs_background": "light"
          }
        }
      ]
    },
    {
      "cell_type": "code",
      "source": [
        "validateResults(alexNet2)"
      ],
      "metadata": {
        "colab": {
          "base_uri": "https://localhost:8080/",
          "height": 645
        },
        "id": "HcxXKptqeIa0",
        "outputId": "188fa122-236b-492a-e331-859e6ccce3e3"
      },
      "execution_count": 30,
      "outputs": [
        {
          "output_type": "stream",
          "name": "stdout",
          "text": [
            "\n",
            "              precision    recall  f1-score   support\n",
            "\n",
            "      Benign       0.68      0.88      0.77        26\n",
            "   Malignant       0.50      0.21      0.30        14\n",
            "\n",
            "    accuracy                           0.65        40\n",
            "   macro avg       0.59      0.55      0.53        40\n",
            "weighted avg       0.61      0.65      0.60        40\n",
            "\n",
            "[[23  3]\n",
            " [11  3]]\n"
          ]
        },
        {
          "output_type": "display_data",
          "data": {
            "text/plain": [
              "<Figure size 432x432 with 2 Axes>"
            ],
            "image/png": "[encoded data removed]"
          },
          "metadata": {
            "needs_background": "light"
          }
        }
      ]
    },
    {
      "cell_type": "code",
      "source": [
        "from tensorflow.keras.optimizers import RMSprop\n",
        "def fitAlexNet3():\n",
        "  model3 = Alexnet()\n",
        "  # compile the model with a loss funciton, a metric and and optimization method\n",
        "\n",
        "  model3.compile(optimizer=RMSprop(lr=1e-4), loss='categorical_crossentropy', metrics=['accuracy'])\n",
        "\n",
        "  datagen2 = ImageDataGenerator(rotation_range=15)\n",
        "  \n",
        "  train_it_v2 = datagen2.flow_from_directory(train_path, batch_size=batch_size, target_size=(227, 227))\n",
        "  validation_it_v2 = datagen2.flow_from_directory(val_path, batch_size=batch_size, target_size=(227, 227))\n",
        "  test_it_v2 = datagen2.flow_from_directory(test_path, batch_size=batch_size, target_size=(227, 227))\n",
        "\n",
        "  # fit model\n",
        "  historyAlexNet3 = model3.fit(\n",
        "      train_it_v2, \n",
        "      steps_per_epoch=len(train_it_v2),\n",
        "      validation_data=validation_it_v2, \n",
        "      validation_steps=len(validation_it_v2), \n",
        "      epochs=EPOCHS, \n",
        "      verbose=1,\n",
        "      callbacks=[rlrop])\n",
        "  \n",
        "  return historyAlexNet3, model3"
      ],
      "metadata": {
        "id": "an6z9gDrdAt6"
      },
      "execution_count": 31,
      "outputs": []
    },
    {
      "cell_type": "code",
      "source": [
        "historyAlexNet3, alexNet3 = fitAlexNet3()"
      ],
      "metadata": {
        "colab": {
          "base_uri": "https://localhost:8080/"
        },
        "id": "s1wUBdSMdYGd",
        "outputId": "faa06c4f-fc00-4618-c83a-b440286411fc"
      },
      "execution_count": 32,
      "outputs": [
        {
          "output_type": "stream",
          "name": "stderr",
          "text": [
            "/usr/local/lib/python3.7/dist-packages/keras/optimizer_v2/rmsprop.py:130: UserWarning: The `lr` argument is deprecated, use `learning_rate` instead.\n",
            "  super(RMSprop, self).__init__(name, **kwargs)\n"
          ]
        },
        {
          "output_type": "stream",
          "name": "stdout",
          "text": [
            "Found 98 images belonging to 2 classes.\n",
            "Found 25 images belonging to 2 classes.\n",
            "Found 40 images belonging to 2 classes.\n",
            "Epoch 1/50\n",
            "1/1 [==============================] - 3s 3s/step - loss: 3.4642 - accuracy: 0.4490 - val_loss: 88.6237 - val_accuracy: 0.6000 - lr: 1.0000e-04\n",
            "Epoch 2/50\n",
            "1/1 [==============================] - 1s 1s/step - loss: 72.3084 - accuracy: 0.6939 - val_loss: 1.9791 - val_accuracy: 0.4000 - lr: 1.0000e-04\n",
            "Epoch 3/50\n",
            "1/1 [==============================] - 1s 1s/step - loss: 1.8127 - accuracy: 0.3265 - val_loss: 10.5862 - val_accuracy: 0.6000 - lr: 1.0000e-04\n",
            "Epoch 4/50\n",
            "1/1 [==============================] - 1s 1s/step - loss: 8.7273 - accuracy: 0.6939 - val_loss: 0.7632 - val_accuracy: 0.6000 - lr: 1.0000e-04\n",
            "Epoch 5/50\n",
            "1/1 [==============================] - 1s 1s/step - loss: 0.6403 - accuracy: 0.6939 - val_loss: 0.9170 - val_accuracy: 0.4000 - lr: 1.0000e-04\n",
            "Epoch 6/50\n",
            "1/1 [==============================] - 1s 1s/step - loss: 0.8991 - accuracy: 0.4592 - val_loss: 1.4404 - val_accuracy: 0.6000 - lr: 1.0000e-04\n",
            "Epoch 7/50\n",
            "1/1 [==============================] - 1s 1s/step - loss: 1.2123 - accuracy: 0.6939 - val_loss: 0.6544 - val_accuracy: 0.6000 - lr: 1.0000e-04\n",
            "Epoch 8/50\n",
            "1/1 [==============================] - 1s 1s/step - loss: 0.6071 - accuracy: 0.7143 - val_loss: 0.6329 - val_accuracy: 0.6000 - lr: 1.0000e-04\n",
            "Epoch 9/50\n",
            "1/1 [==============================] - 1s 1s/step - loss: 0.5987 - accuracy: 0.6939 - val_loss: 0.6300 - val_accuracy: 0.6800 - lr: 1.0000e-04\n",
            "Epoch 10/50\n",
            "1/1 [==============================] - 1s 1s/step - loss: 0.5948 - accuracy: 0.7041 - val_loss: 0.6388 - val_accuracy: 0.6000 - lr: 1.0000e-04\n",
            "Epoch 11/50\n",
            "1/1 [==============================] - 1s 1s/step - loss: 0.5169 - accuracy: 0.7041 - val_loss: 0.6047 - val_accuracy: 0.6800 - lr: 1.0000e-04\n",
            "Epoch 12/50\n",
            "1/1 [==============================] - 1s 1s/step - loss: 0.5531 - accuracy: 0.7143 - val_loss: 0.6231 - val_accuracy: 0.6400 - lr: 1.0000e-04\n",
            "Epoch 13/50\n",
            "1/1 [==============================] - 1s 1s/step - loss: 0.5227 - accuracy: 0.7653 - val_loss: 0.5982 - val_accuracy: 0.7600 - lr: 1.0000e-04\n",
            "Epoch 14/50\n",
            "1/1 [==============================] - 1s 1s/step - loss: 0.5199 - accuracy: 0.7653 - val_loss: 0.6019 - val_accuracy: 0.7200 - lr: 1.0000e-04\n",
            "Epoch 15/50\n",
            "1/1 [==============================] - 1s 1s/step - loss: 0.5147 - accuracy: 0.7449 - val_loss: 0.6252 - val_accuracy: 0.6800 - lr: 1.0000e-04\n",
            "Epoch 16/50\n",
            "1/1 [==============================] - 1s 1s/step - loss: 0.5218 - accuracy: 0.7449 - val_loss: 0.5895 - val_accuracy: 0.7200 - lr: 1.0000e-04\n",
            "Epoch 17/50\n",
            "1/1 [==============================] - 1s 1s/step - loss: 0.4640 - accuracy: 0.7755 - val_loss: 0.9213 - val_accuracy: 0.6000 - lr: 1.0000e-04\n",
            "Epoch 18/50\n",
            "1/1 [==============================] - 1s 1s/step - loss: 0.7316 - accuracy: 0.7041 - val_loss: 1.3571 - val_accuracy: 0.4000 - lr: 1.0000e-04\n",
            "Epoch 19/50\n",
            "1/1 [==============================] - 1s 1s/step - loss: 1.3897 - accuracy: 0.3265 - val_loss: 1.6624 - val_accuracy: 0.6000 - lr: 1.0000e-04\n",
            "Epoch 20/50\n",
            "1/1 [==============================] - ETA: 0s - loss: 1.3694 - accuracy: 0.6939\n",
            "Epoch 20: ReduceLROnPlateau reducing learning rate to 9.999999747378752e-06.\n",
            "1/1 [==============================] - 1s 1s/step - loss: 1.3694 - accuracy: 0.6939 - val_loss: 0.6443 - val_accuracy: 0.6000 - lr: 1.0000e-04\n",
            "Epoch 21/50\n",
            "1/1 [==============================] - 1s 1s/step - loss: 0.5563 - accuracy: 0.7143 - val_loss: 0.6388 - val_accuracy: 0.6000 - lr: 1.0000e-05\n",
            "Epoch 22/50\n",
            "1/1 [==============================] - 2s 2s/step - loss: 0.5675 - accuracy: 0.7347 - val_loss: 0.6286 - val_accuracy: 0.6000 - lr: 1.0000e-05\n",
            "Epoch 23/50\n",
            "1/1 [==============================] - 1s 1s/step - loss: 0.5621 - accuracy: 0.6939 - val_loss: 0.6423 - val_accuracy: 0.6000 - lr: 1.0000e-05\n",
            "Epoch 24/50\n",
            "1/1 [==============================] - ETA: 0s - loss: 0.5607 - accuracy: 0.7245\n",
            "Epoch 24: ReduceLROnPlateau reducing learning rate to 9.999999747378752e-07.\n",
            "1/1 [==============================] - 1s 1s/step - loss: 0.5607 - accuracy: 0.7245 - val_loss: 0.6381 - val_accuracy: 0.6000 - lr: 1.0000e-05\n",
            "Epoch 25/50\n",
            "1/1 [==============================] - 1s 1s/step - loss: 0.5909 - accuracy: 0.7041 - val_loss: 0.6395 - val_accuracy: 0.6000 - lr: 1.0000e-06\n",
            "Epoch 26/50\n",
            "1/1 [==============================] - 1s 1s/step - loss: 0.5500 - accuracy: 0.7551 - val_loss: 0.6312 - val_accuracy: 0.6000 - lr: 1.0000e-06\n",
            "Epoch 27/50\n",
            "1/1 [==============================] - 1s 1s/step - loss: 0.5373 - accuracy: 0.7347 - val_loss: 0.6362 - val_accuracy: 0.6400 - lr: 1.0000e-06\n",
            "Epoch 28/50\n",
            "1/1 [==============================] - ETA: 0s - loss: 0.5582 - accuracy: 0.7041\n",
            "Epoch 28: ReduceLROnPlateau reducing learning rate to 9.999999974752428e-08.\n",
            "1/1 [==============================] - 1s 1s/step - loss: 0.5582 - accuracy: 0.7041 - val_loss: 0.6409 - val_accuracy: 0.6000 - lr: 1.0000e-06\n",
            "Epoch 29/50\n",
            "1/1 [==============================] - 1s 1s/step - loss: 0.5461 - accuracy: 0.7449 - val_loss: 0.6440 - val_accuracy: 0.6000 - lr: 1.0000e-07\n",
            "Epoch 30/50\n",
            "1/1 [==============================] - 1s 1s/step - loss: 0.5220 - accuracy: 0.7449 - val_loss: 0.6400 - val_accuracy: 0.6000 - lr: 1.0000e-07\n",
            "Epoch 31/50\n",
            "1/1 [==============================] - 1s 1s/step - loss: 0.5200 - accuracy: 0.7449 - val_loss: 0.6367 - val_accuracy: 0.6000 - lr: 1.0000e-07\n",
            "Epoch 32/50\n",
            "1/1 [==============================] - ETA: 0s - loss: 0.5687 - accuracy: 0.7143\n",
            "Epoch 32: ReduceLROnPlateau reducing learning rate to 1.0000000116860975e-08.\n",
            "1/1 [==============================] - 1s 1s/step - loss: 0.5687 - accuracy: 0.7143 - val_loss: 0.6349 - val_accuracy: 0.6000 - lr: 1.0000e-07\n",
            "Epoch 33/50\n",
            "1/1 [==============================] - 1s 1s/step - loss: 0.5399 - accuracy: 0.7245 - val_loss: 0.6342 - val_accuracy: 0.6000 - lr: 1.0000e-08\n",
            "Epoch 34/50\n",
            "1/1 [==============================] - 1s 1s/step - loss: 0.5582 - accuracy: 0.7245 - val_loss: 0.6312 - val_accuracy: 0.6000 - lr: 1.0000e-08\n",
            "Epoch 35/50\n",
            "1/1 [==============================] - 1s 1s/step - loss: 0.5516 - accuracy: 0.7143 - val_loss: 0.6311 - val_accuracy: 0.6000 - lr: 1.0000e-08\n",
            "Epoch 36/50\n",
            "1/1 [==============================] - ETA: 0s - loss: 0.5514 - accuracy: 0.7347\n",
            "Epoch 36: ReduceLROnPlateau reducing learning rate to 9.999999939225292e-10.\n",
            "1/1 [==============================] - 1s 1s/step - loss: 0.5514 - accuracy: 0.7347 - val_loss: 0.6422 - val_accuracy: 0.6400 - lr: 1.0000e-08\n",
            "Epoch 37/50\n",
            "1/1 [==============================] - 1s 1s/step - loss: 0.5843 - accuracy: 0.6735 - val_loss: 0.6385 - val_accuracy: 0.6000 - lr: 1.0000e-09\n",
            "Epoch 38/50\n",
            "1/1 [==============================] - 1s 1s/step - loss: 0.5849 - accuracy: 0.7143 - val_loss: 0.6368 - val_accuracy: 0.6000 - lr: 1.0000e-09\n",
            "Epoch 39/50\n",
            "1/1 [==============================] - 1s 1s/step - loss: 0.5691 - accuracy: 0.7143 - val_loss: 0.6476 - val_accuracy: 0.6000 - lr: 1.0000e-09\n",
            "Epoch 40/50\n",
            "1/1 [==============================] - ETA: 0s - loss: 0.5743 - accuracy: 0.7041\n",
            "Epoch 40: ReduceLROnPlateau reducing learning rate to 9.999999717180686e-11.\n",
            "1/1 [==============================] - 1s 1s/step - loss: 0.5743 - accuracy: 0.7041 - val_loss: 0.6401 - val_accuracy: 0.6000 - lr: 1.0000e-09\n",
            "Epoch 41/50\n",
            "1/1 [==============================] - 1s 1s/step - loss: 0.5772 - accuracy: 0.7347 - val_loss: 0.6399 - val_accuracy: 0.6000 - lr: 1.0000e-10\n",
            "Epoch 42/50\n",
            "1/1 [==============================] - 1s 1s/step - loss: 0.5391 - accuracy: 0.7143 - val_loss: 0.6339 - val_accuracy: 0.6000 - lr: 1.0000e-10\n",
            "Epoch 43/50\n",
            "1/1 [==============================] - 1s 1s/step - loss: 0.5786 - accuracy: 0.7041 - val_loss: 0.6311 - val_accuracy: 0.6000 - lr: 1.0000e-10\n",
            "Epoch 44/50\n",
            "1/1 [==============================] - ETA: 0s - loss: 0.5795 - accuracy: 0.7041\n",
            "Epoch 44: ReduceLROnPlateau reducing learning rate to 9.99999943962493e-12.\n",
            "1/1 [==============================] - 1s 1s/step - loss: 0.5795 - accuracy: 0.7041 - val_loss: 0.6372 - val_accuracy: 0.6000 - lr: 1.0000e-10\n",
            "Epoch 45/50\n",
            "1/1 [==============================] - 1s 1s/step - loss: 0.5781 - accuracy: 0.7041 - val_loss: 0.6401 - val_accuracy: 0.6000 - lr: 1.0000e-11\n",
            "Epoch 46/50\n",
            "1/1 [==============================] - 1s 1s/step - loss: 0.5452 - accuracy: 0.7143 - val_loss: 0.6441 - val_accuracy: 0.6000 - lr: 1.0000e-11\n",
            "Epoch 47/50\n",
            "1/1 [==============================] - 1s 1s/step - loss: 0.5572 - accuracy: 0.7245 - val_loss: 0.6409 - val_accuracy: 0.6000 - lr: 1.0000e-11\n",
            "Epoch 48/50\n",
            "1/1 [==============================] - ETA: 0s - loss: 0.5827 - accuracy: 0.6939\n",
            "Epoch 48: ReduceLROnPlateau reducing learning rate to 9.999999092680235e-13.\n",
            "1/1 [==============================] - 1s 1s/step - loss: 0.5827 - accuracy: 0.6939 - val_loss: 0.6358 - val_accuracy: 0.6000 - lr: 1.0000e-11\n",
            "Epoch 49/50\n",
            "1/1 [==============================] - 1s 1s/step - loss: 0.5712 - accuracy: 0.7347 - val_loss: 0.6345 - val_accuracy: 0.6000 - lr: 1.0000e-12\n",
            "Epoch 50/50\n",
            "1/1 [==============================] - 1s 1s/step - loss: 0.5550 - accuracy: 0.7041 - val_loss: 0.6357 - val_accuracy: 0.6000 - lr: 1.0000e-12\n"
          ]
        }
      ]
    },
    {
      "cell_type": "code",
      "source": [
        "summarize_diagnostics(historyAlexNet3)"
      ],
      "metadata": {
        "colab": {
          "base_uri": "https://localhost:8080/",
          "height": 545
        },
        "id": "0q4xpDYnd6Up",
        "outputId": "9f3c0332-92cb-4426-aa72-f3196ec82357"
      },
      "execution_count": 33,
      "outputs": [
        {
          "output_type": "display_data",
          "data": {
            "text/plain": [
              "<Figure size 432x288 with 1 Axes>"
            ],
            "image/png": "[encoded data removed]"
          },
          "metadata": {
            "needs_background": "light"
          }
        },
        {
          "output_type": "display_data",
          "data": {
            "text/plain": [
              "<Figure size 432x288 with 1 Axes>"
            ],
            "image/png": "[encoded data removed]"
          },
          "metadata": {
            "needs_background": "light"
          }
        }
      ]
    },
    {
      "cell_type": "code",
      "source": [
        "validateResults(alexNet3)"
      ],
      "metadata": {
        "colab": {
          "base_uri": "https://localhost:8080/",
          "height": 647
        },
        "id": "Azg4fBNgeTAY",
        "outputId": "ec19b5a8-4dcd-4309-8a76-2db9115f9236"
      },
      "execution_count": 34,
      "outputs": [
        {
          "output_type": "stream",
          "name": "stdout",
          "text": [
            "\n",
            "              precision    recall  f1-score   support\n",
            "\n",
            "      Benign       0.68      0.96      0.79        26\n",
            "   Malignant       0.67      0.14      0.24        14\n",
            "\n",
            "    accuracy                           0.68        40\n",
            "   macro avg       0.67      0.55      0.51        40\n",
            "weighted avg       0.67      0.68      0.60        40\n",
            "\n",
            "[[25  1]\n",
            " [12  2]]\n"
          ]
        },
        {
          "output_type": "display_data",
          "data": {
            "text/plain": [
              "<Figure size 432x432 with 2 Axes>"
            ],
            "image/png": "[encoded data removed]"
          },
          "metadata": {
            "needs_background": "light"
          }
        }
      ]
    }
  ],
  "metadata": {
    "accelerator": "GPU",
    "colab": {
      "provenance": []
    },
    "gpuClass": "standard",
    "kernelspec": {
      "display_name": "Python 3",
      "name": "python3"
    },
    "language_info": {
      "name": "python"
    }
  },
  "nbformat": 4,
  "nbformat_minor": 0
}